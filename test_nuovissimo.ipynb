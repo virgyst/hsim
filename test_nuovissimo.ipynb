{
 "cells": [
  {
   "cell_type": "code",
   "execution_count": 271,
   "metadata": {},
   "outputs": [],
   "source": [
    "# -*- coding: utf-8 -*-\n",
    "from sys import path\n",
    "path.append('../')\n",
    "import hsim.core.pymulate as pym\n",
    "from hsim.core.chfsm import CHFSM, Transition, State\n",
    "import pandas as pd\n",
    "import numpy as np\n",
    "from simpy import AnyOf\n",
    "from copy import deepcopy\n",
    "from random import choices,seed,normalvariate, expovariate\n",
    "from hsim.core.stores import Store, Box       \n",
    "from scipy import stats\n",
    "import dill\n",
    "import hsim.core.utils as utils\n",
    "pd.set_option('future.no_silent_downcasting', True)"
   ]
  },
  {
   "cell_type": "code",
   "execution_count": 272,
   "metadata": {},
   "outputs": [],
   "source": [
    "\n",
    "import numpy as np\n",
    "import torch\n",
    "import torch.nn as nn\n",
    "import random\n",
    "from collections import deque \n",
    "\n",
    "def funzioneconduereturn():\n",
    "    ris1 = \"primo risultato\"\n",
    "    ris2 = \"secondo risultato\"\n",
    "    return ris1, ris2\n",
    "\n",
    "def create_entities_dataframe(generator):\n",
    "    data = []\n",
    "    for entity in generator.entities:\n",
    "        row = {'ID': entity.ID, **entity.serviceTime}\n",
    "        data.append(row)\n",
    "    df = pd.DataFrame(data)\n",
    "    return df\n",
    "def plot_service_times(service_times_log):\n",
    "    # Convert the list of dictionaries to a DataFrame for easier plotting\n",
    "    df = pd.DataFrame(service_times_log)\n",
    "\n",
    "class DQN(nn.Module):\n",
    "    def __init__(self, input_dim, output_dim):\n",
    "        super(DQN, self).__init__()\n",
    "        self.network = nn.Sequential(\n",
    "            nn.Linear(input_dim, 128),\n",
    "            nn.ReLU(),\n",
    "            nn.Linear(128, output_dim)\n",
    "        )\n",
    "    \n",
    "    def forward(self, x):\n",
    "        return self.network(x)\n",
    "\n",
    "import random\n",
    "from collections import deque\n",
    "\n",
    "class DQNAgent:\n",
    "    def __init__(self, state_dim, action_dim):\n",
    "        self.state_dim = state_dim\n",
    "        self.dim = action_dim\n",
    "        self.memory = deque(maxlen=10000)\n",
    "        self.gamma = 0.99\n",
    "        self.epsilon =1.0\n",
    "        self.epsilon_decay = 0.995\n",
    "        self.epsilon_min = 0.01\n",
    "        self.model = DQN(state_dim, action_dim)\n",
    "        self.optimizer = torch.optim.Adam(self.model.parameters(), lr=0.001)\n",
    "        self.accumulated_rewards = deque(maxlen=10000)\n",
    "        self.current_time=0\n",
    "        self.max_time= 3600\n",
    "    \n",
    "    def remember(self, state, action, reward, next_state, done):\n",
    "        self.memory.append((state, action, reward, next_state, done))\n",
    "        if done:\n",
    "            self.accumulated_rewards.append(reward)\n",
    "        else:\n",
    "            if len(self.accumulated_rewards) > 0:\n",
    "                self.accumulated_rewards[-1] += reward\n",
    "\n",
    "    def act(self, state):\n",
    "        if isinstance(state, pd.DataFrame):\n",
    "            state = state.fillna(0)  # Riempie i valori NaN con 0\n",
    "            state = state.infer_objects(copy=False)\n",
    "            type_col_index = state.columns.get_loc('type')\n",
    "            states = state.to_numpy()\n",
    "        # Filtra gli indici degli elementi di tipo batch\n",
    "        batch_indices = [i for i, row in enumerate(states) if row[type_col_index] == 0]  # Assumendo che l'ultima colonna sia 'type'\n",
    "\n",
    "        if np.random.rand() <= self.epsilon:\n",
    "            return random.choice(batch_indices)  # Seleziona un'azione casuale tra gli indici batch\n",
    "        \n",
    "        states = torch.FloatTensor(states).unsqueeze(0)\n",
    "        act_values = self.model.forward(states)\n",
    "        \n",
    "        # Seleziona l'azione con il valore massimo tra gli indici batch\n",
    "        batch_act_values = act_values[batch_indices, :]\n",
    "        return batch_indices[torch.argmax(batch_act_values, dim=1).item()]\n",
    "    \n",
    "    # def concatenate_state_dataframes(self, batch_df, machine_df):\n",
    "    #     batch_df['type'] = 0  # 0 per batch\n",
    "    #     machine_df['type'] = 1  # 1 per macchina\n",
    "    #     df= pd.concat([batch_df, machine_df], axis=0, sort=False).reset_index(drop=True)\n",
    "    #     df.to_excel('df.xlsx')\n",
    "    #     return df\n",
    "    \n",
    "    def replay(self, batch_size):\n",
    "        if len(self.memory) < batch_size:\n",
    "            return\n",
    "        minibatch = random.sample(self.memory, batch_size)\n",
    "        for state, action, reward, next_state, done in minibatch:\n",
    "            if isinstance(state, pd.DataFrame):\n",
    "                state = state.to_numpy()\n",
    "            if isinstance(next_state, pd.DataFrame):\n",
    "                next_state = next_state.to_numpy()\n",
    "            target = reward\n",
    "            if not done:\n",
    "                next_state = torch.FloatTensor(next_state).unsqueeze(0)\n",
    "                target = reward + self.gamma * torch.max(self.model(next_state)).item()\n",
    "            state = torch.FloatTensor(state).unsqueeze(0)\n",
    "            target_f = self.model(state)\n",
    "            target_f[0][action] = target\n",
    "            self.optimizer.zero_grad()\n",
    "            loss = self.criterion(target_f, self.model(state))\n",
    "            loss.backward()\n",
    "            self.optimizer.step()\n",
    "        if self.epsilon > self.epsilon_min:\n",
    "            self.epsilon *= self.epsilon_decay\n",
    "    def is_done(self,env):\n",
    "        if env.now >= self.max_time:\n",
    "            print(\"Simulation finished\")\n",
    "            return True\n",
    "        print(\"Simulation not finished\")\n",
    "        return False\n",
    "    def calculate_reward(self, makespan):\n",
    "        return -makespan"
   ]
  },
  {
   "cell_type": "code",
   "execution_count": 333,
   "metadata": {},
   "outputs": [],
   "source": [
    "class Generator(pym.Generator):\n",
    "    def __init__(self,env,name=None,serviceTime=2,serviceTimeFunction=None):\n",
    "        super().__init__(env,name,serviceTime,serviceTimeFunction)\n",
    "        self.count = 0\n",
    "        self.entities=[]\n",
    "        self.service_time_log=[]\n",
    "    def createEntity(self):\n",
    "        self.count += 1\n",
    "        # return Entity()\n",
    "        e = Entity()#ID=self.count)\n",
    "        #e.serviceTime = dict()\n",
    "        e.serviceTime['front'] = 10.52\n",
    "        e.serviceTime['drill'] = choices([3.5, 8.45, 9.65, 11.94],weights=[5,30,30,35])[0] ## Insert the possibility of skipping this stage\n",
    "        e.serviceTime['robot'] = choices([0, 81, 105, 108 ,120],weights=[91,3,2,2,2])[0]\n",
    "        # e.serviceTime['camera'] = choices([3,9,12,18,24],weights=[2,3,1,2,2])[0]\n",
    "        e.serviceTime['camera'] = 3.5+expovariate(1/7.1)\n",
    "        e.serviceTime['back'] = choices([3.5,10.57],weights=[0.1,0.9])[0]\n",
    "        # e.serviceTime['press'] = choices([3,9,15])[0]\n",
    "        if e.serviceTime['back']>0:\n",
    "            e.serviceTime['press'] = 3.5+expovariate(1/9.5)\n",
    "        else:\n",
    "            e.serviceTime['press'] = 3.5\n",
    "        e.serviceTime['manual'] = max(np.random.normal(9.2,1),0)\n",
    "        #print(f\"Entity {self.count} service times: {e.serviceTime}\")\n",
    "        self.entities.append(e)\n",
    "        self.service_time_log.append(e.serviceTime)\n",
    "        return e\n",
    "    def get_entities_service_times(self):\n",
    "        return [(e, e.serviceTime) for e in self.entities]\n",
    "    \n",
    "class Entity:\n",
    "    _id_counter=0\n",
    "    def __init__(self,ID=None):\n",
    "        if ID is None:\n",
    "            self.ID = Entity._id_counter\n",
    "            Entity._id_counter += 1\n",
    "            # print(f\"sto creando un Entity ID: {self.ID}\")\n",
    "        else:\n",
    "            self.ID = ID\n",
    "        self.rework = False\n",
    "        self.serviceTime = dict()\n",
    "        # self.pt['M3'] = 1\n",
    "    @classmethod\n",
    "    def reset_id_counter(cls):\n",
    "        cls._id_counter = 0\n",
    "    @property\n",
    "    def require_robot(self):\n",
    "        if self.serviceTime['robot']>0:\n",
    "            return True\n",
    "        else:\n",
    "            return False\n",
    "    @property\n",
    "    def ok(self):\n",
    "        return not (self.rework and self.require_robot)\n",
    "    def done(self):\n",
    "        self.rework = False\n",
    "                \n",
    "class LabServer(pym.Server):\n",
    "    def __init__(self,env,name=None,serviceTime=None,serviceTimeFunction=None):\n",
    "        self.controller = None\n",
    "        # serviceTime = 10\n",
    "        super().__init__(env,name,serviceTime,serviceTimeFunction)\n",
    "    def calculateServiceTime(self,entity=None,attribute='serviceTime'):\n",
    "        if not entity.ok:\n",
    "            return 20 #3.5 ### qua andrà messo 10/20 volte maggiore degli altri processing time?\n",
    "        else:\n",
    "            print(\"service time\")\n",
    "            print(super().calculateServiceTime(entity,attribute))\n",
    "            return super().calculateServiceTime(entity,attribute)\n",
    "    def completed(self):\n",
    "        if self.var.entity.ok:\n",
    "            self.controller.Messages.put(self.name)\n",
    "    T2=Transition(pym.Server.Working, pym.Server.Blocking, lambda self: self.env.timeout(self.calculateServiceTime(self.var.entity)), action = lambda self: self.completed())\n",
    "    T3=Transition(pym.Server.Blocking, pym.Server.Starving, lambda self: self.Next.put(self.var.entity),action=lambda self: [self.var.request.confirm(), self.sm.var.entity.done() if self.sm._name=='robot' else None])\n",
    "\n",
    "def plot_service_times(service_times_log):\n",
    "    df = pd.DataFrame(service_times_log)\n",
    "    df.plot(kind='bar', stacked=True, figsize=(10, 6))\n",
    "    plt.xlabel('Entity')\n",
    "    plt.ylabel('Service Time')\n",
    "    plt.title('Service Times of Entities')\n",
    "    plt.legend(title='Service Stages')\n",
    "    plt.show()\n",
    "\n",
    "\n",
    "class Terminator(pym.Terminator):\n",
    "    def __init__(self, env, capacity=np.inf):\n",
    "        super().__init__(env, capacity)\n",
    "        self.controller = None\n",
    "        self.register = list()\n",
    "    def completed(self):\n",
    "        if not self.trigger.triggered:\n",
    "            self.trigger.succeed()\n",
    "    def put(self,item):\n",
    "        self.register.append(self._env.now)\n",
    "        self.controller.Messages.put('terminator')\n",
    "        return super().put(item)\n",
    "    def subscribe(self,item):\n",
    "        self.register.append(self._env.now)\n",
    "        self.controller.Messages.put('terminator')\n",
    "        return super().subscribe(item)\n",
    "class Gate(CHFSM):\n",
    "    def __init__(self,env,statedim,actiondim):\n",
    "        self.real = True\n",
    "        self.default_request_count = 0\n",
    "        self.capacity = 30\n",
    "        self.lab = None\n",
    "        self.initialWIP = 12\n",
    "        self.targetWIP = 12\n",
    "        self.request = None\n",
    "        self.message = env.event()\n",
    "        self.WIP = 0\n",
    "        self.WIPlist = list()\n",
    "        self.dones=False \n",
    "        self.dqn_agent = DQNAgent(state_dim=statedim, action_dim=actiondim)\n",
    "        super().__init__(env) #prima era in fondo ai self\n",
    "# # #AGGIUNTA\n",
    "    def get_current_state(self):\n",
    "        c=lab.g.get_entities_service_times()\n",
    "        c_df = pd.DataFrame([\n",
    "            {'id': e.ID, 'Entity': e, **serviceTime} for e, serviceTime in c\n",
    "        ])\n",
    "        b_df = pd.DataFrame(b)\n",
    "        b_df=pd.concat([b_df['id'],b_df['Entity'], pd.DataFrame(b_df['serviceTime'].tolist())],axis=1)\n",
    "        self.batch_df = pd.concat([b_df,c_df],axis=0)\n",
    "        self.spazio_stati=self.batch_df\n",
    "        return self.spazio_stati\n",
    "    def action_to_request(self,azione,batch_df):\n",
    "        stato_corrente = self.get_current_state()\n",
    "        indice_batch = batch_df.index[azione]\n",
    "        if azione < len(batch_df.index):\n",
    "            indice_batch = batch_df.index[azione]\n",
    "            self.entityprod=batch_df['Entity'].iloc[indice_batch]\n",
    "            return self.entityprod\n",
    "        else:\n",
    "            raise IndexError(f\"azione {azione} is out of bounds for batch_df with size {len(batch_df.index)}\")\n",
    "    def get_next_state(self,batch_df):\n",
    "        batch_df_new=batch_df.drop(self.entityprod.ID)\n",
    "        return self.get_current_state()\n",
    "         \n",
    "        \n",
    "\n",
    "    # else:\n",
    "    #         raise AttributeError(\"self.env.log is not a DataFrame\")\n",
    "\n",
    "    def get_reward(self,x):\n",
    "        makespan = x.timeOut.max()-x.timeIn.min()\n",
    "        reward = self.dqn_agent.calculate_reward(makespan)\n",
    "        return reward\n",
    "    def doneboole(self,env):\n",
    "        self.dones=self.dqn_agent.is_done(env)\n",
    "        return self.dones\n",
    "    \n",
    "    def condition(self, item, scheduled_request):\n",
    "        if scheduled_request in self.Store.items:\n",
    "            # return item == self.Store.items[scheduled_request]\n",
    "            return lab.gate.Store.get(scheduled_request)\n",
    "        else:\n",
    "            # Gestisci il caso in cui l'indice sia fuori dai limiti\n",
    "            print(f\"Indice {scheduled_request} fuori dai limiti\")\n",
    "            return False\n",
    "\n",
    "    \n",
    "    # def get(self, condition):\n",
    "    #     for item in self.Store.items:\n",
    "    #         if condition(item):\n",
    "    #             return item\n",
    "    #     return None\n",
    "\n",
    "    # def custom_condition(self, item, scheduled_request):\n",
    "    #     return self.condition(item, scheduled_request)\n",
    "\n",
    "#FINE AGGIUNTA\n",
    "    def build(self):\n",
    "        self.Store = pym.Store(self.env,self.capacity)\n",
    "        self.Messages = pym.Store(self.env)\n",
    "    def put(self,item):\n",
    "        return self.Store.put(item)\n",
    "    class Loading(State):\n",
    "        def _do(self):\n",
    "            # print('Load: %d' %self.sm.initialWIP)\n",
    "            self.sm.initialWIP -= 1\n",
    "            self.fw()\n",
    "    class Waiting(State):\n",
    "        initial_state = True\n",
    "        def _do(self):\n",
    "            self.sm.message = self.Messages.subscribe()\n",
    "            if self.sm.initialWIP > 0:\n",
    "                self.initial_timeout = self.env.timeout(1)\n",
    "            else:\n",
    "                self.initial_timeout = self.env.event()\n",
    "    class Forwarding(State):\n",
    "        def _do(self):\n",
    "            self.message.confirm()\n",
    "            if self.message.value == 'terminator':\n",
    "                self.sm.WIP -= 1\n",
    "                self.sm.WIPlist.append([self.env.now,self.WIP])\n",
    "            self.FIFO()\n",
    "            self.CONWIP()\n",
    "    def CONWIP(self):\n",
    "        if self.message.value == 'terminator':\n",
    "            self.fw()\n",
    "    def FIFO(self):\n",
    "        pass \n",
    "    def fw(self):     \n",
    "        self.request = None\n",
    "        if self.request is None:\n",
    "            #self.request = self.Store.get()\n",
    "#INIZIO NUOVO CODICE\n",
    "\n",
    "            current_state = self.get_current_state(lab.batch_df, lab.machine_df)\n",
    "            action = self.dqn_agent.act(current_state)\n",
    "            # Mappa l'azione selezionata in una richiesta effettiva\n",
    "            scheduled_request = self.action_to_request(action, lab.batch_df, lab.machine_df)\n",
    "\n",
    "            # Assume reward and next_state are obtained from the environment\n",
    "            reward = self.get_reward(current_state)\n",
    "            next_state = self.get_next_state(lab.batch_df, lab.machine_df)\n",
    "            self.dones = self.doneboole(self.env)\n",
    "\n",
    "            # Remember the experience\n",
    "            self.dqn_agent.remember(current_state, action, reward, next_state, self.dones)\n",
    "            \n",
    "            # if scheduled_request is not None:\n",
    "            self.request = self.condition(0, scheduled_request)\n",
    "            print(f\"questa è la richiesta {scheduled_request}\")\n",
    "            print(type(scheduled_request))\n",
    "            print(f'AAAAAAAAAAAA {scheduled_request.ID}')\n",
    "            print(f\"questo è il request {self.request}\")\n",
    "\n",
    "\n",
    "        else:\n",
    "            self.request = self.Store.get()\n",
    "            print(type(self.request))\n",
    "            self.default_request_count += 1\n",
    "            print(\"NON FUNZIONA\")\n",
    "            # Controllo se la soglia è stata superata\n",
    "        if len(self.dqn_agent.memory) > 30:\n",
    "            # Perform replay to train the network\n",
    "            self.dqn_agent.replay()\n",
    "            self.default_request_count = 0            \n",
    "#fine nuovo codice\n",
    "        try:\n",
    "            self.Next.put(self.request.value)\n",
    "            self.request = None\n",
    "            self.WIP += 1\n",
    "            self.WIPlist.append([self.env.now,self.WIP])\n",
    "        except:\n",
    "            pass\n",
    "        \n",
    "            # print('Empty at %s' %self.env.now)\n",
    "    T0 = Transition(Waiting,Loading,lambda self: self.initial_timeout)\n",
    "    T1 = Transition(Waiting,Forwarding,lambda self: self.sm.message)\n",
    "    T2 = Transition(Loading,Waiting,None)\n",
    "    T3 = Transition(Forwarding,Waiting,None)\n",
    "\n",
    "class Router(pym.Router):\n",
    "    def __deepcopy(self,memo):\n",
    "        super().deepcopy(self,memo)\n",
    "    def __init__(self, env, name=None):\n",
    "        super().__init__(env, name)\n",
    "        self.var.requestOut = []\n",
    "        self.var.sent = []\n",
    "        self.putEvent = env.event()\n",
    "    def build(self):\n",
    "        self.Queue = Box(self.env)\n",
    "    def condition_check(self,item,target):\n",
    "        return True\n",
    "    def put(self,item):\n",
    "        if self.putEvent.triggered:\n",
    "            self.putEvent.restart()\n",
    "        self.putEvent.succeed()\n",
    "        return self.Queue.put(item)\n",
    "    class Sending(State):\n",
    "        initial_state = True\n",
    "        def _do(self):\n",
    "            self.sm.putEvent.restart()\n",
    "            self.sm.var.requestIn = self.sm.putEvent\n",
    "            self.sm.var.requestOut = [item for sublist in [[next.subscribe(item) for next in self.sm.Next if self.sm.condition_check(item,next)] for item in self.sm.Queue.items] for item in sublist]\n",
    "            if self.sm.var.requestOut == []:\n",
    "                self.sm.var.requestOut.append(self.sm.var.requestIn)\n",
    "    S2S2 = Transition(Sending,Sending,lambda self:AnyOf(self.env,self.var.requestOut),condition=lambda self:self.var.requestOut != [])\n",
    "    def action2(self):\n",
    "        self.Queue._trigger_put(self.env.event())\n",
    "        if not hasattr(self.var.requestOut[0],'item'):\n",
    "            return\n",
    "        for request in self.var.requestOut:\n",
    "            if not request.item in self.Queue.items:\n",
    "                request.cancel()\n",
    "                continue\n",
    "            if request.triggered:\n",
    "                if request.check():\n",
    "                    request.confirm()\n",
    "                    self.Queue.forward(request.item)\n",
    "                    continue\n",
    "    S2S2._action = action2\n",
    "'''  \n",
    "from pymulate import RouterNew\n",
    "class Router(RouterNew):\n",
    "    def __init__(self, env, name=None):\n",
    "        capacity=1\n",
    "        super().__init__(env, name,capacity)\n",
    "'''\n",
    "class RobotSwitch1(Router):\n",
    "    def condition_check(self, item, target):\n",
    "        if item.require_robot:\n",
    "            item.rework = True\n",
    "        if item.require_robot and target.name == 'convRobot1S':\n",
    "            return True\n",
    "        elif not item.require_robot and target.name != 'convRobot1S':\n",
    "            return True\n",
    "        else:\n",
    "            return False\n",
    "            \n",
    "class RobotSwitch2(Router):\n",
    "    def condition_check(self, item, target):\n",
    "        if len(target.Next)<2:\n",
    "            item.rework = False\n",
    "            return True\n",
    "        else:\n",
    "            item.rework = True\n",
    "            return False    \n",
    "\n",
    "class CloseOutSwitch(Router):\n",
    "    def condition_check(self, item, target):\n",
    "        if item.ok and type(target) == Terminator:\n",
    "            return True\n",
    "        elif not item.ok and type(target) != Terminator:\n",
    "            return True\n",
    "        else:\n",
    "            return False\n",
    "        \n",
    "# class Conveyor(pym.ParallelServer):\n",
    "#     def __init__(self,env,name=None,serviceTime=None,serviceTimeFunction=None,capacity=1):\n",
    "#         self._capacity = capacity\n",
    "#         serviceTime = capacity*3.5\n",
    "#         super().__init__(env,name,serviceTime,serviceTimeFunction,capacity)\n",
    "class Conveyor(pym.Conveyor):\n",
    "    def __init__(self,env,name=None,capacity=3):\n",
    "        super().__init__(env,name,capacity,0.75)\n",
    "        \n",
    "def newDT():\n",
    "    lab = globals()['lab']\n",
    "    deepcopy(lab)\n",
    "\n",
    "def newEntity(): #viene usata all interno di batch create\n",
    "    e = Entity()\n",
    "    e.serviceTime['front'] = 10.52\n",
    "    e.serviceTime['drill'] = 40 #choices([3.5, 8.45, 9.65, 11.94],weights=[5,30,30,35])[0]\n",
    "    e.serviceTime['robot'] = choices([0, 81, 105, 108 ,120],weights=[91,3,2,2,2])[0]\n",
    "    e.serviceTime['camera'] = 3.5+expovariate(1/7.1)\n",
    "    e.serviceTime['back'] = choices([3.5,10.57],weights=[0.1,0.9])[0]\n",
    "    if e.serviceTime['back']>0:\n",
    "        e.serviceTime['press'] = 3.5+expovariate(1/9.5)\n",
    "    else:\n",
    "        e.serviceTime['press'] = 3.5\n",
    "    e.serviceTime['manual'] = max(np.random.normal(9.2,1),0)\n",
    "    return e\n",
    "\n",
    "\n",
    "def batchCreate(seed=1,numJobs=10,return_both=False):\n",
    "    np.random.seed(seed)\n",
    "    jList = []\n",
    "    complist = []\n",
    "    while len(jList)<numJobs:\n",
    "        e=newEntity()\n",
    "        # num = round(np.random.triangular(1,numJobs/2,numJobs))\n",
    "        # # print(num)\n",
    "        # for i in range(num):\n",
    "        jList.append(deepcopy(e))\n",
    "        entity_info = {\n",
    "                'id': e.ID,\n",
    "                'Entity': e,\n",
    "                'serviceTime': e.serviceTime\n",
    "                }\n",
    "        complist.append(deepcopy(entity_info))\n",
    "        if len(jList)>=numJobs:  # l'ho aggiunto io per evitare che si creino più entità di quelle richieste\n",
    "            break\n",
    "    if return_both:\n",
    "        return jList, complist\n",
    "    else:\n",
    "        return jList\n",
    "\n",
    "class Lab:\n",
    "    def __init__(self,b, name=\"DefaultName\"):\n",
    "        self.name=name\n",
    "        self.a = \"Initial_state\"\n",
    "        conveyTime = 6\n",
    "        self.env = pym.Environment() #crea l'ambiente\n",
    "        self.g = Generator(self.env) #genera un nuovo pezzo\n",
    "        self.a=self.env.log  #ambiente stati macchine\n",
    "        c=lab.g.get_entities_service_times()\n",
    "        c_df = pd.DataFrame([\n",
    "            {'id': e.ID, 'Entity': e, **serviceTime} for e, serviceTime in c\n",
    "        ])\n",
    "        self.b_df = pd.DataFrame(b)\n",
    "        b_df=pd.concat([b_df['id'],b_df['Entity'], pd.DataFrame(b_df['serviceTime'].tolist())],axis=1)\n",
    "        self.batch_df = pd.concat([b_df,c_df],axis=0)\n",
    "        print(len(self.batch_df))\n",
    "        dim_state=self.batch_df.shape[1]\n",
    "        action_dim=len(self.batch_df)\n",
    "        self.gate = Gate(self.env,statedim=dim_state,actiondim=action_dim) #da togliere ma ci sarà bisogno di modifiche #gestisce l'ingresso dei pezzi\n",
    "        \n",
    "        # DR= despaching rule OR=order release \n",
    "        # self.conv1 = Conveyor(self.env,capacity=3)\n",
    "        self.conv1S = pym.Server(self.env,serviceTime=conveyTime) \n",
    "        self.conv1Q = pym.Queue(self.env,capacity=2)\n",
    "        self.front = LabServer(self.env,'front')\n",
    "        # self.conv2 = Conveyor(self.env,capacity=3)\n",
    "        self.conv2S = pym.Server(self.env,serviceTime=conveyTime)\n",
    "        self.conv2Q = pym.Queue(self.env,capacity=2)\n",
    "        self.drill = LabServer(self.env,'drill')\n",
    "        # self.conv3 = Conveyor(self.env,capacity=3)\n",
    "        self.conv3S = pym.Server(self.env,serviceTime=conveyTime)\n",
    "        self.conv3Q = pym.Queue(self.env,capacity=2)\n",
    "\n",
    "        \n",
    "        self.switch1 = RobotSwitch1(self.env)\n",
    "        # self.convRobot1 = Conveyor(self.env,'convRobot1',capacity=3)\n",
    "        self.convRobot1S = pym.Server(self.env,serviceTime=conveyTime,name='convRobot1S')\n",
    "        self.convRobot1Q = pym.Queue(self.env,capacity=2)\n",
    "\n",
    "        # self.bridge = Conveyor(self.env,capacity=3)\n",
    "        self.bridgeS = pym.Server(self.env,serviceTime=conveyTime)\n",
    "        self.bridgeQ = pym.Queue(self.env,capacity=2)\n",
    "\n",
    "        # self.convRobot2 = Conveyor(self.env,'convRobot2',capacity=3)\n",
    "        self.convRobot2S = pym.Server(self.env,serviceTime=conveyTime)\n",
    "        self.convRobot2Q = pym.Queue(self.env,capacity=2)\n",
    "\n",
    "        self.switch2 = RobotSwitch2(self.env)\n",
    "        # self.convRobot3 = Conveyor(self.env,capacity=3)\n",
    "        self.convRobot3S = pym.Server(self.env,serviceTime=conveyTime)\n",
    "        self.convRobot3Q = pym.Queue(self.env,capacity=2)\n",
    "\n",
    "        self.robot = LabServer(self.env,'robot')\n",
    "        # self.convRobotOut = Conveyor(self.env,capacity=3)\n",
    "        self.convRobotOutS = pym.Server(self.env,serviceTime=conveyTime)\n",
    "        self.convRobotOutQ = pym.Queue(self.env,capacity=2)\n",
    "        # self.conv5 = Conveyor(self.env,capacity=3)\n",
    "        self.conv5S = pym.Server(self.env,serviceTime=conveyTime)\n",
    "        self.conv5Q = pym.Queue(self.env,capacity=2)\n",
    "\n",
    "        self.camera = LabServer(self.env,'camera')\n",
    "        # self.conv6 = Conveyor(self.env,capacity=3)\n",
    "        self.conv6S = pym.Server(self.env,serviceTime=conveyTime)\n",
    "        self.conv6Q = pym.Queue(self.env,capacity=2)\n",
    "\n",
    "        self.back = LabServer(self.env,'back')\n",
    "        # self.conv7 = Conveyor(self.env,capacity=3)\n",
    "        self.conv7S = pym.Server(self.env,serviceTime=conveyTime)\n",
    "        self.conv7Q = pym.Queue(self.env,capacity=2)\n",
    "\n",
    "        self.press = LabServer(self.env,'press')\n",
    "        # self.conv8 = Conveyor(self.env,capacity=3)\n",
    "        self.conv8S = pym.Server(self.env,serviceTime=conveyTime)\n",
    "        self.conv8Q = pym.Queue(self.env,capacity=2)\n",
    "\n",
    "        self.manual = LabServer(self.env,'manual')\n",
    "        self.outSwitch = CloseOutSwitch(self.env)\n",
    "        self.terminator = Terminator(self.env)\n",
    "        \n",
    "        self.g.Next = self.gate\n",
    "        self.gate.Next = self.conv1S\n",
    "        \n",
    "        # self.conv1.Next = self.front\n",
    "        self.conv1S.Next = self.conv1Q\n",
    "        self.conv1Q.Next = self.front\n",
    "\n",
    "        self.front.Next = self.conv2S\n",
    "        # self.conv2.Next = self.drill\n",
    "        self.conv2S.Next = self.conv2Q\n",
    "        self.conv2Q.Next = self.drill\n",
    "        self.drill.Next = self.conv3S\n",
    "        self.conv3S.Next = self.conv3Q\n",
    "        self.conv3Q.Next = self.switch1\n",
    "        # self.conv3.Next = self.switch1\n",
    "        \n",
    "        self.switch1.Next = [self.convRobot1S,self.bridgeS]\n",
    "        self.convRobot1S.Next = self.convRobot1Q\n",
    "        self.convRobot1Q.Next = self.switch2\n",
    "\n",
    "        self.switch2.Next = [self.convRobot2S,self.convRobot3S]\n",
    "        self.convRobot2S.Next = self.convRobot2Q\n",
    "        self.convRobot2Q.Next = self.robot\n",
    "\n",
    "        self.convRobot3S.Next = self.convRobot3Q\n",
    "        self.convRobot3Q.Next = self.convRobotOutS\n",
    "\n",
    "        self.robot.Next = self.convRobotOutS\n",
    "        self.convRobotOutS.Next = self.convRobotOutQ\n",
    "\n",
    "        self.convRobotOutQ.Next = self.conv5S\n",
    "        self.bridgeS.Next = self.bridgeQ\n",
    "        self.bridgeQ.Next = self.conv5S\n",
    "\n",
    "        \n",
    "        self.conv5S.Next = self.conv5Q\n",
    "        self.conv5Q.Next = self.camera\n",
    "\n",
    "        self.camera.Next = self.conv6S\n",
    "        self.conv6S.Next = self.conv6Q\n",
    "        self.conv6Q.Next = self.back\n",
    "\n",
    "        self.back.Next = self.conv7S\n",
    "        self.conv7S.Next = self.conv7Q\n",
    "        self.conv7Q.Next = self.press\n",
    "\n",
    "        self.press.Next = self.conv8S\n",
    "        self.conv8S.Next = self.conv8Q\n",
    "        self.conv8Q.Next = self.manual\n",
    "\n",
    "        self.manual.Next = self.outSwitch\n",
    "        self.outSwitch.Next = [self.conv1S,self.terminator]\n",
    "        \n",
    "        for x in [self.front,self.drill,self.robot,self.camera,self.back,self.press,self.manual]:\n",
    "            x.controller = self.gate\n",
    "        self.terminator.controller = self.gate\n",
    "        self.gate.lab = self\n",
    "\n",
    "       \n",
    "\n",
    "    def run(self,Tend):\n",
    "        self.env.run(Tend)\n",
    "       #return pd.DataFrame(self.env.state_log)\n",
    "        return self.env.state_log\n",
    "\n",
    "\n",
    "\n",
    "\n",
    "# import sys\n",
    "# sys.path.insert(0,'C:/Users/Lorenzo/Dropbox (DIG)/Tesisti/Giovanni Zanardo/Python')\n",
    "# from Foresighted_DT_function import BN_detection\n",
    "\n",
    "# BN_detection(lab.env.state_log,0,lab.env.now)\n",
    "\n",
    "# class Result:\n",
    "#     def __init__(self,time,BN,OR,DR,production,arrivals,WIPlist,BNlist,state_log):\n",
    "#         self.time=time\n",
    "#         self.BN=BN\n",
    "#         self.OR=OR\n",
    "#         self.DR=DR\n",
    "#         self.production=production\n",
    "#         self.arrivals=arrivals\n",
    "#         self.WIPlist = WIPlist\n",
    "#         self.state_log=state_log\n",
    "#         self.BNlist = BNlist\n",
    "#     @property\n",
    "#     def avgWIP(self):\n",
    "#         integral = 0.0\n",
    "#         prev_time = None\n",
    "#         prev_value = None\n",
    "#         # Iterate over the data points and compute the integral\n",
    "#         for time, value in self.WIPlist:\n",
    "#             if prev_time is not None and prev_value is not None:\n",
    "#                 dt = time - prev_time\n",
    "#                 integral += prev_value * dt\n",
    "#             prev_time = time\n",
    "#             prev_value = value\n",
    "#         return integral/time\n",
    "#     @property\n",
    "#     def productivity(self):\n",
    "#         return (3600/pd.DataFrame(self.arrivals).diff()).describe()\n",
    "#     @property\n",
    "#     def CI(self):\n",
    "#         prod = self.productivity\n",
    "#         tinv = stats.t.ppf(1-0.05/2, prod[0][0])\n",
    "#         return prod[0][1] - prod[0][2]*tinv/np.sqrt(prod[0][0]), prod[0][1] + prod[0][2]*tinv/np.sqrt(prod[0][0])\n",
    "\n",
    "\n",
    "\n"
   ]
  },
  {
   "cell_type": "code",
   "execution_count": 264,
   "metadata": {},
   "outputs": [
    {
     "data": {
      "text/plain": [
       "<__main__.Entity at 0x185369427d0>"
      ]
     },
     "execution_count": 264,
     "metadata": {},
     "output_type": "execute_result"
    }
   ],
   "source": [
    "lab.gate.entityprod"
   ]
  },
  {
   "cell_type": "code",
   "execution_count": 338,
   "metadata": {},
   "outputs": [
    {
     "name": "stdout",
     "output_type": "stream",
     "text": [
      "10\n",
      "Simulation not finished\n",
      "Indice <__main__.Entity object at 0x000001853B293C10> fuori dai limiti\n",
      "questa è la richiesta <__main__.Entity object at 0x000001853B293C10>\n",
      "<class '__main__.Entity'>\n",
      "AAAAAAAAAAAA 38\n",
      "questo è il request False\n",
      "Simulation not finished\n",
      "Indice <__main__.Entity object at 0x000001853B384E10> fuori dai limiti\n",
      "questa è la richiesta <__main__.Entity object at 0x000001853B384E10>\n",
      "<class '__main__.Entity'>\n",
      "AAAAAAAAAAAA 33\n",
      "questo è il request False\n",
      "Simulation not finished\n",
      "Indice <__main__.Entity object at 0x000001853B332E50> fuori dai limiti\n",
      "questa è la richiesta <__main__.Entity object at 0x000001853B332E50>\n",
      "<class '__main__.Entity'>\n",
      "AAAAAAAAAAAA 18\n",
      "questo è il request False\n",
      "Simulation not finished\n",
      "Indice <__main__.Entity object at 0x000001853B291990> fuori dai limiti\n",
      "questa è la richiesta <__main__.Entity object at 0x000001853B291990>\n",
      "<class '__main__.Entity'>\n",
      "AAAAAAAAAAAA 37\n",
      "questo è il request False\n",
      "Simulation not finished\n",
      "Indice <__main__.Entity object at 0x000001853B333690> fuori dai limiti\n",
      "questa è la richiesta <__main__.Entity object at 0x000001853B333690>\n",
      "<class '__main__.Entity'>\n",
      "AAAAAAAAAAAA 20\n",
      "questo è il request False\n",
      "Simulation not finished\n",
      "Indice <__main__.Entity object at 0x000001853B332E50> fuori dai limiti\n",
      "questa è la richiesta <__main__.Entity object at 0x000001853B332E50>\n",
      "<class '__main__.Entity'>\n",
      "AAAAAAAAAAAA 18\n",
      "questo è il request False\n",
      "Simulation not finished\n",
      "Indice <__main__.Entity object at 0x000001853B386990> fuori dai limiti\n",
      "questa è la richiesta <__main__.Entity object at 0x000001853B386990>\n",
      "<class '__main__.Entity'>\n",
      "AAAAAAAAAAAA 36\n",
      "questo è il request False\n",
      "Simulation not finished\n",
      "Indice <__main__.Entity object at 0x000001853B332610> fuori dai limiti\n",
      "questa è la richiesta <__main__.Entity object at 0x000001853B332610>\n",
      "<class '__main__.Entity'>\n",
      "AAAAAAAAAAAA 21\n",
      "questo è il request False\n",
      "Simulation not finished\n",
      "Indice <__main__.Entity object at 0x000001853B333D50> fuori dai limiti\n",
      "questa è la richiesta <__main__.Entity object at 0x000001853B333D50>\n",
      "<class '__main__.Entity'>\n",
      "AAAAAAAAAAAA 19\n",
      "questo è il request False\n",
      "Simulation not finished\n",
      "Indice <__main__.Entity object at 0x000001853B386D90> fuori dai limiti\n",
      "questa è la richiesta <__main__.Entity object at 0x000001853B386D90>\n",
      "<class '__main__.Entity'>\n",
      "AAAAAAAAAAAA 25\n",
      "questo è il request False\n",
      "Simulation not finished\n",
      "Indice <__main__.Entity object at 0x000001853B2033D0> fuori dai limiti\n",
      "questa è la richiesta <__main__.Entity object at 0x000001853B2033D0>\n",
      "<class '__main__.Entity'>\n",
      "AAAAAAAAAAAA 6\n",
      "questo è il request False\n",
      "Simulation not finished\n",
      "Indice <__main__.Entity object at 0x000001853B2033D0> fuori dai limiti\n",
      "questa è la richiesta <__main__.Entity object at 0x000001853B2033D0>\n",
      "<class '__main__.Entity'>\n",
      "AAAAAAAAAAAA 6\n",
      "questo è il request False\n",
      "30\n"
     ]
    },
    {
     "name": "stderr",
     "output_type": "stream",
     "text": [
      "c:\\Users\\Utente\\GitHub\\hsim\\hsim\\core\\utils.py:64: FutureWarning:\n",
      "\n",
      "A value is trying to be set on a copy of a DataFrame or Series through chained assignment using an inplace method.\n",
      "The behavior will change in pandas 3.0. This inplace method will never work because the intermediate object on which we are setting values always behaves as a copy.\n",
      "\n",
      "For example, when doing 'df[col].method(value, inplace=True)', try using 'df.method({col: value}, inplace=True)' or df[col] = df[col].method(value) instead, to perform the operation inplace on the original object.\n",
      "\n",
      "\n",
      "\n"
     ]
    },
    {
     "data": {
      "application/vnd.plotly.v1+json": {
       "config": {
        "plotlyServerURL": "https://plot.ly"
       },
       "data": [
        {
         "alignmentgroup": "True",
         "base": [
          "2024-08-22T15:11:49.360448",
          "2024-08-22T15:11:49.360448",
          "2024-08-22T15:11:49.360448",
          "2024-08-22T15:11:49.360448",
          "2024-08-22T15:11:49.360448",
          "2024-08-22T15:11:49.360448",
          "2024-08-22T15:11:49.360448"
         ],
         "hovertemplate": "StateName=Starving<br>timeIn=%{base}<br>timeOut=%{x}<br>ResourceName=%{y}<extra></extra>",
         "legendgroup": "Starving",
         "marker": {
          "color": "#636efa",
          "pattern": {
           "shape": ""
          }
         },
         "name": "Starving",
         "offsetgroup": "Starving",
         "orientation": "h",
         "showlegend": true,
         "textposition": "auto",
         "type": "bar",
         "x": [
          null,
          null,
          null,
          null,
          null,
          null,
          null
         ],
         "xaxis": "x",
         "y": [
          "front",
          "drill",
          "robot",
          "camera",
          "back",
          "press",
          "manual"
         ],
         "yaxis": "y"
        }
       ],
       "layout": {
        "barmode": "overlay",
        "legend": {
         "title": {
          "text": "StateName"
         },
         "tracegroupgap": 0
        },
        "margin": {
         "t": 60
        },
        "template": {
         "data": {
          "bar": [
           {
            "error_x": {
             "color": "#2a3f5f"
            },
            "error_y": {
             "color": "#2a3f5f"
            },
            "marker": {
             "line": {
              "color": "#E5ECF6",
              "width": 0.5
             },
             "pattern": {
              "fillmode": "overlay",
              "size": 10,
              "solidity": 0.2
             }
            },
            "type": "bar"
           }
          ],
          "barpolar": [
           {
            "marker": {
             "line": {
              "color": "#E5ECF6",
              "width": 0.5
             },
             "pattern": {
              "fillmode": "overlay",
              "size": 10,
              "solidity": 0.2
             }
            },
            "type": "barpolar"
           }
          ],
          "carpet": [
           {
            "aaxis": {
             "endlinecolor": "#2a3f5f",
             "gridcolor": "white",
             "linecolor": "white",
             "minorgridcolor": "white",
             "startlinecolor": "#2a3f5f"
            },
            "baxis": {
             "endlinecolor": "#2a3f5f",
             "gridcolor": "white",
             "linecolor": "white",
             "minorgridcolor": "white",
             "startlinecolor": "#2a3f5f"
            },
            "type": "carpet"
           }
          ],
          "choropleth": [
           {
            "colorbar": {
             "outlinewidth": 0,
             "ticks": ""
            },
            "type": "choropleth"
           }
          ],
          "contour": [
           {
            "colorbar": {
             "outlinewidth": 0,
             "ticks": ""
            },
            "colorscale": [
             [
              0,
              "#0d0887"
             ],
             [
              0.1111111111111111,
              "#46039f"
             ],
             [
              0.2222222222222222,
              "#7201a8"
             ],
             [
              0.3333333333333333,
              "#9c179e"
             ],
             [
              0.4444444444444444,
              "#bd3786"
             ],
             [
              0.5555555555555556,
              "#d8576b"
             ],
             [
              0.6666666666666666,
              "#ed7953"
             ],
             [
              0.7777777777777778,
              "#fb9f3a"
             ],
             [
              0.8888888888888888,
              "#fdca26"
             ],
             [
              1,
              "#f0f921"
             ]
            ],
            "type": "contour"
           }
          ],
          "contourcarpet": [
           {
            "colorbar": {
             "outlinewidth": 0,
             "ticks": ""
            },
            "type": "contourcarpet"
           }
          ],
          "heatmap": [
           {
            "colorbar": {
             "outlinewidth": 0,
             "ticks": ""
            },
            "colorscale": [
             [
              0,
              "#0d0887"
             ],
             [
              0.1111111111111111,
              "#46039f"
             ],
             [
              0.2222222222222222,
              "#7201a8"
             ],
             [
              0.3333333333333333,
              "#9c179e"
             ],
             [
              0.4444444444444444,
              "#bd3786"
             ],
             [
              0.5555555555555556,
              "#d8576b"
             ],
             [
              0.6666666666666666,
              "#ed7953"
             ],
             [
              0.7777777777777778,
              "#fb9f3a"
             ],
             [
              0.8888888888888888,
              "#fdca26"
             ],
             [
              1,
              "#f0f921"
             ]
            ],
            "type": "heatmap"
           }
          ],
          "heatmapgl": [
           {
            "colorbar": {
             "outlinewidth": 0,
             "ticks": ""
            },
            "colorscale": [
             [
              0,
              "#0d0887"
             ],
             [
              0.1111111111111111,
              "#46039f"
             ],
             [
              0.2222222222222222,
              "#7201a8"
             ],
             [
              0.3333333333333333,
              "#9c179e"
             ],
             [
              0.4444444444444444,
              "#bd3786"
             ],
             [
              0.5555555555555556,
              "#d8576b"
             ],
             [
              0.6666666666666666,
              "#ed7953"
             ],
             [
              0.7777777777777778,
              "#fb9f3a"
             ],
             [
              0.8888888888888888,
              "#fdca26"
             ],
             [
              1,
              "#f0f921"
             ]
            ],
            "type": "heatmapgl"
           }
          ],
          "histogram": [
           {
            "marker": {
             "pattern": {
              "fillmode": "overlay",
              "size": 10,
              "solidity": 0.2
             }
            },
            "type": "histogram"
           }
          ],
          "histogram2d": [
           {
            "colorbar": {
             "outlinewidth": 0,
             "ticks": ""
            },
            "colorscale": [
             [
              0,
              "#0d0887"
             ],
             [
              0.1111111111111111,
              "#46039f"
             ],
             [
              0.2222222222222222,
              "#7201a8"
             ],
             [
              0.3333333333333333,
              "#9c179e"
             ],
             [
              0.4444444444444444,
              "#bd3786"
             ],
             [
              0.5555555555555556,
              "#d8576b"
             ],
             [
              0.6666666666666666,
              "#ed7953"
             ],
             [
              0.7777777777777778,
              "#fb9f3a"
             ],
             [
              0.8888888888888888,
              "#fdca26"
             ],
             [
              1,
              "#f0f921"
             ]
            ],
            "type": "histogram2d"
           }
          ],
          "histogram2dcontour": [
           {
            "colorbar": {
             "outlinewidth": 0,
             "ticks": ""
            },
            "colorscale": [
             [
              0,
              "#0d0887"
             ],
             [
              0.1111111111111111,
              "#46039f"
             ],
             [
              0.2222222222222222,
              "#7201a8"
             ],
             [
              0.3333333333333333,
              "#9c179e"
             ],
             [
              0.4444444444444444,
              "#bd3786"
             ],
             [
              0.5555555555555556,
              "#d8576b"
             ],
             [
              0.6666666666666666,
              "#ed7953"
             ],
             [
              0.7777777777777778,
              "#fb9f3a"
             ],
             [
              0.8888888888888888,
              "#fdca26"
             ],
             [
              1,
              "#f0f921"
             ]
            ],
            "type": "histogram2dcontour"
           }
          ],
          "mesh3d": [
           {
            "colorbar": {
             "outlinewidth": 0,
             "ticks": ""
            },
            "type": "mesh3d"
           }
          ],
          "parcoords": [
           {
            "line": {
             "colorbar": {
              "outlinewidth": 0,
              "ticks": ""
             }
            },
            "type": "parcoords"
           }
          ],
          "pie": [
           {
            "automargin": true,
            "type": "pie"
           }
          ],
          "scatter": [
           {
            "fillpattern": {
             "fillmode": "overlay",
             "size": 10,
             "solidity": 0.2
            },
            "type": "scatter"
           }
          ],
          "scatter3d": [
           {
            "line": {
             "colorbar": {
              "outlinewidth": 0,
              "ticks": ""
             }
            },
            "marker": {
             "colorbar": {
              "outlinewidth": 0,
              "ticks": ""
             }
            },
            "type": "scatter3d"
           }
          ],
          "scattercarpet": [
           {
            "marker": {
             "colorbar": {
              "outlinewidth": 0,
              "ticks": ""
             }
            },
            "type": "scattercarpet"
           }
          ],
          "scattergeo": [
           {
            "marker": {
             "colorbar": {
              "outlinewidth": 0,
              "ticks": ""
             }
            },
            "type": "scattergeo"
           }
          ],
          "scattergl": [
           {
            "marker": {
             "colorbar": {
              "outlinewidth": 0,
              "ticks": ""
             }
            },
            "type": "scattergl"
           }
          ],
          "scattermapbox": [
           {
            "marker": {
             "colorbar": {
              "outlinewidth": 0,
              "ticks": ""
             }
            },
            "type": "scattermapbox"
           }
          ],
          "scatterpolar": [
           {
            "marker": {
             "colorbar": {
              "outlinewidth": 0,
              "ticks": ""
             }
            },
            "type": "scatterpolar"
           }
          ],
          "scatterpolargl": [
           {
            "marker": {
             "colorbar": {
              "outlinewidth": 0,
              "ticks": ""
             }
            },
            "type": "scatterpolargl"
           }
          ],
          "scatterternary": [
           {
            "marker": {
             "colorbar": {
              "outlinewidth": 0,
              "ticks": ""
             }
            },
            "type": "scatterternary"
           }
          ],
          "surface": [
           {
            "colorbar": {
             "outlinewidth": 0,
             "ticks": ""
            },
            "colorscale": [
             [
              0,
              "#0d0887"
             ],
             [
              0.1111111111111111,
              "#46039f"
             ],
             [
              0.2222222222222222,
              "#7201a8"
             ],
             [
              0.3333333333333333,
              "#9c179e"
             ],
             [
              0.4444444444444444,
              "#bd3786"
             ],
             [
              0.5555555555555556,
              "#d8576b"
             ],
             [
              0.6666666666666666,
              "#ed7953"
             ],
             [
              0.7777777777777778,
              "#fb9f3a"
             ],
             [
              0.8888888888888888,
              "#fdca26"
             ],
             [
              1,
              "#f0f921"
             ]
            ],
            "type": "surface"
           }
          ],
          "table": [
           {
            "cells": {
             "fill": {
              "color": "#EBF0F8"
             },
             "line": {
              "color": "white"
             }
            },
            "header": {
             "fill": {
              "color": "#C8D4E3"
             },
             "line": {
              "color": "white"
             }
            },
            "type": "table"
           }
          ]
         },
         "layout": {
          "annotationdefaults": {
           "arrowcolor": "#2a3f5f",
           "arrowhead": 0,
           "arrowwidth": 1
          },
          "autotypenumbers": "strict",
          "coloraxis": {
           "colorbar": {
            "outlinewidth": 0,
            "ticks": ""
           }
          },
          "colorscale": {
           "diverging": [
            [
             0,
             "#8e0152"
            ],
            [
             0.1,
             "#c51b7d"
            ],
            [
             0.2,
             "#de77ae"
            ],
            [
             0.3,
             "#f1b6da"
            ],
            [
             0.4,
             "#fde0ef"
            ],
            [
             0.5,
             "#f7f7f7"
            ],
            [
             0.6,
             "#e6f5d0"
            ],
            [
             0.7,
             "#b8e186"
            ],
            [
             0.8,
             "#7fbc41"
            ],
            [
             0.9,
             "#4d9221"
            ],
            [
             1,
             "#276419"
            ]
           ],
           "sequential": [
            [
             0,
             "#0d0887"
            ],
            [
             0.1111111111111111,
             "#46039f"
            ],
            [
             0.2222222222222222,
             "#7201a8"
            ],
            [
             0.3333333333333333,
             "#9c179e"
            ],
            [
             0.4444444444444444,
             "#bd3786"
            ],
            [
             0.5555555555555556,
             "#d8576b"
            ],
            [
             0.6666666666666666,
             "#ed7953"
            ],
            [
             0.7777777777777778,
             "#fb9f3a"
            ],
            [
             0.8888888888888888,
             "#fdca26"
            ],
            [
             1,
             "#f0f921"
            ]
           ],
           "sequentialminus": [
            [
             0,
             "#0d0887"
            ],
            [
             0.1111111111111111,
             "#46039f"
            ],
            [
             0.2222222222222222,
             "#7201a8"
            ],
            [
             0.3333333333333333,
             "#9c179e"
            ],
            [
             0.4444444444444444,
             "#bd3786"
            ],
            [
             0.5555555555555556,
             "#d8576b"
            ],
            [
             0.6666666666666666,
             "#ed7953"
            ],
            [
             0.7777777777777778,
             "#fb9f3a"
            ],
            [
             0.8888888888888888,
             "#fdca26"
            ],
            [
             1,
             "#f0f921"
            ]
           ]
          },
          "colorway": [
           "#636efa",
           "#EF553B",
           "#00cc96",
           "#ab63fa",
           "#FFA15A",
           "#19d3f3",
           "#FF6692",
           "#B6E880",
           "#FF97FF",
           "#FECB52"
          ],
          "font": {
           "color": "#2a3f5f"
          },
          "geo": {
           "bgcolor": "white",
           "lakecolor": "white",
           "landcolor": "#E5ECF6",
           "showlakes": true,
           "showland": true,
           "subunitcolor": "white"
          },
          "hoverlabel": {
           "align": "left"
          },
          "hovermode": "closest",
          "mapbox": {
           "style": "light"
          },
          "paper_bgcolor": "white",
          "plot_bgcolor": "#E5ECF6",
          "polar": {
           "angularaxis": {
            "gridcolor": "white",
            "linecolor": "white",
            "ticks": ""
           },
           "bgcolor": "#E5ECF6",
           "radialaxis": {
            "gridcolor": "white",
            "linecolor": "white",
            "ticks": ""
           }
          },
          "scene": {
           "xaxis": {
            "backgroundcolor": "#E5ECF6",
            "gridcolor": "white",
            "gridwidth": 2,
            "linecolor": "white",
            "showbackground": true,
            "ticks": "",
            "zerolinecolor": "white"
           },
           "yaxis": {
            "backgroundcolor": "#E5ECF6",
            "gridcolor": "white",
            "gridwidth": 2,
            "linecolor": "white",
            "showbackground": true,
            "ticks": "",
            "zerolinecolor": "white"
           },
           "zaxis": {
            "backgroundcolor": "#E5ECF6",
            "gridcolor": "white",
            "gridwidth": 2,
            "linecolor": "white",
            "showbackground": true,
            "ticks": "",
            "zerolinecolor": "white"
           }
          },
          "shapedefaults": {
           "line": {
            "color": "#2a3f5f"
           }
          },
          "ternary": {
           "aaxis": {
            "gridcolor": "white",
            "linecolor": "white",
            "ticks": ""
           },
           "baxis": {
            "gridcolor": "white",
            "linecolor": "white",
            "ticks": ""
           },
           "bgcolor": "#E5ECF6",
           "caxis": {
            "gridcolor": "white",
            "linecolor": "white",
            "ticks": ""
           }
          },
          "title": {
           "x": 0.05
          },
          "xaxis": {
           "automargin": true,
           "gridcolor": "white",
           "linecolor": "white",
           "ticks": "",
           "title": {
            "standoff": 15
           },
           "zerolinecolor": "white",
           "zerolinewidth": 2
          },
          "yaxis": {
           "automargin": true,
           "gridcolor": "white",
           "linecolor": "white",
           "ticks": "",
           "title": {
            "standoff": 15
           },
           "zerolinecolor": "white",
           "zerolinewidth": 2
          }
         }
        },
        "xaxis": {
         "anchor": "y",
         "domain": [
          0,
          1
         ],
         "type": "date"
        },
        "yaxis": {
         "anchor": "x",
         "domain": [
          0,
          1
         ],
         "title": {
          "text": "ResourceName"
         }
        }
       }
      }
     },
     "metadata": {},
     "output_type": "display_data"
    }
   ],
   "source": [
    "Entity.reset_id_counter()\n",
    "lab.gate.Store.items=[]\n",
    "s,b = batchCreate(0,numJobs=10,return_both=True) #batchedExp serve per inizializzare \n",
    "lab.gate.Store.items=deepcopy(s)\n",
    "print(len(lab.gate.Store.items))\n",
    "lab=Lab(b)\n",
    "lab.run(3600)\n",
    "print(len(lab.gate.Store.items))\n",
    "df = pd.DataFrame(lab.env.state_log, columns=[\"Resource\",\"ResourceName\",\"State\",\"StateName\",\"Entity\",\"?\",\"timeIn\",\"timeOut\"])\n",
    "df = df.loc[df.ResourceName.isin([\"front\",\"drill\",\"robot\",\"camera\",\"back\",\"press\",\"manual\"])]\n",
    "fig = utils.createGantt(df)\n",
    "fig.show()\n",
    "# ciao=pd.DataFrame(lab.gate.Store.items)\n",
    "# with pd.ExcelWriter('prova funzionamento.xlsx') as writer:\n",
    "    # lab.batch_df.to_excel(writer, sheet_name='Sheet1', index=False)  # elementi batch\n",
    "    # lab.machine_df.to_excel(writer, sheet_name='Sheet2', index=False)\n",
    "    # ciao.to_excel(writer, sheet_name='Sheet2', index=False)"
   ]
  },
  {
   "cell_type": "code",
   "execution_count": null,
   "metadata": {},
   "outputs": [],
   "source": [
    "lab=Lab()\n",
    "lab.gate.Store.items,b = batchCreate(0,numJobs=10,return_both=True) #batchedExp serve per inizializzare \n",
    "#lab.run(3600)\n",
    "# # print(\"questo è il conteggio di entità create da generator in lab\")\n",
    "# # print(lab.g.count)\n",
    "s,b = batchCreate(0,numJobs=10,return_both=True)\n",
    "\n",
    "a=lab.env.log\n",
    "a_df=pd.DataFrame(a,columns=[\"Resource\",\"ResourceName\",\"State\",\"StateName\",\"Entity\",\"timeIn\",\"timeOut\"])\n",
    "a_df.to_excel('a_df.xlsx')\n",
    "c=lab.g.get_entities_service_times()\n",
    "c_df = pd.DataFrame([\n",
    "    {'Entity': e, **serviceTime} for e, serviceTime in c\n",
    "])\n",
    "b_df = pd.DataFrame(b).rename(columns={'id':'Entity'})\n",
    "b_df = pd.concat([b_df['Entity'], pd.DataFrame(b_df['serviceTime'].tolist())],axis=1)\n",
    "\n",
    "tot_entities_df = pd.concat([b_df,c_df],axis=0) #entities e relativi tempi sia creati da generator che da batch create\n",
    "spazio_azioni=len(tot_entities_df)\n",
    "print(spazio_azioni)\n",
    "\n",
    "df = pd.DataFrame(lab.env.state_log, columns=[\"Resource\",\"ResourceName\",\"State\",\"StateName\",\"Entity\",\"?\",\"timeIn\",\"timeOut\"])\n",
    "df = df.loc[df.ResourceName.isin([\"front\",\"drill\",\"robot\",\"camera\",\"back\",\"press\",\"manual\"])]\n",
    "fig = utils.createGantt(df)\n",
    "fig.show()\n",
    "\n",
    "makespan=df.timeOut.max()-df.timeIn.min()\n",
    "print(makespan)\n",
    "selected_columns = df[[\"Entity\", \"State\"]]\n",
    "print(selected_columns)\n",
    "\n",
    "# # Crea un oggetto ExcelWriter\n",
    "with pd.ExcelWriter('risultati simulazione.xlsx') as writer:\n",
    "    df.to_excel(writer, sheet_name='Sheet2', index=False)\n",
    "\n",
    "with pd.ExcelWriter('spazio degli stati potenziali elementi.xlsx') as writer:\n",
    "    a_df.to_excel(writer, sheet_name='Sheet1', index=False) # elementi spazio stati dell' environment, stati macchine\n",
    "    c_df.to_excel(writer, sheet_name='Sheet2', index=False) #generator entities info\n",
    "    b_df.to_excel(writer, sheet_name='Sheet3', index=False) # batch create info iniziatilization batch\n",
    "    tot_entities_df.to_excel(writer, sheet_name='Sheet4', index=False)"
   ]
  }
 ],
 "metadata": {
  "kernelspec": {
   "display_name": ".venv",
   "language": "python",
   "name": "python3"
  },
  "language_info": {
   "codemirror_mode": {
    "name": "ipython",
    "version": 3
   },
   "file_extension": ".py",
   "mimetype": "text/x-python",
   "name": "python",
   "nbconvert_exporter": "python",
   "pygments_lexer": "ipython3",
   "version": "3.11.9"
  }
 },
 "nbformat": 4,
 "nbformat_minor": 2
}
