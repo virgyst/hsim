{
 "cells": [
  {
   "cell_type": "code",
   "execution_count": 2,
   "metadata": {},
   "outputs": [
    {
     "name": "stderr",
     "output_type": "stream",
     "text": [
      "c:\\Users\\Utente\\GitHub\\hsim\\hsim\\core\\core.py:57: UserWarning: Bypassing \"None\" callbakcs\n",
      "  warn('Bypassing \"None\" callbakcs')\n"
     ]
    }
   ],
   "source": [
    "# -*- coding: utf-8 -*-\n",
    "from sys import path\n",
    "path.append('../')\n",
    "import hsim.core.pymulate as pym\n",
    "from hsim.core.chfsm import CHFSM, Transition, State\n",
    "import pandas as pd\n",
    "import numpy as np\n",
    "from simpy import AnyOf\n",
    "from copy import deepcopy\n",
    "from random import choices,seed,normalvariate, expovariate\n",
    "from hsim.core.stores import Store, Box       \n",
    "from scipy import stats\n",
    "import dill\n",
    "import hsim.core.utils as utils\n",
    "pd.set_option('future.no_silent_downcasting', True)\n",
    "import copy\n",
    "import numpy as np\n",
    "import torch\n",
    "import torch.nn as nn\n",
    "import random\n",
    "from collections import deque \n",
    "import math\n",
    "import os\n",
    "import matplotlib.pyplot as plt"
   ]
  },
  {
   "cell_type": "code",
   "execution_count": 11,
   "metadata": {},
   "outputs": [],
   "source": [
    "def funzioneconduereturn():\n",
    "    ris1 = \"primo risultato\"\n",
    "    ris2 = \"secondo risultato\"\n",
    "    return ris1, ris2\n",
    "\n",
    "def create_entities_dataframe(generator):\n",
    "    data = []\n",
    "    for entity in generator.entities:\n",
    "        row = {'ID': entity.ID, **entity.serviceTime}\n",
    "        data.append(row)\n",
    "    df = pd.DataFrame(data)\n",
    "    return df\n",
    "\n",
    "def plot_service_times(service_times_log):\n",
    "    # Convert the list of dictionaries to a DataFrame for easier plotting\n",
    "    df = pd.DataFrame(service_times_log)\n",
    "\n",
    "class DQN(nn.Module):\n",
    "    def __init__(self, input_dim, output_dim):\n",
    "        super(DQN, self).__init__()\n",
    "        self.network = nn.Sequential(\n",
    "        nn.Linear(input_dim, 256),\n",
    "            nn.ReLU(),\n",
    "            nn.Linear(256, output_dim),\n",
    "            # nn.ReLU(),\n",
    "            # nn.Linear(128, output_dim)\n",
    "        )\n",
    "    \n",
    "    def forward(self, x):\n",
    "        return self.network(x)\n",
    "\n",
    "import random\n",
    "from collections import deque\n",
    "\n",
    "class DQNAgent:\n",
    "    def __init__(self, state_dim, action_dim,max_time):\n",
    "        self.state_dim = state_dim\n",
    "        self.dim = action_dim\n",
    "        self.memory = deque(maxlen=10000)\n",
    "        self.gamma = 0.99\n",
    "        self.epsilon =1.0\n",
    "        self.epsilon_decay = 0.995\n",
    "        self.epsilon_min = 0.5\n",
    "        self.model = DQN(state_dim, action_dim)\n",
    "        self.optimizer = torch.optim.Adam(self.model.parameters(), lr=0.001)\n",
    "        self.criterion = nn.MSELoss() \n",
    "        self.accumulated_rewards = list([])#deque(maxlen=10000)\n",
    "        self.current_time=0\n",
    "        self.max_time= max_time\n",
    "        self.load_model()\n",
    "        self.episode_count = 0\n",
    "        self.previous_total_reward = float('inf')\n",
    "        self.rewards_window = deque(maxlen=100)\n",
    "    \n",
    "    def save_model(self):\n",
    "            torch.save({\n",
    "                'model_state_dict': self.model.state_dict(),\n",
    "                'optimizer_state_dict': self.optimizer.state_dict(),\n",
    "                'epsilon': self.epsilon,\n",
    "                'memory': list(self.memory),\n",
    "                'previous_total_reward': self.previous_total_reward # Salva la memoria come lista\n",
    "            }, 'dqn_model.pth')\n",
    "            print(\"Model saved to dqn_model.pth\")\n",
    "    \n",
    "    def load_model(self):\n",
    "        try:\n",
    "            checkpoint = torch.load('dqn_model.pth')\n",
    "            self.model.load_state_dict(checkpoint['model_state_dict'])\n",
    "            self.optimizer.load_state_dict(checkpoint['optimizer_state_dict'])\n",
    "            self.epsilon = checkpoint['epsilon']\n",
    "            # print(f'questa è epsilon {self.epsilon}')\n",
    "            self.memory = deque(checkpoint['memory'], maxlen=10000)\n",
    "            self.previous_total_reward = checkpoint.get('previous_total_reward', None)   # Carica la memoria\n",
    "            self.model.train()  # Imposta il modello in modalità di addestramento\n",
    "            #self.model.eval()  # Imposta il modello in modalità di valutazione\n",
    "            print(\"Model loaded from dqn_model.pth\")\n",
    "        except FileNotFoundError:\n",
    "            print(\"No saved model found, starting with a new model\")\n",
    "    \n",
    "    def remember(self, state, action, reward, next_state, done):\n",
    "        if math.isnan(reward):\n",
    "            reward = 0\n",
    "        # if action ==-1:\n",
    "        #     reward=-1\n",
    "        self.memory.append((state, action, reward, next_state, done))\n",
    "        if not done:\n",
    "            # if len(self.accumulated_rewards) > 0:\n",
    "            #     self.accumulated_rewards[-1] += reward\n",
    "            #     print(self.accumulated_rewards)\n",
    "            # else:\n",
    "            # penalty_factor=0.1\n",
    "            # penalized_reward = reward * penalty_factor\n",
    "            self.accumulated_rewards.append(reward)\n",
    "            # print(f\"Accumulated rewards (not done): {self.accumulated_rewards}\")\n",
    "            # print(f\"Accumulated rewards (not done): {self.accumulated_rewards}\")\n",
    "        else:\n",
    "            # print(f'questa è la lista dei rewards accumulati {self.accumulated_rewards}')\n",
    "            delayed_reward = self.calculate_final_reward(state)\n",
    "            self.memory.append((state, action, delayed_reward, next_state, done))\n",
    "            # Penalizza se lab.gate.Store.items non è vuoto\n",
    "            # if lab.gate.Store.items:\n",
    "            #     penalty = 10  # Puoi regolare il valore della penalità come necessario\n",
    "            #     delayed_reward = penalty\n",
    "            # print(f\"Delayed Reward: {delayed_reward}\")\n",
    "            # self.accumulated_rewards.append(delayed_reward)\n",
    "            self.accumulated_rewards.clear()\n",
    "\n",
    "    def isdone(self,env):\n",
    "        if env.now >= self.max_time:\n",
    "            print(\"Simulation finished\")\n",
    "            # final_reward = self.calculate_final_reward()\n",
    "            # if self.previous_total_reward is not None:\n",
    "            #     if final_reward > self.previous_total_reward:\n",
    "            #         final_reward += 1  # Premio per miglioramento\n",
    "            #     else:\n",
    "            #         final_reward -= 1  # Svantaggio per peggioramento\n",
    "        \n",
    "            # print(f\"Final Reward: {final_reward}\")\n",
    "            # self.previous_total_reward = final_reward \n",
    "            self.save_model()\n",
    "            return True\n",
    "        return False\n",
    "       \n",
    "    def calculate_final_reward(self):\n",
    "        if len(self.accumulated_rewards) > 0:\n",
    "            final_reward = sum(self.accumulated_rewards)\n",
    "            # print(final_reward)\n",
    "            if lab.gate.Store.items:\n",
    "                print(\"Store is not empty, penalizing\")\n",
    "                penalty = 10  # Aumenta il valore della penalità\n",
    "                final_reward -= penalty\n",
    "            if self.previous_total_reward is not None:\n",
    "                if final_reward > self.previous_total_reward:\n",
    "                    final_reward += 1  # Premio per miglioramento\n",
    "                else:\n",
    "                    final_reward -= 1  # Svantaggio per peggioramento\n",
    "            self.previous_total_reward = final_reward \n",
    "            print(f\"Final Reward: {final_reward}\")\n",
    "            return final_reward\n",
    "    \n",
    "   \n",
    "    \n",
    "\n",
    "    \n",
    "        # print(f\"State: {state}, Action: {action}, Reward: {reward}, Next State: {next_state}, Done: {done}\")\n",
    "        # print(f\"Memory before append: {self.memory}\")\n",
    "        # self.memory.append((state, action, reward, next_state, done))\n",
    "        # print(f\"Memory after append: {self.memory}\")\n",
    "        \n",
    "        # if not done:\n",
    "        #     print(f\"Accumulated rewards before: {self.accumulated_rewards}\")\n",
    "        #     if len(self.accumulated_rewards) > 0:\n",
    "        #         self.accumulated_rewards[-1] += reward\n",
    "        #     print(f\"Accumulated rewards after: {self.accumulated_rewards}\")\n",
    "        # else:\n",
    "        #     delayed_reward = self.get_reward(state)\n",
    "        #     print(f\"Delayed reward: {delayed_reward}\")\n",
    "        #     self.accumulated_rewards.append(delayed_reward)\n",
    "        #     print(f\"Accumulated rewards after append: {self.accumulated_rewards}\")\n",
    "    \n",
    "\n",
    "    # def act(self, state): \n",
    "    #     if isinstance(state, pd.DataFrame):\n",
    "    #         # state = state.fillna()  # Riempie i valori NaN con 0\n",
    "    #         state = state.infer_objects(copy=False)\n",
    "    #         type_col_index = state.columns.get_loc('type')\n",
    "    #         entity_index= state.columns.get_loc('Entity')\n",
    "    #         states = state.to_numpy()\n",
    "    #         if np.random.rand() <= self.epsilon:\n",
    "    #             filtered_state = states[state['type'] == 0]\n",
    "    #             ris=random.choice(filtered_state['Entity'].tolist())\n",
    "    #         else:\n",
    "    #             return print(\"ERROR\")\n",
    "    #     q_values= self.model.predict(state)\n",
    "    #     return np.argmax(q_values[0])\n",
    "\n",
    "    def act(self, state, type_col_index, entity_col_index):\n",
    "        if isinstance(state, np.ndarray):\n",
    "            state = np.nan_to_num(state, nan=9999)\n",
    "            if np.random.rand() <= self.epsilon:\n",
    "                # Filtra le righe dove 'type' è 0\n",
    "                filtered_state = state[state[:, type_col_index] == 0]\n",
    "                # print(f'filtered_state shape {filtered_state.shape}')\n",
    "                if filtered_state.size > 0:\n",
    "                    selected_value=random.choice(filtered_state[:, entity_col_index].tolist())\n",
    "                    for i in range(len(filtered_state)):\n",
    "                        if state[i][entity_col_index] == selected_value:\n",
    "                            # print(i)\n",
    "                            return i\n",
    "                else:\n",
    "                    i=-1\n",
    "                    return i\n",
    "            else:\n",
    "                # Usa il modello per predire i Q-values e seleziona l'azione con il valore massimo\n",
    "                # print(\"EXPLOIT\")\n",
    "                # print(state.shape)\n",
    "                state_tensor = torch.FloatTensor(state)\n",
    "                q_values = self.model(state_tensor)\n",
    "                max_index=int(np.argmax(q_values.detach().numpy()[0]))\n",
    "                # print(f\"Max index: {max_index}\")\n",
    "                if max_index < 0 or max_index > len(state):\n",
    "                    print(f'Invalid action selected {max_index} returning None')\n",
    "                    return None\n",
    "    \n",
    "                return max_index\n",
    "        else:\n",
    "            print(\"State is not a NumPy array\")\n",
    "            return None\n",
    "        \n",
    "    # def update_epsilon(self):\n",
    "    #     # Aggiorna epsilon per ridurre gradualmente l'esplorazione\n",
    "    #     if self.epsilon > self.epsilon_min:\n",
    "    #         self.epsilon *= self.epsilon_decay   \n",
    "    \n",
    "    def get_reward(self, state,colonne,action):\n",
    "        \n",
    "                # Verifica che state sia un array NumPy\n",
    "        if not isinstance(state, np.ndarray):\n",
    "            raise ValueError(\"state deve essere un array NumPy\")\n",
    "\n",
    "        # Verifica che columns sia un array NumPy\n",
    "        if not isinstance(colonne, np.ndarray):\n",
    "            raise ValueError(\"columns deve essere un array NumPy\")\n",
    "        if action is None:\n",
    "            reward=-1\n",
    "        try:\n",
    "            time_out_index = np.where(colonne == 'timeOut')[0][0]\n",
    "            time_in_index = np.where(colonne == 'timeIn')[0][0]\n",
    "        except IndexError:\n",
    "            raise ValueError(\"columns deve contenere 'timeOut' e 'timeIn'\")\n",
    "        state[:, time_in_index] = np.nan_to_num(state[:, time_in_index], nan=9999)\n",
    "        \n",
    "        state[:, time_out_index] = np.nan_to_num(state[:, time_out_index], nan=9999)\n",
    "        \n",
    "        max_time_out = np.nanmax(state[:, time_out_index])\n",
    "        min_time_in = np.nanmin(state[:, time_in_index])\n",
    "        # makespan = np.nanmax(state[:, time_out_index]) - np.nanmin(state[:, time_in_index])\n",
    "        if max_time_out == 9999:\n",
    "            valid_times_out = state[:, time_out_index][state[:, time_out_index] != 9999]\n",
    "            if len(valid_times_out) > 0:\n",
    "                max_time_out = np.nanmax(valid_times_out)\n",
    "                # print(f\"Max time out: {max_time_out}\")\n",
    "            else:\n",
    "                # print(\"non ci sono tempi diversi\")\n",
    "                max_time_out = 0\n",
    "        # print(max_time_out)\n",
    "        makespan = max_time_out - min_time_in\n",
    "        # print(f\"Makespan: {makespan}\")\n",
    "        if makespan == 0:\n",
    "            reward = 0\n",
    "            # print(\"Makespan is 0\")\n",
    "        else:\n",
    "            reward = 1 / makespan\n",
    "        return reward\n",
    "\n",
    "    \n",
    "    def replay(self, batch_size):\n",
    "        if len(self.memory) < batch_size:\n",
    "            return\n",
    "        minibatch = random.sample(self.memory, batch_size)\n",
    "        for state, action, reward, next_state, done in minibatch:            \n",
    "            next_state=np.nan_to_num(next_state, nan=9999)\n",
    "            # print(\"Tipo di next_state (prima della conversione):\",next_state.dtype)\n",
    "            next_state = torch.FloatTensor(next_state)\n",
    "            # print(\"Tipo di dati degli elementi in next_state:\", next_state.dtype)\n",
    "            # Calcola il target\n",
    "            target = reward\n",
    "            if not done:\n",
    "                target = reward + self.gamma * torch.max(self.model(next_state)[0]).item()\n",
    "            # Converti state in un tensore PyTorch e aggiungi una dimensione extra\n",
    "            state=np.nan_to_num(next_state, nan=9999)\n",
    "            state = torch.FloatTensor(state)        \n",
    "            # Calcola target_f usando il modello\n",
    "            target_f = self.model(state)\n",
    "              # Verifica che action sia un intero valido\n",
    "    \n",
    "            if isinstance(action, float):\n",
    "                action = int(action)\n",
    "            # if not isinstance(action, int):\n",
    "            #     print(f\"Action sbagliata: {action}\")\n",
    "            #     raise ValueError(\"action deve essere un intero\")\n",
    "            # print(action)\n",
    "            if not isinstance(action, int):\n",
    "                # print(f\"Action sbagliata: {action}\")\n",
    "                raise ValueError(\"action deve essere un intero\")\n",
    "            # print(f\"state shape: {state.shape}\")\n",
    "            # print(f\"next_state shape: {next_state.shape}\")\n",
    "            # print(f\"target_f shape: {target_f.shape}\")\n",
    "            # print(f\"action: {action}\")           \n",
    "            # if action <0 or action >= target_f.size(1):   # Modificato da size(1) a size(2)\n",
    "            #     raise IndexError(\"action non è un indice valido per target_f\")\n",
    "            if  action <0 or action > target_f.size(1):\n",
    "                target_f[0][0] = target \n",
    "            else:\n",
    "                target_f[0][action] = target\n",
    "            \n",
    "            # Ottimizza il modello\n",
    "            self.optimizer.zero_grad()\n",
    "            loss = self.criterion(target_f, self.model(state))\n",
    "            loss.backward()\n",
    "            self.optimizer.step()\n",
    "        \n",
    "        if self.epsilon > self.epsilon_min:\n",
    "            self.epsilon *= self.epsilon_decay\n",
    "        \n",
    "                 \n",
    "    \n",
    "\n",
    "\n",
    "\n",
    "# class Generator(pym.Generator):\n",
    "#     def __init__(self,env,name=None,serviceTime=2,serviceTimeFunction=None):\n",
    "#         super().__init__(env,name,serviceTime,serviceTimeFunction)\n",
    "#         self.count = 0\n",
    "#         self.entities=pd.DataFrame(columns=['id', 'Entity', 'front', 'drill', 'robot', 'camera', 'back', 'press', 'manual'])\n",
    "#     def createEntity(self):\n",
    "#         self.count += 1\n",
    "#         # return Entity()\n",
    "#         e = Entity()#ID=self.count)\n",
    "#         #e.serviceTime = dict()\n",
    "#         e.serviceTime['front'] = 10.52\n",
    "#         e.serviceTime['drill'] = choices([3.5, 8.45, 9.65, 11.94],weights=[5,30,30,35])[0] ## Insert the possibility of skipping this stage\n",
    "#         e.serviceTime['robot'] = choices([0, 81, 105, 108 ,120],weights=[91,3,2,2,2])[0]\n",
    "#         # e.serviceTime['camera'] = choices([3,9,12,18,24],weights=[2,3,1,2,2])[0]\n",
    "#         e.serviceTime['camera'] = 3.5+expovariate(1/7.1)\n",
    "#         e.serviceTime['back'] = choices([3.5,10.57],weights=[0.1,0.9])[0]\n",
    "#         # e.serviceTime['press'] = choices([3,9,15])[0]\n",
    "#         if e.serviceTime['back']>0:\n",
    "#             e.serviceTime['press'] = 3.5+expovariate(1/9.5)\n",
    "#         else:\n",
    "#             e.serviceTime['press'] = 3.5\n",
    "#         e.serviceTime['manual'] = max(np.random.normal(9.2,1),0)\n",
    "#         #print(f\"Entity {self.count} service times: {e.serviceTime}\")\n",
    "#         # self.entities.append(e)\n",
    "#         service_time_dict = {f'serviceTime_{i}': [time] for i, time in enumerate(e.serviceTime)}\n",
    "#         entity_dict = {\n",
    "#             'id': e.ID,\n",
    "#             'Entity': e,\n",
    "#             'front': e.serviceTime['front'],\n",
    "#             'drill': e.serviceTime['drill'],\n",
    "#             'robot': e.serviceTime['robot'],\n",
    "#             'camera': e.serviceTime['camera'],\n",
    "#             'back': e.serviceTime['back'],\n",
    "#             'press': e.serviceTime['press'],\n",
    "#             'manual': e.serviceTime['manual']\n",
    "#         }\n",
    "\n",
    "#         entity_df = pd.DataFrame([entity_dict])\n",
    "#         lab.b_df = pd.concat([lab.b_df, entity_df], ignore_index=True)\n",
    "#         # print(f\"ho aggiunto un'unità al batch:\\n{lab.b_df.iloc[-1]}\")\n",
    "#         # print(\"il nuovo batch è:\")\n",
    "#         # print(lab.b_df)\n",
    "#         # print(lab.b_df.shape[1])\n",
    "#         # self.entities = pd.concat([self.entities, entity_df], ignore_index=True)\n",
    "#         # entity_df = pd.DataFrame([e.ID, e, pd.DataFrame(e.serviceTime)], columns=['id', 'Entity', 'front', 'drill', 'robot', 'camera', 'back', 'press', 'manual'])\n",
    "#         # self.entities = pd.concat([self.entities, entity_df], ignore_index=True)\n",
    "#         return e\n",
    "#     # def get_entities_service_times(self,entities):\n",
    "#     # # Convert the 'serviceTime' column to a DataFrame\n",
    "#     #     service_times_df = pd.DataFrame(entities['serviceTime'].tolist())\n",
    "    \n",
    "#     # # Concatenate the 'id', 'Entity', and the new service times DataFrame\n",
    "#     #     data = pd.concat([entities[['id', 'Entity']], service_times_df], axis=1)\n",
    "#     #     print(data)\n",
    "#     #     return data\n",
    "    \n",
    "class Entity:\n",
    "    _id_counter=0\n",
    "    def __init__(self,ID=None):\n",
    "        if ID is None:\n",
    "            self.ID = Entity._id_counter\n",
    "            Entity._id_counter += 1\n",
    "            # print(f\"sto creando un Entity ID: {self.ID}\")\n",
    "        else:\n",
    "            self.ID = ID\n",
    "        self.rework = False\n",
    "        self.serviceTime = dict()\n",
    "        # self.pt['M3'] = 1\n",
    "\n",
    "    def reset_id_counter():\n",
    "        Entity._id_counter = 0\n",
    "    @property\n",
    "    def require_robot(self):\n",
    "        if self.serviceTime['robot']>0:\n",
    "            return True\n",
    "        else:\n",
    "            return False\n",
    "    @property\n",
    "    def ok(self):\n",
    "        return not (self.rework and self.require_robot)\n",
    "    def done(self):\n",
    "        self.rework = False\n",
    "                \n",
    "class LabServer(pym.Server):\n",
    "    def __init__(self,env,name=None,serviceTime=None,serviceTimeFunction=None):\n",
    "        self.controller = None\n",
    "        # serviceTime = 10\n",
    "        super().__init__(env,name,serviceTime,serviceTimeFunction)\n",
    "    def calculateServiceTime(self,entity=None,attribute='serviceTime'):\n",
    "        if not entity.ok:\n",
    "            return 20 #3.5 ### qua andrà messo 10/20 volte maggiore degli altri processing time?\n",
    "        else:\n",
    "            print(\"service time\")\n",
    "            print(super().calculateServiceTime(entity,attribute))\n",
    "            return super().calculateServiceTime(entity,attribute)\n",
    "    def completed(self):\n",
    "        if self.var.entity.ok:\n",
    "            self.controller.Messages.put(self.name)\n",
    "    T2=Transition(pym.Server.Working, pym.Server.Blocking, lambda self: self.env.timeout(self.calculateServiceTime(self.var.entity)), action = lambda self: self.completed())\n",
    "    T3=Transition(pym.Server.Blocking, pym.Server.Starving, lambda self: self.Next.put(self.var.entity),action=lambda self: [self.var.request.confirm(), self.sm.var.entity.done() if self.sm._name=='robot' else None])\n",
    "\n",
    "def plot_service_times(service_times_log):\n",
    "    df = pd.DataFrame(service_times_log)\n",
    "    df.plot(kind='bar', stacked=True, figsize=(10, 6))\n",
    "    plt.xlabel('Entity')\n",
    "    plt.ylabel('Service Time')\n",
    "    plt.title('Service Times of Entities')\n",
    "    plt.legend(title='Service Stages')\n",
    "    plt.show()\n",
    "\n",
    "\n",
    "class Terminator(pym.Terminator):\n",
    "    def __init__(self, env, capacity=np.inf):\n",
    "        super().__init__(env, capacity)\n",
    "        self.controller = None\n",
    "        self.register = list()\n",
    "    def completed(self):\n",
    "        if not self.trigger.triggered:\n",
    "            self.trigger.succeed()\n",
    "    def put(self,item):\n",
    "        self.register.append(self._env.now)\n",
    "        self.controller.Messages.put('terminator')\n",
    "        return super().put(item)\n",
    "    def subscribe(self,item):\n",
    "        self.register.append(self._env.now)\n",
    "        self.controller.Messages.put('terminator')\n",
    "        return super().subscribe(item)\n",
    "class Gate(CHFSM):\n",
    "    def __init__(self,env,statedim,actiondim,max_time):\n",
    "        self.real = True\n",
    "        self.default_request_count = 0\n",
    "        self.capacity = 30 #check se è giusto 40 o 30 come era prima\n",
    "        self.lab = None\n",
    "        self.initialWIP = 12\n",
    "        self.targetWIP = 12\n",
    "        self.request = None\n",
    "        self.message = env.event()\n",
    "        self.WIP = 0\n",
    "        self.WIPlist = list()\n",
    "        self.dones=False \n",
    "        self.training_step=0\n",
    "        self.dqn_agent = DQNAgent(state_dim=statedim, action_dim=actiondim,max_time=max_time)\n",
    "        # self.count=len(b)\n",
    "        super().__init__(env) #prima era in fondo ai self\n",
    "# # #AGGIUNTA\n",
    "    def concatenate_state_dataframes(self, batch_df, machine_df):\n",
    "        batch_df['type'] = 0  # 0 per batch\n",
    "        machine_df['type'] = 1  # 1 per macchina\n",
    "        dfi= pd.concat([batch_df, machine_df], axis=0, sort=False).reset_index(drop=True)\n",
    "        dfi.to_excel('dfi.xlsx')\n",
    "        return dfi\n",
    "\n",
    "    def convertdataframe(self,df,flag=True):\n",
    "        mapping = {\n",
    "            \"front\": 1,\n",
    "            \"drill\": 2,\n",
    "            \"robot\": 3,\n",
    "            \"camera\": 4,\n",
    "            \"back\": 5,\n",
    "            \"press\": 6,\n",
    "            \"manual\": 7\n",
    "        }\n",
    "        df[\"ResourceName\"] = df[\"ResourceName\"].map(mapping)\n",
    "\n",
    "        mapping2 = {\n",
    "            \"Working\": 1,\n",
    "            \"Blocking\": 2,\n",
    "            \"Starving\": 3\n",
    "        }  \n",
    "        df[\"StateName\"] = df[\"StateName\"].map(mapping2)\n",
    "        df[\"Entity\"] = df[\"id\"]\n",
    "        \n",
    "        # filtered_df = df[df[\"type\"] == 0]\n",
    "\n",
    "        # # Verifica e conversione della colonna \"id\" se è di tipo float\n",
    "        # if filtered_df[\"id\"].dtype == float:\n",
    "        #     df.loc[df[\"type\"] == 0, \"id\"] = df.loc[df[\"type\"] == 0, \"id\"].astype(int)\n",
    "\n",
    "        # # Verifica e conversione della colonna \"Entity\" se è di tipo float\n",
    "        # if filtered_df[\"Entity\"].dtype == float:\n",
    "        #     df.loc[df[\"type\"] == 0, \"Entity\"] = df.loc[df[\"type\"] == 0, \"Entity\"].astype(int)\n",
    "        \n",
    "        df.to_excel('conversionenumpy.xlsx')\n",
    "        data_array=df.to_numpy()\n",
    "        column_names = df.columns.to_numpy()\n",
    "\n",
    "        # print(column_names)\n",
    "        if flag:\n",
    "            return data_array\n",
    "        else:\n",
    "            return data_array, column_names\n",
    "\n",
    "    \n",
    "    \n",
    "    def filtro(self,val):\n",
    "        return lambda item: item == val\n",
    "    \n",
    "    def indexcolumns(self,column):\n",
    "        type_col_index = list(column).index('type')\n",
    "        entity_col_index = list(column).index('Entity')\n",
    "        return type_col_index, entity_col_index\n",
    "    \n",
    "    def action_to_request(self,indice,current_state):\n",
    "        if indice is None or indice < 0 or indice >= current_state.shape[0] :\n",
    "            # print(f\"Indice negativo: {indice}\")\n",
    "            return None\n",
    "        element=None\n",
    "        for i in range(current_state.shape[0]):\n",
    "            if i == indice:\n",
    "                element=current_state[i, 0]\n",
    "                # print(f\"Elemento selezionato: {element}\")\n",
    "                break\n",
    "                \n",
    "        if element is not None:\n",
    "            row = lab.b_df.loc[lab.b_df['id'] == element]\n",
    "            if not row.empty:\n",
    "                values = row['Entity'].values[0]\n",
    "                return values   \n",
    "            else:\n",
    "        # print(f\"No entity found with id {element}\")\n",
    "                return None\n",
    "        else:\n",
    "            return None\n",
    "\n",
    "\n",
    "    def get_state(self,b_df,val=True):\n",
    "        machine_df=pd.DataFrame(self.env.log,columns=[\"ResourceName\",\"StateName\",\"timeIn\",\"timeOut\"])\n",
    "        machine_df=machine_df.loc[machine_df.ResourceName.isin([\"front\",\"drill\",\"robot\",\"camera\",\"back\",\"press\",\"manual\"])]\n",
    "        batch_df = b_df[b_df['Entity'].isin(lab.gate.Store.items)] # Filtra solo le righe del batch che sono presenti nello store\n",
    "        spazio_stati=self.concatenate_state_dataframes(batch_df,machine_df)\n",
    "        spazio_stati.to_excel('spazio_stati.xlsx')\n",
    "        spazio_stati,index = self.convertdataframe(spazio_stati,flag=False)\n",
    "        # print(spazio_stati.dtype)\n",
    "        if val:\n",
    "            return spazio_stati\n",
    "        else:\n",
    "            return spazio_stati, index\n",
    "    \n",
    "\n",
    "    # def get_next_state(self,b):\n",
    "    #     machine_df = pd.DataFrame(self.env.log, columns=[\"ResourceName\",\"StateName\",\"timeIn\", \"timeOut\"])\n",
    "    #     machine_df=machine_df.loc[machine_df.ResourceName.isin([\"front\",\"drill\",\"robot\",\"camera\",\"back\",\"press\",\"manual\"])]\n",
    "    #     batch_df = b[b['Entity'].isin(lab.gate.Store.items)]  # Filter only the rows of the batch that are present in the store\n",
    "    #     new_spazio_stati = self.concatenate_state_dataframes(batch_df, machine_df)\n",
    "    #     new_spazio_stati=self.convertdataframe(new_spazio_stati)\n",
    "    #     return new_spazio_stati\n",
    "\n",
    "    # def update_delayed_reward(self, reward):\n",
    "    #     if len(self.accumulated_rewards) > 0:\n",
    "    #         self.accumulated_rewards[-1] += reward # If there are, add the new reward to the last element\n",
    "    #     else:\n",
    "    #         self.accumulated_rewards.append(reward) \n",
    "\n",
    "    # def doneboole(self,env):\n",
    "    #     self.dones=self.dqn_agent.is_done(env)\n",
    "    #     return self.dones\n",
    "    \n",
    "  \n",
    "    \n",
    "    \n",
    "    # def condition(self, item, scheduled_request):\n",
    "    #     if scheduled_request in self.Store.items:\n",
    "    #         # return item == self.Store.items[scheduled_request]\n",
    "    #         return lab.gate.Store.get(scheduled_request)\n",
    "    #     else:\n",
    "    #         # Gestisci il caso in cui l'indice sia fuori dai limiti\n",
    "    #         print(f\"Indice {scheduled_request} fuori dai limiti\")\n",
    "    #         return False\n",
    "\n",
    "    \n",
    "    # def get(self, condition):\n",
    "    #     for item in self.Store.items:\n",
    "    #         if condition(item):\n",
    "    #             return item\n",
    "    #     return None\n",
    "\n",
    "    # def custom_condition(self, item, scheduled_request):\n",
    "    #     return self.condition(item, scheduled_request)\n",
    "\n",
    "#FINE AGGIUNTA\n",
    "    def build(self):\n",
    "        self.Store = pym.Store(self.env,self.capacity)\n",
    "        self.Messages = pym.Store(self.env)\n",
    "    def put(self,item):\n",
    "        return self.Store.put(item)\n",
    "    class Loading(State):\n",
    "        def _do(self):\n",
    "            # print('Load: %d' %self.sm.initialWIP)\n",
    "            self.sm.initialWIP -= 1\n",
    "            self.fw()\n",
    "    class Waiting(State):\n",
    "        initial_state = True\n",
    "        def _do(self):\n",
    "            self.sm.message = self.Messages.subscribe()\n",
    "            if self.sm.initialWIP > 0:\n",
    "                self.initial_timeout = self.env.timeout(1)\n",
    "            else:\n",
    "                self.initial_timeout = self.env.event()\n",
    "    class Forwarding(State):\n",
    "        def _do(self):\n",
    "            self.message.confirm()\n",
    "            if self.message.value == 'terminator':\n",
    "                self.sm.WIP -= 1\n",
    "                self.sm.WIPlist.append([self.env.now,self.WIP])\n",
    "            self.FIFO()\n",
    "            self.CONWIP()\n",
    "    \n",
    "    def CONWIP(self):\n",
    "        if self.message.value == 'terminator':\n",
    "            self.fw()\n",
    "    def FIFO(self):\n",
    "        pass\n",
    "  \n",
    "    def fw(self):    \n",
    "        if self.request is None:\n",
    "           #self.request = self.Store.get(self.filtro('<__main__.Entity object at 0x00000222C40317D0>'))\n",
    "#INIZIO NUOVO CODICE\n",
    "            # count=len(lab.gate.Store.items)\n",
    "            # print(f'numero di entità nello store {count}')\n",
    "            current_state,columns = self.get_state(lab.b_df,val=False)\n",
    "            # pd.DataFrame(current_state).to_excel('current_state.xlsx')\n",
    "            type_col_index, entity_col_index = self.indexcolumns(columns)\n",
    "            action=self.dqn_agent.act(current_state,type_col_index, entity_col_index) #index intero\n",
    "            # print(f'azioni selezionate indice{action}')            \n",
    "            # count=len(lab.gate.Store.items)\n",
    "            actionselct = self.action_to_request(action,current_state) #entity\n",
    "            # print(f'azioni selezionate {actionselct}')\n",
    "            # if lab.gate.Store.items:\n",
    "            reward = self.dqn_agent.get_reward(current_state,columns,actionselct)\n",
    "            next_state=self.get_state(lab.b_df)\n",
    "            self.dqn_agent.remember(current_state, action, reward, next_state, self.dones)\n",
    "            self.dones =self.dqn_agent.isdone(self.env)  \n",
    "            \n",
    "            if len(self.dqn_agent.memory) > 30 :\n",
    "                    self.dqn_agent.replay(30)\n",
    "            \n",
    "            if actionselct is not None:\n",
    "                self.request = self.Store.get(self.filtro(actionselct))\n",
    "                # print(self.request)\n",
    "                self.Next.put(self.request.value)\n",
    "                self.request = None\n",
    "                self.WIP += 1\n",
    "                self.WIPlist.append([self.env.now,self.WIP])\n",
    "      \n",
    "        else:\n",
    "            pass\n",
    "        \n",
    "       \n",
    "    \n",
    "             \n",
    "\n",
    "    T0 = Transition(Waiting,Loading,lambda self: self.initial_timeout)\n",
    "    T1 = Transition(Waiting,Forwarding,lambda self: self.sm.message)\n",
    "    T2 = Transition(Loading,Waiting,None)\n",
    "    T3 = Transition(Forwarding,Waiting,None)\n",
    "         \n",
    "\n",
    "class Router(pym.Router):\n",
    "    def __deepcopy(self,memo):\n",
    "        super().deepcopy(self,memo)\n",
    "    def __init__(self, env, name=None):\n",
    "        super().__init__(env, name)\n",
    "        self.var.requestOut = []\n",
    "        self.var.sent = []\n",
    "        self.putEvent = env.event()\n",
    "    def build(self):\n",
    "        self.Queue = Box(self.env)\n",
    "    def condition_check(self,item,target):\n",
    "        return True\n",
    "    def put(self,item):\n",
    "        if self.putEvent.triggered:\n",
    "            self.putEvent.restart()\n",
    "        self.putEvent.succeed()\n",
    "        return self.Queue.put(item)\n",
    "    class Sending(State):\n",
    "        initial_state = True\n",
    "        def _do(self):\n",
    "            self.sm.putEvent.restart()\n",
    "            self.sm.var.requestIn = self.sm.putEvent\n",
    "            self.sm.var.requestOut = [item for sublist in [[next.subscribe(item) for next in self.sm.Next if self.sm.condition_check(item,next)] for item in self.sm.Queue.items] for item in sublist]\n",
    "            if self.sm.var.requestOut == []:\n",
    "                self.sm.var.requestOut.append(self.sm.var.requestIn)\n",
    "    S2S2 = Transition(Sending,Sending,lambda self:AnyOf(self.env,self.var.requestOut),condition=lambda self:self.var.requestOut != [])\n",
    "    def action2(self):\n",
    "        self.Queue._trigger_put(self.env.event())\n",
    "        if not hasattr(self.var.requestOut[0],'item'):\n",
    "            return\n",
    "        for request in self.var.requestOut:\n",
    "            if not request.item in self.Queue.items:\n",
    "                request.cancel()\n",
    "                continue\n",
    "            if request.triggered:\n",
    "                if request.check():\n",
    "                    request.confirm()\n",
    "                    self.Queue.forward(request.item)\n",
    "                    continue\n",
    "    S2S2._action = action2\n",
    "'''  \n",
    "from pymulate import RouterNew\n",
    "class Router(RouterNew):\n",
    "    def __init__(self, env, name=None):\n",
    "        capacity=1\n",
    "        super().__init__(env, name,capacity)\n",
    "'''\n",
    "class RobotSwitch1(Router):\n",
    "    def condition_check(self, item, target):\n",
    "        if item.require_robot:\n",
    "            item.rework = True\n",
    "        if item.require_robot and target.name == 'convRobot1S':\n",
    "            return True\n",
    "        elif not item.require_robot and target.name != 'convRobot1S':\n",
    "            return True\n",
    "        else:\n",
    "            return False\n",
    "            \n",
    "class RobotSwitch2(Router):\n",
    "    def condition_check(self, item, target):\n",
    "        if len(target.Next)<2:\n",
    "            item.rework = False\n",
    "            return True\n",
    "        else:\n",
    "            item.rework = True\n",
    "            return False    \n",
    "\n",
    "class CloseOutSwitch(Router):\n",
    "    def condition_check(self, item, target):\n",
    "        if item.ok and type(target) == Terminator:\n",
    "            return True\n",
    "        elif not item.ok and type(target) != Terminator:\n",
    "            return True\n",
    "        else:\n",
    "            return False\n",
    "        \n",
    "# class Conveyor(pym.ParallelServer):\n",
    "#     def __init__(self,env,name=None,serviceTime=None,serviceTimeFunction=None,capacity=1):\n",
    "#         self._capacity = capacity\n",
    "#         serviceTime = capacity*3.5\n",
    "#         super().__init__(env,name,serviceTime,serviceTimeFunction,capacity)\n",
    "class Conveyor(pym.Conveyor):\n",
    "    def __init__(self,env,name=None,capacity=3):\n",
    "        super().__init__(env,name,capacity,0.75)\n",
    "        \n",
    "def newDT():\n",
    "    lab = globals()['lab']\n",
    "    deepcopy(lab)\n",
    "\n",
    "def newEntity(): #viene usata all interno di batch create\n",
    "    e = Entity()\n",
    "    e.serviceTime['front'] = 10.52\n",
    "    e.serviceTime['drill'] = 40 #choices([3.5, 8.45, 9.65, 11.94],weights=[5,30,30,35])[0]\n",
    "    e.serviceTime['robot'] = choices([0, 81, 105, 108 ,120],weights=[91,3,2,2,2])[0]\n",
    "    e.serviceTime['camera'] = 3.5+expovariate(1/7.1)\n",
    "    e.serviceTime['back'] = choices([3.5,10.57],weights=[0.1,0.9])[0]\n",
    "    if e.serviceTime['back']>0:\n",
    "        e.serviceTime['press'] = 3.5+expovariate(1/9.5)\n",
    "    else:\n",
    "        e.serviceTime['press'] = 3.5\n",
    "    e.serviceTime['manual'] = max(np.random.normal(9.2,1),0)\n",
    "    return e\n",
    "\n",
    "\n",
    "def batchCreate(seed=1,numJobs=10,return_both=False):\n",
    "    np.random.seed(seed)\n",
    "    jList = []\n",
    "    complist = []\n",
    "    while len(jList)<numJobs:\n",
    "        e=newEntity()\n",
    "        # num = round(np.random.triangular(1,numJobs/2,numJobs))\n",
    "        # # print(num)\n",
    "        # for i in range(num):\n",
    "        jList.append(e)\n",
    "        entity_info = {\n",
    "                'id': e.ID,\n",
    "                'Entity': e,\n",
    "                'serviceTime': e.serviceTime\n",
    "                }\n",
    "        complist.append(entity_info)\n",
    "        if len(jList)>=numJobs:  # l'ho aggiunto io per evitare che si creino più entità di quelle richieste\n",
    "            break\n",
    "    if return_both:\n",
    "        return jList, complist\n",
    "    else:\n",
    "        return jList\n",
    "    \n",
    "\n",
    "class Lab():\n",
    "    def __init__(self,b,maxtime):\n",
    "        conveyTime = 6\n",
    "        self.env = pym.Environment() #crea l'ambiente\n",
    "        # self.g = Generator(self.env) #genera un nuovo pezzo\n",
    "        \n",
    "        self.a=self.env.log  #ambiente stati macchine è un dataframe della lista self.state_log\n",
    "        self.machine_df=pd.DataFrame(self.a,columns=[\"ResourceName\",\"StateName\",\"timeIn\",\"timeOut\"])\n",
    "        self.machine_df=self.machine_df.loc[self.machine_df.ResourceName.isin([\"front\",\"drill\",\"robot\",\"camera\",\"back\",\"press\",\"manual\"])]\n",
    "        self.machine_df.to_excel('machine_df.xlsx')\n",
    "        \n",
    "        b_df = pd.DataFrame(b)\n",
    "        self.b_df=pd.concat([b_df['id'],b_df['Entity'], pd.DataFrame(b_df['serviceTime'].tolist())],axis=1)\n",
    "        self.b_df.to_excel('b_df.xlsx')\n",
    "        self.dim_state=self.b_df.shape[1]+self.machine_df.shape[1]+1 #14\n",
    "        self.dim_action=len(b_df) #come la capacity\n",
    "        self.list = []\n",
    "        self.gate = Gate(self.env,statedim=self.dim_state,actiondim=self.dim_action,max_time=maxtime) #crea il gate\n",
    "\n",
    "        # DR= despaching rule OR=order release \n",
    "        # self.conv1 = Conveyor(self.env,capacity=3)\n",
    "        self.conv1S = pym.Server(self.env,serviceTime=conveyTime) \n",
    "        self.conv1Q = pym.Queue(self.env,capacity=2)\n",
    "        self.front = LabServer(self.env,'front')\n",
    "        # self.conv2 = Conveyor(self.env,capacity=3)\n",
    "        self.conv2S = pym.Server(self.env,serviceTime=conveyTime)\n",
    "        self.conv2Q = pym.Queue(self.env,capacity=2)\n",
    "        self.drill = LabServer(self.env,'drill')\n",
    "        # self.conv3 = Conveyor(self.env,capacity=3)\n",
    "        self.conv3S = pym.Server(self.env,serviceTime=conveyTime)\n",
    "        self.conv3Q = pym.Queue(self.env,capacity=2)\n",
    "\n",
    "        \n",
    "        self.switch1 = RobotSwitch1(self.env)\n",
    "        # self.convRobot1 = Conveyor(self.env,'convRobot1',capacity=3)\n",
    "        self.convRobot1S = pym.Server(self.env,serviceTime=conveyTime,name='convRobot1S')\n",
    "        self.convRobot1Q = pym.Queue(self.env,capacity=2)\n",
    "\n",
    "        # self.bridge = Conveyor(self.env,capacity=3)\n",
    "        self.bridgeS = pym.Server(self.env,serviceTime=conveyTime)\n",
    "        self.bridgeQ = pym.Queue(self.env,capacity=2)\n",
    "\n",
    "        # self.convRobot2 = Conveyor(self.env,'convRobot2',capacity=3)\n",
    "        self.convRobot2S = pym.Server(self.env,serviceTime=conveyTime)\n",
    "        self.convRobot2Q = pym.Queue(self.env,capacity=2)\n",
    "\n",
    "        self.switch2 = RobotSwitch2(self.env)\n",
    "        # self.convRobot3 = Conveyor(self.env,capacity=3)\n",
    "        self.convRobot3S = pym.Server(self.env,serviceTime=conveyTime)\n",
    "        self.convRobot3Q = pym.Queue(self.env,capacity=2)\n",
    "\n",
    "        self.robot = LabServer(self.env,'robot')\n",
    "        # self.convRobotOut = Conveyor(self.env,capacity=3)\n",
    "        self.convRobotOutS = pym.Server(self.env,serviceTime=conveyTime)\n",
    "        self.convRobotOutQ = pym.Queue(self.env,capacity=2)\n",
    "        # self.conv5 = Conveyor(self.env,capacity=3)\n",
    "        self.conv5S = pym.Server(self.env,serviceTime=conveyTime)\n",
    "        self.conv5Q = pym.Queue(self.env,capacity=2)\n",
    "\n",
    "        self.camera = LabServer(self.env,'camera')\n",
    "        # self.conv6 = Conveyor(self.env,capacity=3)\n",
    "        self.conv6S = pym.Server(self.env,serviceTime=conveyTime)\n",
    "        self.conv6Q = pym.Queue(self.env,capacity=2)\n",
    "\n",
    "        self.back = LabServer(self.env,'back')\n",
    "        # self.conv7 = Conveyor(self.env,capacity=3)\n",
    "        self.conv7S = pym.Server(self.env,serviceTime=conveyTime)\n",
    "        self.conv7Q = pym.Queue(self.env,capacity=2)\n",
    "\n",
    "        self.press = LabServer(self.env,'press')\n",
    "        # self.conv8 = Conveyor(self.env,capacity=3)\n",
    "        self.conv8S = pym.Server(self.env,serviceTime=conveyTime)\n",
    "        self.conv8Q = pym.Queue(self.env,capacity=2)\n",
    "\n",
    "        self.manual = LabServer(self.env,'manual')\n",
    "        self.outSwitch = CloseOutSwitch(self.env)\n",
    "        self.terminator = Terminator(self.env)\n",
    "        \n",
    "        # self.g.Next = self.gate\n",
    "        self.gate.Next = self.conv1S\n",
    "        \n",
    "        # self.conv1.Next = self.front\n",
    "        self.conv1S.Next = self.conv1Q\n",
    "        self.conv1Q.Next = self.front\n",
    "\n",
    "        self.front.Next = self.conv2S\n",
    "        # self.conv2.Next = self.drill\n",
    "        self.conv2S.Next = self.conv2Q\n",
    "        self.conv2Q.Next = self.drill\n",
    "        self.drill.Next = self.conv3S\n",
    "        self.conv3S.Next = self.conv3Q\n",
    "        self.conv3Q.Next = self.switch1\n",
    "        # self.conv3.Next = self.switch1\n",
    "        \n",
    "        self.switch1.Next = [self.convRobot1S,self.bridgeS]\n",
    "        self.convRobot1S.Next = self.convRobot1Q\n",
    "        self.convRobot1Q.Next = self.switch2\n",
    "\n",
    "        self.switch2.Next = [self.convRobot2S,self.convRobot3S]\n",
    "        self.convRobot2S.Next = self.convRobot2Q\n",
    "        self.convRobot2Q.Next = self.robot\n",
    "\n",
    "        self.convRobot3S.Next = self.convRobot3Q\n",
    "        self.convRobot3Q.Next = self.convRobotOutS\n",
    "\n",
    "        self.robot.Next = self.convRobotOutS\n",
    "        self.convRobotOutS.Next = self.convRobotOutQ\n",
    "\n",
    "        self.convRobotOutQ.Next = self.conv5S\n",
    "        self.bridgeS.Next = self.bridgeQ\n",
    "        self.bridgeQ.Next = self.conv5S\n",
    "\n",
    "        \n",
    "        self.conv5S.Next = self.conv5Q\n",
    "        self.conv5Q.Next = self.camera\n",
    "\n",
    "        self.camera.Next = self.conv6S\n",
    "        self.conv6S.Next = self.conv6Q\n",
    "        self.conv6Q.Next = self.back\n",
    "\n",
    "        self.back.Next = self.conv7S\n",
    "        self.conv7S.Next = self.conv7Q\n",
    "        self.conv7Q.Next = self.press\n",
    "\n",
    "        self.press.Next = self.conv8S\n",
    "        self.conv8S.Next = self.conv8Q\n",
    "        self.conv8Q.Next = self.manual\n",
    "\n",
    "        self.manual.Next = self.outSwitch\n",
    "        self.outSwitch.Next = [self.conv1S,self.terminator]\n",
    "        \n",
    "        for x in [self.front,self.drill,self.robot,self.camera,self.back,self.press,self.manual]:\n",
    "            x.controller = self.gate\n",
    "        self.terminator.controller = self.gate\n",
    "        self.gate.lab = self\n",
    "\n",
    "       \n",
    "\n",
    "    def run(self,Tend):\n",
    "        self.env.run(Tend)\n",
    "        if self.gate.dqn_agent.isdone(self.env):\n",
    "            print(\"Operazione completata\")\n",
    "        else:\n",
    "            print(\"Operazione non completata\")\n",
    "        \n",
    "       #return pd.DataFrame(self.env.state_log)\n",
    "        return self.env.state_log\n",
    "\n",
    "\n"
   ]
  },
  {
   "cell_type": "code",
   "execution_count": 14,
   "metadata": {},
   "outputs": [
    {
     "name": "stdout",
     "output_type": "stream",
     "text": [
      "No saved model found, starting with a new model\n",
      "Items in store: [<__main__.Entity object at 0x000001B5A783FD10>, <__main__.Entity object at 0x000001B5A74C25D0>, <__main__.Entity object at 0x000001B5B0AC7A10>, <__main__.Entity object at 0x000001B5B0AC7F50>, <__main__.Entity object at 0x000001B5B0AC7ED0>, <__main__.Entity object at 0x000001B5B0AC7C50>, <__main__.Entity object at 0x000001B5B0AC7C90>, <__main__.Entity object at 0x000001B5B0AC7950>, <__main__.Entity object at 0x000001B5B0AC7590>, <__main__.Entity object at 0x000001B5B0AC7E50>]\n",
      "Simulation finished\n",
      "Model saved to dqn_model.pth\n",
      "Operazione completata\n",
      "514.1618596563477\n",
      "0.0\n"
     ]
    },
    {
     "name": "stderr",
     "output_type": "stream",
     "text": [
      "c:\\Users\\Utente\\GitHub\\hsim\\hsim\\core\\utils.py:64: FutureWarning:\n",
      "\n",
      "A value is trying to be set on a copy of a DataFrame or Series through chained assignment using an inplace method.\n",
      "The behavior will change in pandas 3.0. This inplace method will never work because the intermediate object on which we are setting values always behaves as a copy.\n",
      "\n",
      "For example, when doing 'df[col].method(value, inplace=True)', try using 'df.method({col: value}, inplace=True)' or df[col] = df[col].method(value) instead, to perform the operation inplace on the original object.\n",
      "\n",
      "\n",
      "\n"
     ]
    },
    {
     "data": {
      "application/vnd.plotly.v1+json": {
       "config": {
        "plotlyServerURL": "https://plot.ly"
       },
       "data": [
        {
         "alignmentgroup": "True",
         "base": [
          "2024-09-30T13:24:02.021058",
          "2024-09-30T13:24:02.021058",
          "2024-09-30T13:24:02.021058",
          "2024-09-30T13:24:02.021058",
          "2024-09-30T13:24:02.021058",
          "2024-09-30T13:24:02.021058",
          "2024-09-30T13:24:02.021058",
          "2024-09-30T13:24:19.541058",
          "2024-09-30T13:24:30.061058",
          "2024-09-30T13:24:40.581058",
          "2024-09-30T13:24:51.101058",
          "2024-09-30T13:25:05.541058",
          "2024-09-30T13:25:05.541058",
          "2024-09-30T13:25:42.895412",
          "2024-09-30T13:25:45.541058",
          "2024-09-30T13:25:45.541058",
          "2024-09-30T13:25:59.465412",
          "2024-09-30T13:26:07.658108",
          "2024-09-30T13:26:13.646627",
          "2024-09-30T13:26:24.228108",
          "2024-09-30T13:26:25.541058",
          "2024-09-30T13:26:25.541058",
          "2024-09-30T13:26:30.610680",
          "2024-09-30T13:26:45.361595",
          "2024-09-30T13:27:00.961753",
          "2024-09-30T13:27:05.389394",
          "2024-09-30T13:27:05.541058",
          "2024-09-30T13:27:05.541058",
          "2024-09-30T13:27:21.959394",
          "2024-09-30T13:27:32.946161",
          "2024-09-30T13:27:45.541058",
          "2024-09-30T13:27:45.541058",
          "2024-09-30T13:27:49.516161",
          "2024-09-30T13:27:53.706785",
          "2024-09-30T13:28:07.484926",
          "2024-09-30T13:28:09.885523",
          "2024-09-30T13:28:24.054926",
          "2024-09-30T13:28:25.541058",
          "2024-09-30T13:28:25.541058",
          "2024-09-30T13:28:35.976296",
          "2024-09-30T13:28:41.976296",
          "2024-09-30T13:28:52.390994",
          "2024-09-30T13:28:53.417189",
          "2024-09-30T13:29:01.890994",
          "2024-09-30T13:29:04.484747",
          "2024-09-30T13:29:05.541058",
          "2024-09-30T13:29:12.219750",
          "2024-09-30T13:29:26.442472",
          "2024-09-30T13:29:36.687364",
          "2024-09-30T13:29:45.541058",
          "2024-09-30T13:29:53.257364",
          "2024-09-30T13:30:10.603759",
          "2024-09-30T13:30:15.727301",
          "2024-09-30T13:30:25.541058",
          "2024-09-30T13:30:26.753848",
          "2024-09-30T13:30:32.297301",
          "2024-09-30T13:30:42.239222",
          "2024-09-30T13:30:56.142721",
          "2024-09-30T13:30:57.287865",
          "2024-09-30T13:31:05.541058",
          "2024-09-30T13:31:12.712721",
          "2024-09-30T13:31:26.221861",
          "2024-09-30T13:31:38.664645",
          "2024-09-30T13:31:41.318642",
          "2024-09-30T13:31:55.234645",
          "2024-09-30T13:32:20.572319",
          "2024-09-30T13:32:36.182917"
         ],
         "hovertemplate": "StateName=Starving<br>timeIn=%{base}<br>timeOut=%{x}<br>ResourceName=%{y}<extra></extra>",
         "legendgroup": "Starving",
         "marker": {
          "color": "#636efa",
          "pattern": {
           "shape": ""
          }
         },
         "name": "Starving",
         "offsetgroup": "Starving",
         "orientation": "h",
         "showlegend": true,
         "textposition": "auto",
         "type": "bar",
         "x": [
          7000,
          23520,
          514161.859656,
          81520,
          106874.354781,
          123444.354781,
          137625.569759,
          0,
          0,
          0,
          0,
          0,
          0,
          20645.645219,
          0,
          0,
          14192.695965,
          35882.949254,
          16581.480987,
          47161.285642,
          0,
          0,
          20750.915725,
          42597.798558,
          58745.032776,
          18151.663612,
          0,
          0,
          16986.766822,
          30594.89679,
          0,
          0,
          23968.764903,
          1809.375395,
          36056.131887,
          32090.772214,
          34336.068641,
          0,
          250641.859656,
          0,
          25914.69874,
          31150.063246,
          0,
          40796.369963,
          13735.003559,
          0,
          47037.613954,
          50161.287109,
          26853.693283,
          0,
          28469.937031,
          27693.541756,
          27813.756252,
          0,
          21485.373896,
          29845.419592,
          36473.499035,
          27398.33666,
          34933.996091,
          90641.859656,
          31951.923813,
          35012.783965,
          57518.272503,
          45253.676818,
          40948.272503,
          15610.598502,
          0
         ],
         "xaxis": "x",
         "y": [
          "front",
          "drill",
          "robot",
          "camera",
          "back",
          "press",
          "manual",
          "front",
          "front",
          "front",
          "front",
          "drill",
          "front",
          "camera",
          "drill",
          "front",
          "back",
          "camera",
          "press",
          "back",
          "drill",
          "front",
          "manual",
          "press",
          "manual",
          "camera",
          "drill",
          "front",
          "back",
          "camera",
          "drill",
          "front",
          "back",
          "press",
          "camera",
          "manual",
          "back",
          "drill",
          "front",
          "press",
          "press",
          "camera",
          "manual",
          "back",
          "manual",
          "drill",
          "press",
          "manual",
          "camera",
          "drill",
          "back",
          "press",
          "camera",
          "drill",
          "manual",
          "back",
          "press",
          "camera",
          "manual",
          "drill",
          "back",
          "press",
          "camera",
          "manual",
          "back",
          "press",
          "manual"
         ],
         "yaxis": "y"
        },
        {
         "alignmentgroup": "True",
         "base": [
          "2024-09-30T13:24:09.021058",
          "2024-09-30T13:24:19.541058",
          "2024-09-30T13:24:25.541058",
          "2024-09-30T13:24:30.061058",
          "2024-09-30T13:24:40.581058",
          "2024-09-30T13:24:51.101058",
          "2024-09-30T13:25:05.541058",
          "2024-09-30T13:25:05.541058",
          "2024-09-30T13:25:23.541058",
          "2024-09-30T13:25:45.541058",
          "2024-09-30T13:25:45.541058",
          "2024-09-30T13:25:48.895412",
          "2024-09-30T13:26:03.541058",
          "2024-09-30T13:26:05.465412",
          "2024-09-30T13:26:13.658108",
          "2024-09-30T13:26:19.646627",
          "2024-09-30T13:26:25.541058",
          "2024-09-30T13:26:25.541058",
          "2024-09-30T13:26:30.228108",
          "2024-09-30T13:26:43.541058",
          "2024-09-30T13:26:51.361595",
          "2024-09-30T13:27:05.541058",
          "2024-09-30T13:27:05.541058",
          "2024-09-30T13:27:11.389394",
          "2024-09-30T13:27:23.541058",
          "2024-09-30T13:27:27.959394",
          "2024-09-30T13:27:38.946161",
          "2024-09-30T13:27:45.541058",
          "2024-09-30T13:27:45.541058",
          "2024-09-30T13:27:55.516161",
          "2024-09-30T13:27:59.706785",
          "2024-09-30T13:28:03.541058",
          "2024-09-30T13:28:13.484926",
          "2024-09-30T13:28:25.541058",
          "2024-09-30T13:28:35.976296",
          "2024-09-30T13:28:41.976296",
          "2024-09-30T13:28:43.541058",
          "2024-09-30T13:28:53.417189",
          "2024-09-30T13:28:58.390994",
          "2024-09-30T13:29:05.541058",
          "2024-09-30T13:29:07.890994",
          "2024-09-30T13:29:18.219750",
          "2024-09-30T13:29:23.541058",
          "2024-09-30T13:29:42.687364",
          "2024-09-30T13:29:45.541058",
          "2024-09-30T13:29:59.257364",
          "2024-09-30T13:30:03.541058",
          "2024-09-30T13:30:16.603759",
          "2024-09-30T13:30:21.727301",
          "2024-09-30T13:30:25.541058",
          "2024-09-30T13:30:38.297301",
          "2024-09-30T13:30:43.541058",
          "2024-09-30T13:30:48.239222",
          "2024-09-30T13:31:02.142721",
          "2024-09-30T13:31:18.712721",
          "2024-09-30T13:31:23.541058",
          "2024-09-30T13:31:32.221861",
          "2024-09-30T13:31:44.664645",
          "2024-09-30T13:32:01.234645",
          "2024-09-30T13:32:26.572319"
         ],
         "hovertemplate": "StateName=Working<br>timeIn=%{base}<br>timeOut=%{x}<br>ResourceName=%{y}<extra></extra>",
         "legendgroup": "Working",
         "marker": {
          "color": "#EF553B",
          "pattern": {
           "shape": ""
          }
         },
         "name": "Working",
         "offsetgroup": "Working",
         "orientation": "h",
         "showlegend": true,
         "textposition": "auto",
         "type": "bar",
         "x": [
          10520,
          10520,
          40000,
          10520,
          10520,
          10520,
          40000,
          10520,
          19354.354781,
          40000,
          10520,
          10570,
          4117.050746,
          8181.214978,
          10570,
          10964.052346,
          40000,
          10520,
          15133.487084,
          21848.336388,
          9600.157209,
          40000,
          10520,
          10570,
          9405.10321,
          25747.391427,
          10570,
          40000,
          10520,
          40460.134804,
          10178.737985,
          3943.868113,
          10570,
          40000,
          5881.154324,
          11440.893199,
          8849.936754,
          11067.557991,
          3500,
          40000,
          4328.756009,
          8222.72212,
          13146.306717,
          10570,
          40000,
          11346.395275,
          12186.243748,
          10150.088417,
          10570,
          40000,
          3941.920557,
          12601.66334,
          9048.642792,
          10570,
          7509.139848,
          15123.587153,
          9096.781148,
          10570,
          19337.674001,
          9610.598502
         ],
         "xaxis": "x",
         "y": [
          "front",
          "front",
          "drill",
          "front",
          "front",
          "front",
          "drill",
          "front",
          "camera",
          "drill",
          "front",
          "back",
          "camera",
          "press",
          "back",
          "manual",
          "drill",
          "front",
          "press",
          "camera",
          "manual",
          "drill",
          "front",
          "back",
          "camera",
          "press",
          "back",
          "drill",
          "front",
          "press",
          "manual",
          "camera",
          "back",
          "drill",
          "press",
          "manual",
          "camera",
          "manual",
          "back",
          "drill",
          "press",
          "manual",
          "camera",
          "back",
          "drill",
          "press",
          "camera",
          "manual",
          "back",
          "drill",
          "press",
          "camera",
          "manual",
          "back",
          "press",
          "camera",
          "manual",
          "back",
          "press",
          "manual"
         ],
         "yaxis": "y"
        },
        {
         "alignmentgroup": "True",
         "base": [
          "2024-09-30T13:24:19.541058",
          "2024-09-30T13:24:30.061058",
          "2024-09-30T13:24:40.581058",
          "2024-09-30T13:24:51.101058",
          "2024-09-30T13:25:01.621058",
          "2024-09-30T13:25:05.541058",
          "2024-09-30T13:25:16.061058",
          "2024-09-30T13:25:42.895412",
          "2024-09-30T13:25:45.541058",
          "2024-09-30T13:25:56.061058",
          "2024-09-30T13:25:59.465412",
          "2024-09-30T13:26:07.658108",
          "2024-09-30T13:26:13.646627",
          "2024-09-30T13:26:24.228108",
          "2024-09-30T13:26:25.541058",
          "2024-09-30T13:26:30.610680",
          "2024-09-30T13:26:36.061058",
          "2024-09-30T13:26:45.361595",
          "2024-09-30T13:27:00.961753",
          "2024-09-30T13:27:05.389394",
          "2024-09-30T13:27:05.541058",
          "2024-09-30T13:27:16.061058",
          "2024-09-30T13:27:21.959394",
          "2024-09-30T13:27:32.946161",
          "2024-09-30T13:27:45.541058",
          "2024-09-30T13:27:49.516161",
          "2024-09-30T13:27:53.706785",
          "2024-09-30T13:27:56.061058",
          "2024-09-30T13:28:07.484926",
          "2024-09-30T13:28:09.885523",
          "2024-09-30T13:28:24.054926",
          "2024-09-30T13:28:25.541058",
          "2024-09-30T13:28:35.976296",
          "2024-09-30T13:28:41.857450",
          "2024-09-30T13:28:52.390994",
          "2024-09-30T13:28:53.417189",
          "2024-09-30T13:29:01.890994",
          "2024-09-30T13:29:04.484747",
          "2024-09-30T13:29:05.541058",
          "2024-09-30T13:29:12.219750",
          "2024-09-30T13:29:26.442472",
          "2024-09-30T13:29:36.687364",
          "2024-09-30T13:29:45.541058",
          "2024-09-30T13:29:53.257364",
          "2024-09-30T13:30:10.603759",
          "2024-09-30T13:30:15.727301",
          "2024-09-30T13:30:25.541058",
          "2024-09-30T13:30:26.753848",
          "2024-09-30T13:30:32.297301",
          "2024-09-30T13:30:42.239222",
          "2024-09-30T13:30:56.142721",
          "2024-09-30T13:30:57.287865",
          "2024-09-30T13:31:05.541058",
          "2024-09-30T13:31:12.712721",
          "2024-09-30T13:31:26.221861",
          "2024-09-30T13:31:38.664645",
          "2024-09-30T13:31:41.318642",
          "2024-09-30T13:31:55.234645",
          "2024-09-30T13:32:20.572319",
          "2024-09-30T13:32:36.182917"
         ],
         "hovertemplate": "StateName=Blocking<br>timeIn=%{base}<br>timeOut=%{x}<br>ResourceName=%{y}<extra></extra>",
         "legendgroup": "Blocking",
         "marker": {
          "color": "#00cc96",
          "pattern": {
           "shape": ""
          }
         },
         "name": "Blocking",
         "offsetgroup": "Blocking",
         "orientation": "h",
         "showlegend": true,
         "textposition": "auto",
         "type": "bar",
         "x": [
          0,
          0,
          0,
          0,
          3920,
          0,
          29480,
          0,
          0,
          29480,
          0,
          0,
          0,
          0,
          0,
          0,
          29480,
          0,
          0,
          0,
          0,
          29480,
          0,
          0,
          0,
          0,
          0,
          29480,
          0,
          0,
          0,
          0,
          0,
          118.845676,
          0,
          0,
          0,
          0,
          0,
          0,
          0,
          0,
          0,
          0,
          0,
          0,
          0,
          0,
          0,
          0,
          0,
          0,
          0,
          0,
          0,
          0,
          0,
          0,
          0,
          0
         ],
         "xaxis": "x",
         "y": [
          "front",
          "front",
          "front",
          "front",
          "front",
          "drill",
          "front",
          "camera",
          "drill",
          "front",
          "back",
          "camera",
          "press",
          "back",
          "drill",
          "manual",
          "front",
          "press",
          "manual",
          "camera",
          "drill",
          "front",
          "back",
          "camera",
          "drill",
          "back",
          "press",
          "front",
          "camera",
          "manual",
          "back",
          "drill",
          "press",
          "press",
          "camera",
          "manual",
          "back",
          "manual",
          "drill",
          "press",
          "manual",
          "camera",
          "drill",
          "back",
          "press",
          "camera",
          "drill",
          "manual",
          "back",
          "press",
          "camera",
          "manual",
          "drill",
          "back",
          "press",
          "camera",
          "manual",
          "back",
          "press",
          "manual"
         ],
         "yaxis": "y"
        }
       ],
       "layout": {
        "barmode": "overlay",
        "legend": {
         "title": {
          "text": "StateName"
         },
         "tracegroupgap": 0
        },
        "margin": {
         "t": 60
        },
        "template": {
         "data": {
          "bar": [
           {
            "error_x": {
             "color": "#2a3f5f"
            },
            "error_y": {
             "color": "#2a3f5f"
            },
            "marker": {
             "line": {
              "color": "#E5ECF6",
              "width": 0.5
             },
             "pattern": {
              "fillmode": "overlay",
              "size": 10,
              "solidity": 0.2
             }
            },
            "type": "bar"
           }
          ],
          "barpolar": [
           {
            "marker": {
             "line": {
              "color": "#E5ECF6",
              "width": 0.5
             },
             "pattern": {
              "fillmode": "overlay",
              "size": 10,
              "solidity": 0.2
             }
            },
            "type": "barpolar"
           }
          ],
          "carpet": [
           {
            "aaxis": {
             "endlinecolor": "#2a3f5f",
             "gridcolor": "white",
             "linecolor": "white",
             "minorgridcolor": "white",
             "startlinecolor": "#2a3f5f"
            },
            "baxis": {
             "endlinecolor": "#2a3f5f",
             "gridcolor": "white",
             "linecolor": "white",
             "minorgridcolor": "white",
             "startlinecolor": "#2a3f5f"
            },
            "type": "carpet"
           }
          ],
          "choropleth": [
           {
            "colorbar": {
             "outlinewidth": 0,
             "ticks": ""
            },
            "type": "choropleth"
           }
          ],
          "contour": [
           {
            "colorbar": {
             "outlinewidth": 0,
             "ticks": ""
            },
            "colorscale": [
             [
              0,
              "#0d0887"
             ],
             [
              0.1111111111111111,
              "#46039f"
             ],
             [
              0.2222222222222222,
              "#7201a8"
             ],
             [
              0.3333333333333333,
              "#9c179e"
             ],
             [
              0.4444444444444444,
              "#bd3786"
             ],
             [
              0.5555555555555556,
              "#d8576b"
             ],
             [
              0.6666666666666666,
              "#ed7953"
             ],
             [
              0.7777777777777778,
              "#fb9f3a"
             ],
             [
              0.8888888888888888,
              "#fdca26"
             ],
             [
              1,
              "#f0f921"
             ]
            ],
            "type": "contour"
           }
          ],
          "contourcarpet": [
           {
            "colorbar": {
             "outlinewidth": 0,
             "ticks": ""
            },
            "type": "contourcarpet"
           }
          ],
          "heatmap": [
           {
            "colorbar": {
             "outlinewidth": 0,
             "ticks": ""
            },
            "colorscale": [
             [
              0,
              "#0d0887"
             ],
             [
              0.1111111111111111,
              "#46039f"
             ],
             [
              0.2222222222222222,
              "#7201a8"
             ],
             [
              0.3333333333333333,
              "#9c179e"
             ],
             [
              0.4444444444444444,
              "#bd3786"
             ],
             [
              0.5555555555555556,
              "#d8576b"
             ],
             [
              0.6666666666666666,
              "#ed7953"
             ],
             [
              0.7777777777777778,
              "#fb9f3a"
             ],
             [
              0.8888888888888888,
              "#fdca26"
             ],
             [
              1,
              "#f0f921"
             ]
            ],
            "type": "heatmap"
           }
          ],
          "heatmapgl": [
           {
            "colorbar": {
             "outlinewidth": 0,
             "ticks": ""
            },
            "colorscale": [
             [
              0,
              "#0d0887"
             ],
             [
              0.1111111111111111,
              "#46039f"
             ],
             [
              0.2222222222222222,
              "#7201a8"
             ],
             [
              0.3333333333333333,
              "#9c179e"
             ],
             [
              0.4444444444444444,
              "#bd3786"
             ],
             [
              0.5555555555555556,
              "#d8576b"
             ],
             [
              0.6666666666666666,
              "#ed7953"
             ],
             [
              0.7777777777777778,
              "#fb9f3a"
             ],
             [
              0.8888888888888888,
              "#fdca26"
             ],
             [
              1,
              "#f0f921"
             ]
            ],
            "type": "heatmapgl"
           }
          ],
          "histogram": [
           {
            "marker": {
             "pattern": {
              "fillmode": "overlay",
              "size": 10,
              "solidity": 0.2
             }
            },
            "type": "histogram"
           }
          ],
          "histogram2d": [
           {
            "colorbar": {
             "outlinewidth": 0,
             "ticks": ""
            },
            "colorscale": [
             [
              0,
              "#0d0887"
             ],
             [
              0.1111111111111111,
              "#46039f"
             ],
             [
              0.2222222222222222,
              "#7201a8"
             ],
             [
              0.3333333333333333,
              "#9c179e"
             ],
             [
              0.4444444444444444,
              "#bd3786"
             ],
             [
              0.5555555555555556,
              "#d8576b"
             ],
             [
              0.6666666666666666,
              "#ed7953"
             ],
             [
              0.7777777777777778,
              "#fb9f3a"
             ],
             [
              0.8888888888888888,
              "#fdca26"
             ],
             [
              1,
              "#f0f921"
             ]
            ],
            "type": "histogram2d"
           }
          ],
          "histogram2dcontour": [
           {
            "colorbar": {
             "outlinewidth": 0,
             "ticks": ""
            },
            "colorscale": [
             [
              0,
              "#0d0887"
             ],
             [
              0.1111111111111111,
              "#46039f"
             ],
             [
              0.2222222222222222,
              "#7201a8"
             ],
             [
              0.3333333333333333,
              "#9c179e"
             ],
             [
              0.4444444444444444,
              "#bd3786"
             ],
             [
              0.5555555555555556,
              "#d8576b"
             ],
             [
              0.6666666666666666,
              "#ed7953"
             ],
             [
              0.7777777777777778,
              "#fb9f3a"
             ],
             [
              0.8888888888888888,
              "#fdca26"
             ],
             [
              1,
              "#f0f921"
             ]
            ],
            "type": "histogram2dcontour"
           }
          ],
          "mesh3d": [
           {
            "colorbar": {
             "outlinewidth": 0,
             "ticks": ""
            },
            "type": "mesh3d"
           }
          ],
          "parcoords": [
           {
            "line": {
             "colorbar": {
              "outlinewidth": 0,
              "ticks": ""
             }
            },
            "type": "parcoords"
           }
          ],
          "pie": [
           {
            "automargin": true,
            "type": "pie"
           }
          ],
          "scatter": [
           {
            "fillpattern": {
             "fillmode": "overlay",
             "size": 10,
             "solidity": 0.2
            },
            "type": "scatter"
           }
          ],
          "scatter3d": [
           {
            "line": {
             "colorbar": {
              "outlinewidth": 0,
              "ticks": ""
             }
            },
            "marker": {
             "colorbar": {
              "outlinewidth": 0,
              "ticks": ""
             }
            },
            "type": "scatter3d"
           }
          ],
          "scattercarpet": [
           {
            "marker": {
             "colorbar": {
              "outlinewidth": 0,
              "ticks": ""
             }
            },
            "type": "scattercarpet"
           }
          ],
          "scattergeo": [
           {
            "marker": {
             "colorbar": {
              "outlinewidth": 0,
              "ticks": ""
             }
            },
            "type": "scattergeo"
           }
          ],
          "scattergl": [
           {
            "marker": {
             "colorbar": {
              "outlinewidth": 0,
              "ticks": ""
             }
            },
            "type": "scattergl"
           }
          ],
          "scattermapbox": [
           {
            "marker": {
             "colorbar": {
              "outlinewidth": 0,
              "ticks": ""
             }
            },
            "type": "scattermapbox"
           }
          ],
          "scatterpolar": [
           {
            "marker": {
             "colorbar": {
              "outlinewidth": 0,
              "ticks": ""
             }
            },
            "type": "scatterpolar"
           }
          ],
          "scatterpolargl": [
           {
            "marker": {
             "colorbar": {
              "outlinewidth": 0,
              "ticks": ""
             }
            },
            "type": "scatterpolargl"
           }
          ],
          "scatterternary": [
           {
            "marker": {
             "colorbar": {
              "outlinewidth": 0,
              "ticks": ""
             }
            },
            "type": "scatterternary"
           }
          ],
          "surface": [
           {
            "colorbar": {
             "outlinewidth": 0,
             "ticks": ""
            },
            "colorscale": [
             [
              0,
              "#0d0887"
             ],
             [
              0.1111111111111111,
              "#46039f"
             ],
             [
              0.2222222222222222,
              "#7201a8"
             ],
             [
              0.3333333333333333,
              "#9c179e"
             ],
             [
              0.4444444444444444,
              "#bd3786"
             ],
             [
              0.5555555555555556,
              "#d8576b"
             ],
             [
              0.6666666666666666,
              "#ed7953"
             ],
             [
              0.7777777777777778,
              "#fb9f3a"
             ],
             [
              0.8888888888888888,
              "#fdca26"
             ],
             [
              1,
              "#f0f921"
             ]
            ],
            "type": "surface"
           }
          ],
          "table": [
           {
            "cells": {
             "fill": {
              "color": "#EBF0F8"
             },
             "line": {
              "color": "white"
             }
            },
            "header": {
             "fill": {
              "color": "#C8D4E3"
             },
             "line": {
              "color": "white"
             }
            },
            "type": "table"
           }
          ]
         },
         "layout": {
          "annotationdefaults": {
           "arrowcolor": "#2a3f5f",
           "arrowhead": 0,
           "arrowwidth": 1
          },
          "autotypenumbers": "strict",
          "coloraxis": {
           "colorbar": {
            "outlinewidth": 0,
            "ticks": ""
           }
          },
          "colorscale": {
           "diverging": [
            [
             0,
             "#8e0152"
            ],
            [
             0.1,
             "#c51b7d"
            ],
            [
             0.2,
             "#de77ae"
            ],
            [
             0.3,
             "#f1b6da"
            ],
            [
             0.4,
             "#fde0ef"
            ],
            [
             0.5,
             "#f7f7f7"
            ],
            [
             0.6,
             "#e6f5d0"
            ],
            [
             0.7,
             "#b8e186"
            ],
            [
             0.8,
             "#7fbc41"
            ],
            [
             0.9,
             "#4d9221"
            ],
            [
             1,
             "#276419"
            ]
           ],
           "sequential": [
            [
             0,
             "#0d0887"
            ],
            [
             0.1111111111111111,
             "#46039f"
            ],
            [
             0.2222222222222222,
             "#7201a8"
            ],
            [
             0.3333333333333333,
             "#9c179e"
            ],
            [
             0.4444444444444444,
             "#bd3786"
            ],
            [
             0.5555555555555556,
             "#d8576b"
            ],
            [
             0.6666666666666666,
             "#ed7953"
            ],
            [
             0.7777777777777778,
             "#fb9f3a"
            ],
            [
             0.8888888888888888,
             "#fdca26"
            ],
            [
             1,
             "#f0f921"
            ]
           ],
           "sequentialminus": [
            [
             0,
             "#0d0887"
            ],
            [
             0.1111111111111111,
             "#46039f"
            ],
            [
             0.2222222222222222,
             "#7201a8"
            ],
            [
             0.3333333333333333,
             "#9c179e"
            ],
            [
             0.4444444444444444,
             "#bd3786"
            ],
            [
             0.5555555555555556,
             "#d8576b"
            ],
            [
             0.6666666666666666,
             "#ed7953"
            ],
            [
             0.7777777777777778,
             "#fb9f3a"
            ],
            [
             0.8888888888888888,
             "#fdca26"
            ],
            [
             1,
             "#f0f921"
            ]
           ]
          },
          "colorway": [
           "#636efa",
           "#EF553B",
           "#00cc96",
           "#ab63fa",
           "#FFA15A",
           "#19d3f3",
           "#FF6692",
           "#B6E880",
           "#FF97FF",
           "#FECB52"
          ],
          "font": {
           "color": "#2a3f5f"
          },
          "geo": {
           "bgcolor": "white",
           "lakecolor": "white",
           "landcolor": "#E5ECF6",
           "showlakes": true,
           "showland": true,
           "subunitcolor": "white"
          },
          "hoverlabel": {
           "align": "left"
          },
          "hovermode": "closest",
          "mapbox": {
           "style": "light"
          },
          "paper_bgcolor": "white",
          "plot_bgcolor": "#E5ECF6",
          "polar": {
           "angularaxis": {
            "gridcolor": "white",
            "linecolor": "white",
            "ticks": ""
           },
           "bgcolor": "#E5ECF6",
           "radialaxis": {
            "gridcolor": "white",
            "linecolor": "white",
            "ticks": ""
           }
          },
          "scene": {
           "xaxis": {
            "backgroundcolor": "#E5ECF6",
            "gridcolor": "white",
            "gridwidth": 2,
            "linecolor": "white",
            "showbackground": true,
            "ticks": "",
            "zerolinecolor": "white"
           },
           "yaxis": {
            "backgroundcolor": "#E5ECF6",
            "gridcolor": "white",
            "gridwidth": 2,
            "linecolor": "white",
            "showbackground": true,
            "ticks": "",
            "zerolinecolor": "white"
           },
           "zaxis": {
            "backgroundcolor": "#E5ECF6",
            "gridcolor": "white",
            "gridwidth": 2,
            "linecolor": "white",
            "showbackground": true,
            "ticks": "",
            "zerolinecolor": "white"
           }
          },
          "shapedefaults": {
           "line": {
            "color": "#2a3f5f"
           }
          },
          "ternary": {
           "aaxis": {
            "gridcolor": "white",
            "linecolor": "white",
            "ticks": ""
           },
           "baxis": {
            "gridcolor": "white",
            "linecolor": "white",
            "ticks": ""
           },
           "bgcolor": "#E5ECF6",
           "caxis": {
            "gridcolor": "white",
            "linecolor": "white",
            "ticks": ""
           }
          },
          "title": {
           "x": 0.05
          },
          "xaxis": {
           "automargin": true,
           "gridcolor": "white",
           "linecolor": "white",
           "ticks": "",
           "title": {
            "standoff": 15
           },
           "zerolinecolor": "white",
           "zerolinewidth": 2
          },
          "yaxis": {
           "automargin": true,
           "gridcolor": "white",
           "linecolor": "white",
           "ticks": "",
           "title": {
            "standoff": 15
           },
           "zerolinecolor": "white",
           "zerolinewidth": 2
          }
         }
        },
        "xaxis": {
         "anchor": "y",
         "domain": [
          0,
          1
         ],
         "type": "date"
        },
        "yaxis": {
         "anchor": "x",
         "domain": [
          0,
          1
         ],
         "title": {
          "text": "ResourceName"
         }
        }
       }
      }
     },
     "metadata": {},
     "output_type": "display_data"
    }
   ],
   "source": [
    "import warnings\n",
    "warnings.filterwarnings(\"ignore\", category=pd.errors.SettingWithCopyWarning)\n",
    "warnings.filterwarnings(\"ignore\", category=RuntimeWarning, message=\"All-NaN slice encountered\")\n",
    "model_path = 'dqn_model.pth'\n",
    "Entity.reset_id_counter()\n",
    "if os.path.exists(model_path):\n",
    "    os.remove(model_path)\n",
    "\n",
    "s,b = batchCreate(0,numJobs=10,return_both=True) #b è la lista \n",
    "makespan=[]\n",
    "lab=Lab(b,900)\n",
    "# lab.gate.Store.items = [item['Entity'] for item in b] #\n",
    "lab.gate.Store.items=copy.copy(s)\n",
    "print(f\"Items in store: {lab.gate.Store.items}\")\n",
    "\n",
    "lab.run(900)\n",
    "df = pd.DataFrame(lab.env.state_log, columns=[\"Resource\",\"ResourceName\",\"State\",\"StateName\",\"Entity\",\"?\",\"timeIn\",\"timeOut\"])\n",
    "df= df.loc[df.ResourceName.isin([\"front\",\"drill\",\"robot\",\"camera\",\"back\",\"press\",\"manual\"])]\n",
    "mks=df.timeOut.max()-df.timeIn.min()\n",
    "print(df.timeOut.max())\n",
    "print(df.timeIn.min())\n",
    "makespan.append(mks)\n",
    "df.to_excel('mappafinale.xlsx')\n",
    "fig = utils.createGantt(df)\n",
    "fig.show()\n"
   ]
  },
  {
   "cell_type": "code",
   "execution_count": 11,
   "metadata": {},
   "outputs": [],
   "source": [
    "# import pickle\n",
    "# agent=lab.gate.dqn_agent\n",
    "# # Serialize the classifier to a file named 'agent.pkl'\n",
    "# with open('agent.pkl', 'wb') as file:\n",
    "#     pickle.dump(agent, file)\n",
    "\n",
    "# To later deserialize the classifier from the file\n",
    "# with open('agent.pkl', 'rb') as file:\n",
    "#     loaded_agent = pickle.load(file)\n",
    "# lab.gate.dqn_agent=loaded_agent"
   ]
  },
  {
   "cell_type": "code",
   "execution_count": 12,
   "metadata": {},
   "outputs": [
    {
     "name": "stdout",
     "output_type": "stream",
     "text": [
      "Modello esistente trovato al ciclo 0.\n",
      "No saved model found, starting with a new model\n",
      "Simulation finished\n",
      "Model saved to dqn_model.pth\n",
      "Operazione completata\n",
      "Model saved correctly\n",
      "Model loaded from dqn_model.pth\n",
      "Simulation finished\n",
      "Model saved to dqn_model.pth\n",
      "Operazione completata\n",
      "Model saved correctly\n",
      "Model loaded from dqn_model.pth\n",
      "Simulation finished\n",
      "Model saved to dqn_model.pth\n",
      "Operazione completata\n",
      "Model saved correctly\n",
      "Model loaded from dqn_model.pth\n",
      "Simulation finished\n",
      "Model saved to dqn_model.pth\n",
      "Operazione completata\n",
      "Model saved correctly\n",
      "Model loaded from dqn_model.pth\n",
      "Simulation finished\n",
      "Model saved to dqn_model.pth\n",
      "Operazione completata\n",
      "Model saved correctly\n",
      "Model loaded from dqn_model.pth\n"
     ]
    },
    {
     "ename": "KeyboardInterrupt",
     "evalue": "",
     "output_type": "error",
     "traceback": [
      "\u001b[1;31m---------------------------------------------------------------------------\u001b[0m",
      "\u001b[1;31mKeyboardInterrupt\u001b[0m                         Traceback (most recent call last)",
      "Cell \u001b[1;32mIn[12], line 22\u001b[0m\n\u001b[0;32m     20\u001b[0m \u001b[38;5;28;01mif\u001b[39;00m i \u001b[38;5;241m>\u001b[39m \u001b[38;5;241m0\u001b[39m:\n\u001b[0;32m     21\u001b[0m     \u001b[38;5;28;01massert\u001b[39;00m lab\u001b[38;5;241m.\u001b[39mgate\u001b[38;5;241m.\u001b[39mdqn_agent\u001b[38;5;241m.\u001b[39mmodel \u001b[38;5;129;01mis\u001b[39;00m \u001b[38;5;129;01mnot\u001b[39;00m \u001b[38;5;28;01mNone\u001b[39;00m, \u001b[38;5;124m\"\u001b[39m\u001b[38;5;124mModel not loaded correctly\u001b[39m\u001b[38;5;124m\"\u001b[39m\n\u001b[1;32m---> 22\u001b[0m \u001b[43mlab\u001b[49m\u001b[38;5;241;43m.\u001b[39;49m\u001b[43mrun\u001b[49m\u001b[43m(\u001b[49m\u001b[38;5;241;43m900\u001b[39;49m\u001b[43m)\u001b[49m\n\u001b[0;32m     24\u001b[0m df \u001b[38;5;241m=\u001b[39m pd\u001b[38;5;241m.\u001b[39mDataFrame(lab\u001b[38;5;241m.\u001b[39menv\u001b[38;5;241m.\u001b[39mstate_log, columns\u001b[38;5;241m=\u001b[39m[\u001b[38;5;124m\"\u001b[39m\u001b[38;5;124mResource\u001b[39m\u001b[38;5;124m\"\u001b[39m,\u001b[38;5;124m\"\u001b[39m\u001b[38;5;124mResourceName\u001b[39m\u001b[38;5;124m\"\u001b[39m,\u001b[38;5;124m\"\u001b[39m\u001b[38;5;124mState\u001b[39m\u001b[38;5;124m\"\u001b[39m,\u001b[38;5;124m\"\u001b[39m\u001b[38;5;124mStateName\u001b[39m\u001b[38;5;124m\"\u001b[39m,\u001b[38;5;124m\"\u001b[39m\u001b[38;5;124mEntity\u001b[39m\u001b[38;5;124m\"\u001b[39m,\u001b[38;5;124m\"\u001b[39m\u001b[38;5;124m?\u001b[39m\u001b[38;5;124m\"\u001b[39m,\u001b[38;5;124m\"\u001b[39m\u001b[38;5;124mtimeIn\u001b[39m\u001b[38;5;124m\"\u001b[39m,\u001b[38;5;124m\"\u001b[39m\u001b[38;5;124mtimeOut\u001b[39m\u001b[38;5;124m\"\u001b[39m])\n\u001b[0;32m     25\u001b[0m df\u001b[38;5;241m=\u001b[39m df\u001b[38;5;241m.\u001b[39mloc[df\u001b[38;5;241m.\u001b[39mResourceName\u001b[38;5;241m.\u001b[39misin([\u001b[38;5;124m\"\u001b[39m\u001b[38;5;124mfront\u001b[39m\u001b[38;5;124m\"\u001b[39m,\u001b[38;5;124m\"\u001b[39m\u001b[38;5;124mdrill\u001b[39m\u001b[38;5;124m\"\u001b[39m,\u001b[38;5;124m\"\u001b[39m\u001b[38;5;124mrobot\u001b[39m\u001b[38;5;124m\"\u001b[39m,\u001b[38;5;124m\"\u001b[39m\u001b[38;5;124mcamera\u001b[39m\u001b[38;5;124m\"\u001b[39m,\u001b[38;5;124m\"\u001b[39m\u001b[38;5;124mback\u001b[39m\u001b[38;5;124m\"\u001b[39m,\u001b[38;5;124m\"\u001b[39m\u001b[38;5;124mpress\u001b[39m\u001b[38;5;124m\"\u001b[39m,\u001b[38;5;124m\"\u001b[39m\u001b[38;5;124mmanual\u001b[39m\u001b[38;5;124m\"\u001b[39m])]\n",
      "Cell \u001b[1;32mIn[11], line 935\u001b[0m, in \u001b[0;36mLab.run\u001b[1;34m(self, Tend)\u001b[0m\n\u001b[0;32m    934\u001b[0m \u001b[38;5;28;01mdef\u001b[39;00m \u001b[38;5;21mrun\u001b[39m(\u001b[38;5;28mself\u001b[39m,Tend):\n\u001b[1;32m--> 935\u001b[0m     \u001b[38;5;28;43mself\u001b[39;49m\u001b[38;5;241;43m.\u001b[39;49m\u001b[43menv\u001b[49m\u001b[38;5;241;43m.\u001b[39;49m\u001b[43mrun\u001b[49m\u001b[43m(\u001b[49m\u001b[43mTend\u001b[49m\u001b[43m)\u001b[49m\n\u001b[0;32m    936\u001b[0m     \u001b[38;5;28;01mif\u001b[39;00m \u001b[38;5;28mself\u001b[39m\u001b[38;5;241m.\u001b[39mgate\u001b[38;5;241m.\u001b[39mdqn_agent\u001b[38;5;241m.\u001b[39misdone(\u001b[38;5;28mself\u001b[39m\u001b[38;5;241m.\u001b[39menv):\n\u001b[0;32m    937\u001b[0m         \u001b[38;5;28mprint\u001b[39m(\u001b[38;5;124m\"\u001b[39m\u001b[38;5;124mOperazione completata\u001b[39m\u001b[38;5;124m\"\u001b[39m)\n",
      "File \u001b[1;32mc:\\Users\\Utente\\GitHub\\hsim\\hsim\\core\\core.py:43\u001b[0m, in \u001b[0;36mEnvironment.run\u001b[1;34m(self, until)\u001b[0m\n\u001b[0;32m     41\u001b[0m     \u001b[38;5;28mprint\u001b[39m(\u001b[38;5;124m'\u001b[39m\u001b[38;5;124mTime \u001b[39m\u001b[38;5;132;01m%d\u001b[39;00m\u001b[38;5;124m <= \u001b[39m\u001b[38;5;132;01m%d\u001b[39;00m\u001b[38;5;124m (current time) --> executing until \u001b[39m\u001b[38;5;132;01m%d\u001b[39;00m\u001b[38;5;124m'\u001b[39m \u001b[38;5;241m%\u001b[39m(at, \u001b[38;5;28mself\u001b[39m\u001b[38;5;241m.\u001b[39mnow, at\u001b[38;5;241m+\u001b[39m\u001b[38;5;28mself\u001b[39m\u001b[38;5;241m.\u001b[39mnow))\n\u001b[0;32m     42\u001b[0m     at \u001b[38;5;241m+\u001b[39m\u001b[38;5;241m=\u001b[39m \u001b[38;5;28mself\u001b[39m\u001b[38;5;241m.\u001b[39mnow\n\u001b[1;32m---> 43\u001b[0m \u001b[38;5;28;43msuper\u001b[39;49m\u001b[43m(\u001b[49m\u001b[43m)\u001b[49m\u001b[38;5;241;43m.\u001b[39;49m\u001b[43mrun\u001b[49m\u001b[43m(\u001b[49m\u001b[43mat\u001b[49m\u001b[43m)\u001b[49m\n",
      "File \u001b[1;32mc:\\Users\\Utente\\GitHub\\hsim\\.venv\\Lib\\site-packages\\simpy\\core.py:246\u001b[0m, in \u001b[0;36mEnvironment.run\u001b[1;34m(self, until)\u001b[0m\n\u001b[0;32m    244\u001b[0m \u001b[38;5;28;01mtry\u001b[39;00m:\n\u001b[0;32m    245\u001b[0m     \u001b[38;5;28;01mwhile\u001b[39;00m \u001b[38;5;28;01mTrue\u001b[39;00m:\n\u001b[1;32m--> 246\u001b[0m         \u001b[38;5;28;43mself\u001b[39;49m\u001b[38;5;241;43m.\u001b[39;49m\u001b[43mstep\u001b[49m\u001b[43m(\u001b[49m\u001b[43m)\u001b[49m\n\u001b[0;32m    247\u001b[0m \u001b[38;5;28;01mexcept\u001b[39;00m StopSimulation \u001b[38;5;28;01mas\u001b[39;00m exc:\n\u001b[0;32m    248\u001b[0m     \u001b[38;5;28;01mreturn\u001b[39;00m exc\u001b[38;5;241m.\u001b[39margs[\u001b[38;5;241m0\u001b[39m]  \u001b[38;5;66;03m# == until.value\u001b[39;00m\n",
      "File \u001b[1;32mc:\\Users\\Utente\\GitHub\\hsim\\hsim\\core\\core.py:62\u001b[0m, in \u001b[0;36mEnvironment.step\u001b[1;34m(self)\u001b[0m\n\u001b[0;32m     60\u001b[0m     \u001b[38;5;28;01mif\u001b[39;00m \u001b[38;5;28mself\u001b[39m\u001b[38;5;241m.\u001b[39m_queue[\u001b[38;5;241m0\u001b[39m][\u001b[38;5;241m-\u001b[39m\u001b[38;5;241m1\u001b[39m]\u001b[38;5;241m.\u001b[39mcallbacks \u001b[38;5;129;01mis\u001b[39;00m \u001b[38;5;28;01mNone\u001b[39;00m:\n\u001b[0;32m     61\u001b[0m         \u001b[38;5;28mself\u001b[39m\u001b[38;5;241m.\u001b[39m_queue[\u001b[38;5;241m0\u001b[39m][\u001b[38;5;241m-\u001b[39m\u001b[38;5;241m1\u001b[39m]\u001b[38;5;241m.\u001b[39mcallbacks \u001b[38;5;241m=\u001b[39m []\n\u001b[1;32m---> 62\u001b[0m \u001b[38;5;28;43msuper\u001b[39;49m\u001b[43m(\u001b[49m\u001b[43m)\u001b[49m\u001b[38;5;241;43m.\u001b[39;49m\u001b[43mstep\u001b[49m\u001b[43m(\u001b[49m\u001b[43m)\u001b[49m\n",
      "File \u001b[1;32mc:\\Users\\Utente\\GitHub\\hsim\\.venv\\Lib\\site-packages\\simpy\\core.py:196\u001b[0m, in \u001b[0;36mEnvironment.step\u001b[1;34m(self)\u001b[0m\n\u001b[0;32m    194\u001b[0m callbacks, event\u001b[38;5;241m.\u001b[39mcallbacks \u001b[38;5;241m=\u001b[39m event\u001b[38;5;241m.\u001b[39mcallbacks, \u001b[38;5;28;01mNone\u001b[39;00m  \u001b[38;5;66;03m# type: ignore\u001b[39;00m\n\u001b[0;32m    195\u001b[0m \u001b[38;5;28;01mfor\u001b[39;00m callback \u001b[38;5;129;01min\u001b[39;00m callbacks:\n\u001b[1;32m--> 196\u001b[0m     \u001b[43mcallback\u001b[49m\u001b[43m(\u001b[49m\u001b[43mevent\u001b[49m\u001b[43m)\u001b[49m\n\u001b[0;32m    198\u001b[0m \u001b[38;5;28;01mif\u001b[39;00m \u001b[38;5;129;01mnot\u001b[39;00m event\u001b[38;5;241m.\u001b[39m_ok \u001b[38;5;129;01mand\u001b[39;00m \u001b[38;5;129;01mnot\u001b[39;00m \u001b[38;5;28mhasattr\u001b[39m(event, \u001b[38;5;124m'\u001b[39m\u001b[38;5;124m_defused\u001b[39m\u001b[38;5;124m'\u001b[39m):\n\u001b[0;32m    199\u001b[0m     \u001b[38;5;66;03m# The event has failed and has not been defused. Crash the\u001b[39;00m\n\u001b[0;32m    200\u001b[0m     \u001b[38;5;66;03m# environment.\u001b[39;00m\n\u001b[0;32m    201\u001b[0m     \u001b[38;5;66;03m# Create a copy of the failure exception with a new traceback.\u001b[39;00m\n\u001b[0;32m    202\u001b[0m     exc \u001b[38;5;241m=\u001b[39m \u001b[38;5;28mtype\u001b[39m(event\u001b[38;5;241m.\u001b[39m_value)(\u001b[38;5;241m*\u001b[39mevent\u001b[38;5;241m.\u001b[39m_value\u001b[38;5;241m.\u001b[39margs)\n",
      "File \u001b[1;32mc:\\Users\\Utente\\GitHub\\hsim\\hsim\\core\\chfsm.py:268\u001b[0m, in \u001b[0;36mState._resume\u001b[1;34m(self, event)\u001b[0m\n\u001b[0;32m    266\u001b[0m \u001b[38;5;28mself\u001b[39m\u001b[38;5;241m.\u001b[39menv\u001b[38;5;241m.\u001b[39m_active_proc \u001b[38;5;241m=\u001b[39m \u001b[38;5;28mself\u001b[39m\n\u001b[0;32m    267\u001b[0m \u001b[38;5;28;01mif\u001b[39;00m \u001b[38;5;28misinstance\u001b[39m(event,Initialize):\n\u001b[1;32m--> 268\u001b[0m     \u001b[43mmethod_lambda\u001b[49m\u001b[43m(\u001b[49m\u001b[38;5;28;43mself\u001b[39;49m\u001b[43m,\u001b[49m\u001b[38;5;28;43mself\u001b[39;49m\u001b[38;5;241;43m.\u001b[39;49m\u001b[43m_do\u001b[49m\u001b[43m)\u001b[49m\n\u001b[0;32m    269\u001b[0m     events \u001b[38;5;241m=\u001b[39m \u001b[38;5;28mlist\u001b[39m()\n\u001b[0;32m    270\u001b[0m     \u001b[38;5;28;01mfor\u001b[39;00m transition \u001b[38;5;129;01min\u001b[39;00m \u001b[38;5;28mself\u001b[39m\u001b[38;5;241m.\u001b[39m_transitions:\n\u001b[0;32m    271\u001b[0m         \u001b[38;5;66;03m# transition._state = self\u001b[39;00m\n",
      "File \u001b[1;32mc:\\Users\\Utente\\GitHub\\hsim\\hsim\\core\\core.py:108\u001b[0m, in \u001b[0;36mmethod_lambda\u001b[1;34m(self, function)\u001b[0m\n\u001b[0;32m    106\u001b[0m     \u001b[38;5;28;01mreturn\u001b[39;00m function(\u001b[38;5;28mself\u001b[39m)\n\u001b[0;32m    107\u001b[0m \u001b[38;5;28;01melse\u001b[39;00m:\n\u001b[1;32m--> 108\u001b[0m     \u001b[38;5;28;01mreturn\u001b[39;00m \u001b[43mfunction\u001b[49m\u001b[43m(\u001b[49m\u001b[43m)\u001b[49m\n",
      "Cell \u001b[1;32mIn[11], line 600\u001b[0m, in \u001b[0;36mGate.Loading._do\u001b[1;34m(self)\u001b[0m\n\u001b[0;32m    597\u001b[0m \u001b[38;5;28;01mdef\u001b[39;00m \u001b[38;5;21m_do\u001b[39m(\u001b[38;5;28mself\u001b[39m):\n\u001b[0;32m    598\u001b[0m     \u001b[38;5;66;03m# print('Load: %d' %self.sm.initialWIP)\u001b[39;00m\n\u001b[0;32m    599\u001b[0m     \u001b[38;5;28mself\u001b[39m\u001b[38;5;241m.\u001b[39msm\u001b[38;5;241m.\u001b[39minitialWIP \u001b[38;5;241m-\u001b[39m\u001b[38;5;241m=\u001b[39m \u001b[38;5;241m1\u001b[39m\n\u001b[1;32m--> 600\u001b[0m     \u001b[38;5;28;43mself\u001b[39;49m\u001b[38;5;241;43m.\u001b[39;49m\u001b[43mfw\u001b[49m\u001b[43m(\u001b[49m\u001b[43m)\u001b[49m\n",
      "Cell \u001b[1;32mIn[11], line 630\u001b[0m, in \u001b[0;36mGate.fw\u001b[1;34m(self)\u001b[0m\n\u001b[0;32m    624\u001b[0m     \u001b[38;5;28;01mdef\u001b[39;00m \u001b[38;5;21mfw\u001b[39m(\u001b[38;5;28mself\u001b[39m):    \n\u001b[0;32m    625\u001b[0m         \u001b[38;5;28;01mif\u001b[39;00m \u001b[38;5;28mself\u001b[39m\u001b[38;5;241m.\u001b[39mrequest \u001b[38;5;129;01mis\u001b[39;00m \u001b[38;5;28;01mNone\u001b[39;00m:\n\u001b[0;32m    626\u001b[0m            \u001b[38;5;66;03m#self.request = self.Store.get(self.filtro('<__main__.Entity object at 0x00000222C40317D0>'))\u001b[39;00m\n\u001b[0;32m    627\u001b[0m \u001b[38;5;66;03m#INIZIO NUOVO CODICE\u001b[39;00m\n\u001b[0;32m    628\u001b[0m             \u001b[38;5;66;03m# count=len(lab.gate.Store.items)\u001b[39;00m\n\u001b[0;32m    629\u001b[0m             \u001b[38;5;66;03m# print(f'numero di entità nello store {count}')\u001b[39;00m\n\u001b[1;32m--> 630\u001b[0m             current_state,columns \u001b[38;5;241m=\u001b[39m \u001b[38;5;28;43mself\u001b[39;49m\u001b[38;5;241;43m.\u001b[39;49m\u001b[43mget_state\u001b[49m\u001b[43m(\u001b[49m\u001b[43mlab\u001b[49m\u001b[38;5;241;43m.\u001b[39;49m\u001b[43mb_df\u001b[49m\u001b[43m,\u001b[49m\u001b[43mval\u001b[49m\u001b[38;5;241;43m=\u001b[39;49m\u001b[38;5;28;43;01mFalse\u001b[39;49;00m\u001b[43m)\u001b[49m\n\u001b[0;32m    631\u001b[0m             \u001b[38;5;66;03m# pd.DataFrame(current_state).to_excel('current_state.xlsx')\u001b[39;00m\n\u001b[0;32m    632\u001b[0m             type_col_index, entity_col_index \u001b[38;5;241m=\u001b[39m \u001b[38;5;28mself\u001b[39m\u001b[38;5;241m.\u001b[39mindexcolumns(columns)\n",
      "Cell \u001b[1;32mIn[11], line 540\u001b[0m, in \u001b[0;36mGate.get_state\u001b[1;34m(self, b_df, val)\u001b[0m\n\u001b[0;32m    538\u001b[0m machine_df\u001b[38;5;241m=\u001b[39mmachine_df\u001b[38;5;241m.\u001b[39mloc[machine_df\u001b[38;5;241m.\u001b[39mResourceName\u001b[38;5;241m.\u001b[39misin([\u001b[38;5;124m\"\u001b[39m\u001b[38;5;124mfront\u001b[39m\u001b[38;5;124m\"\u001b[39m,\u001b[38;5;124m\"\u001b[39m\u001b[38;5;124mdrill\u001b[39m\u001b[38;5;124m\"\u001b[39m,\u001b[38;5;124m\"\u001b[39m\u001b[38;5;124mrobot\u001b[39m\u001b[38;5;124m\"\u001b[39m,\u001b[38;5;124m\"\u001b[39m\u001b[38;5;124mcamera\u001b[39m\u001b[38;5;124m\"\u001b[39m,\u001b[38;5;124m\"\u001b[39m\u001b[38;5;124mback\u001b[39m\u001b[38;5;124m\"\u001b[39m,\u001b[38;5;124m\"\u001b[39m\u001b[38;5;124mpress\u001b[39m\u001b[38;5;124m\"\u001b[39m,\u001b[38;5;124m\"\u001b[39m\u001b[38;5;124mmanual\u001b[39m\u001b[38;5;124m\"\u001b[39m])]\n\u001b[0;32m    539\u001b[0m batch_df \u001b[38;5;241m=\u001b[39m b_df[b_df[\u001b[38;5;124m'\u001b[39m\u001b[38;5;124mEntity\u001b[39m\u001b[38;5;124m'\u001b[39m]\u001b[38;5;241m.\u001b[39misin(lab\u001b[38;5;241m.\u001b[39mgate\u001b[38;5;241m.\u001b[39mStore\u001b[38;5;241m.\u001b[39mitems)] \u001b[38;5;66;03m# Filtra solo le righe del batch che sono presenti nello store\u001b[39;00m\n\u001b[1;32m--> 540\u001b[0m spazio_stati\u001b[38;5;241m=\u001b[39m\u001b[38;5;28;43mself\u001b[39;49m\u001b[38;5;241;43m.\u001b[39;49m\u001b[43mconcatenate_state_dataframes\u001b[49m\u001b[43m(\u001b[49m\u001b[43mbatch_df\u001b[49m\u001b[43m,\u001b[49m\u001b[43mmachine_df\u001b[49m\u001b[43m)\u001b[49m\n\u001b[0;32m    541\u001b[0m spazio_stati\u001b[38;5;241m.\u001b[39mto_excel(\u001b[38;5;124m'\u001b[39m\u001b[38;5;124mspazio_stati.xlsx\u001b[39m\u001b[38;5;124m'\u001b[39m)\n\u001b[0;32m    542\u001b[0m spazio_stati,index \u001b[38;5;241m=\u001b[39m \u001b[38;5;28mself\u001b[39m\u001b[38;5;241m.\u001b[39mconvertdataframe(spazio_stati,flag\u001b[38;5;241m=\u001b[39m\u001b[38;5;28;01mFalse\u001b[39;00m)\n",
      "Cell \u001b[1;32mIn[11], line 459\u001b[0m, in \u001b[0;36mGate.concatenate_state_dataframes\u001b[1;34m(self, batch_df, machine_df)\u001b[0m\n\u001b[0;32m    457\u001b[0m batch_df[\u001b[38;5;124m'\u001b[39m\u001b[38;5;124mtype\u001b[39m\u001b[38;5;124m'\u001b[39m] \u001b[38;5;241m=\u001b[39m \u001b[38;5;241m0\u001b[39m  \u001b[38;5;66;03m# 0 per batch\u001b[39;00m\n\u001b[0;32m    458\u001b[0m machine_df[\u001b[38;5;124m'\u001b[39m\u001b[38;5;124mtype\u001b[39m\u001b[38;5;124m'\u001b[39m] \u001b[38;5;241m=\u001b[39m \u001b[38;5;241m1\u001b[39m  \u001b[38;5;66;03m# 1 per macchina\u001b[39;00m\n\u001b[1;32m--> 459\u001b[0m dfi\u001b[38;5;241m=\u001b[39m \u001b[43mpd\u001b[49m\u001b[38;5;241;43m.\u001b[39;49m\u001b[43mconcat\u001b[49m\u001b[43m(\u001b[49m\u001b[43m[\u001b[49m\u001b[43mbatch_df\u001b[49m\u001b[43m,\u001b[49m\u001b[43m \u001b[49m\u001b[43mmachine_df\u001b[49m\u001b[43m]\u001b[49m\u001b[43m,\u001b[49m\u001b[43m \u001b[49m\u001b[43maxis\u001b[49m\u001b[38;5;241;43m=\u001b[39;49m\u001b[38;5;241;43m0\u001b[39;49m\u001b[43m,\u001b[49m\u001b[43m \u001b[49m\u001b[43msort\u001b[49m\u001b[38;5;241;43m=\u001b[39;49m\u001b[38;5;28;43;01mFalse\u001b[39;49;00m\u001b[43m)\u001b[49m\u001b[38;5;241m.\u001b[39mreset_index(drop\u001b[38;5;241m=\u001b[39m\u001b[38;5;28;01mTrue\u001b[39;00m)\n\u001b[0;32m    460\u001b[0m dfi\u001b[38;5;241m.\u001b[39mto_excel(\u001b[38;5;124m'\u001b[39m\u001b[38;5;124mdfi.xlsx\u001b[39m\u001b[38;5;124m'\u001b[39m)\n\u001b[0;32m    461\u001b[0m \u001b[38;5;28;01mreturn\u001b[39;00m dfi\n",
      "File \u001b[1;32mc:\\Users\\Utente\\GitHub\\hsim\\.venv\\Lib\\site-packages\\pandas\\core\\reshape\\concat.py:395\u001b[0m, in \u001b[0;36mconcat\u001b[1;34m(objs, axis, join, ignore_index, keys, levels, names, verify_integrity, sort, copy)\u001b[0m\n\u001b[0;32m    380\u001b[0m     copy \u001b[38;5;241m=\u001b[39m \u001b[38;5;28;01mFalse\u001b[39;00m\n\u001b[0;32m    382\u001b[0m op \u001b[38;5;241m=\u001b[39m _Concatenator(\n\u001b[0;32m    383\u001b[0m     objs,\n\u001b[0;32m    384\u001b[0m     axis\u001b[38;5;241m=\u001b[39maxis,\n\u001b[1;32m   (...)\u001b[0m\n\u001b[0;32m    392\u001b[0m     sort\u001b[38;5;241m=\u001b[39msort,\n\u001b[0;32m    393\u001b[0m )\n\u001b[1;32m--> 395\u001b[0m \u001b[38;5;28;01mreturn\u001b[39;00m \u001b[43mop\u001b[49m\u001b[38;5;241;43m.\u001b[39;49m\u001b[43mget_result\u001b[49m\u001b[43m(\u001b[49m\u001b[43m)\u001b[49m\n",
      "File \u001b[1;32mc:\\Users\\Utente\\GitHub\\hsim\\.venv\\Lib\\site-packages\\pandas\\core\\reshape\\concat.py:684\u001b[0m, in \u001b[0;36m_Concatenator.get_result\u001b[1;34m(self)\u001b[0m\n\u001b[0;32m    680\u001b[0m             indexers[ax] \u001b[38;5;241m=\u001b[39m obj_labels\u001b[38;5;241m.\u001b[39mget_indexer(new_labels)\n\u001b[0;32m    682\u001b[0m     mgrs_indexers\u001b[38;5;241m.\u001b[39mappend((obj\u001b[38;5;241m.\u001b[39m_mgr, indexers))\n\u001b[1;32m--> 684\u001b[0m new_data \u001b[38;5;241m=\u001b[39m \u001b[43mconcatenate_managers\u001b[49m\u001b[43m(\u001b[49m\n\u001b[0;32m    685\u001b[0m \u001b[43m    \u001b[49m\u001b[43mmgrs_indexers\u001b[49m\u001b[43m,\u001b[49m\u001b[43m \u001b[49m\u001b[38;5;28;43mself\u001b[39;49m\u001b[38;5;241;43m.\u001b[39;49m\u001b[43mnew_axes\u001b[49m\u001b[43m,\u001b[49m\u001b[43m \u001b[49m\u001b[43mconcat_axis\u001b[49m\u001b[38;5;241;43m=\u001b[39;49m\u001b[38;5;28;43mself\u001b[39;49m\u001b[38;5;241;43m.\u001b[39;49m\u001b[43mbm_axis\u001b[49m\u001b[43m,\u001b[49m\u001b[43m \u001b[49m\u001b[43mcopy\u001b[49m\u001b[38;5;241;43m=\u001b[39;49m\u001b[38;5;28;43mself\u001b[39;49m\u001b[38;5;241;43m.\u001b[39;49m\u001b[43mcopy\u001b[49m\n\u001b[0;32m    686\u001b[0m \u001b[43m\u001b[49m\u001b[43m)\u001b[49m\n\u001b[0;32m    687\u001b[0m \u001b[38;5;28;01mif\u001b[39;00m \u001b[38;5;129;01mnot\u001b[39;00m \u001b[38;5;28mself\u001b[39m\u001b[38;5;241m.\u001b[39mcopy \u001b[38;5;129;01mand\u001b[39;00m \u001b[38;5;129;01mnot\u001b[39;00m using_copy_on_write():\n\u001b[0;32m    688\u001b[0m     new_data\u001b[38;5;241m.\u001b[39m_consolidate_inplace()\n",
      "File \u001b[1;32mc:\\Users\\Utente\\GitHub\\hsim\\.venv\\Lib\\site-packages\\pandas\\core\\internals\\concat.py:149\u001b[0m, in \u001b[0;36mconcatenate_managers\u001b[1;34m(mgrs_indexers, axes, concat_axis, copy)\u001b[0m\n\u001b[0;32m    146\u001b[0m             nb \u001b[38;5;241m=\u001b[39m _concat_homogeneous_fastpath(mgrs_indexers, shape, first_dtype)\n\u001b[0;32m    147\u001b[0m             \u001b[38;5;28;01mreturn\u001b[39;00m BlockManager((nb,), axes)\n\u001b[1;32m--> 149\u001b[0m mgrs \u001b[38;5;241m=\u001b[39m \u001b[43m_maybe_reindex_columns_na_proxy\u001b[49m\u001b[43m(\u001b[49m\u001b[43maxes\u001b[49m\u001b[43m,\u001b[49m\u001b[43m \u001b[49m\u001b[43mmgrs_indexers\u001b[49m\u001b[43m,\u001b[49m\u001b[43m \u001b[49m\u001b[43mneeds_copy\u001b[49m\u001b[43m)\u001b[49m\n\u001b[0;32m    151\u001b[0m \u001b[38;5;28;01mif\u001b[39;00m \u001b[38;5;28mlen\u001b[39m(mgrs) \u001b[38;5;241m==\u001b[39m \u001b[38;5;241m1\u001b[39m:\n\u001b[0;32m    152\u001b[0m     mgr \u001b[38;5;241m=\u001b[39m mgrs[\u001b[38;5;241m0\u001b[39m]\n",
      "File \u001b[1;32mc:\\Users\\Utente\\GitHub\\hsim\\.venv\\Lib\\site-packages\\pandas\\core\\internals\\concat.py:220\u001b[0m, in \u001b[0;36m_maybe_reindex_columns_na_proxy\u001b[1;34m(axes, mgrs_indexers, needs_copy)\u001b[0m\n\u001b[0;32m    216\u001b[0m \u001b[38;5;28;01mfor\u001b[39;00m mgr, indexers \u001b[38;5;129;01min\u001b[39;00m mgrs_indexers:\n\u001b[0;32m    217\u001b[0m     \u001b[38;5;66;03m# For axis=0 (i.e. columns) we use_na_proxy and only_slice, so this\u001b[39;00m\n\u001b[0;32m    218\u001b[0m     \u001b[38;5;66;03m#  is a cheap reindexing.\u001b[39;00m\n\u001b[0;32m    219\u001b[0m     \u001b[38;5;28;01mfor\u001b[39;00m i, indexer \u001b[38;5;129;01min\u001b[39;00m indexers\u001b[38;5;241m.\u001b[39mitems():\n\u001b[1;32m--> 220\u001b[0m         mgr \u001b[38;5;241m=\u001b[39m \u001b[43mmgr\u001b[49m\u001b[38;5;241;43m.\u001b[39;49m\u001b[43mreindex_indexer\u001b[49m\u001b[43m(\u001b[49m\n\u001b[0;32m    221\u001b[0m \u001b[43m            \u001b[49m\u001b[43maxes\u001b[49m\u001b[43m[\u001b[49m\u001b[43mi\u001b[49m\u001b[43m]\u001b[49m\u001b[43m,\u001b[49m\n\u001b[0;32m    222\u001b[0m \u001b[43m            \u001b[49m\u001b[43mindexers\u001b[49m\u001b[43m[\u001b[49m\u001b[43mi\u001b[49m\u001b[43m]\u001b[49m\u001b[43m,\u001b[49m\n\u001b[0;32m    223\u001b[0m \u001b[43m            \u001b[49m\u001b[43maxis\u001b[49m\u001b[38;5;241;43m=\u001b[39;49m\u001b[43mi\u001b[49m\u001b[43m,\u001b[49m\n\u001b[0;32m    224\u001b[0m \u001b[43m            \u001b[49m\u001b[43mcopy\u001b[49m\u001b[38;5;241;43m=\u001b[39;49m\u001b[38;5;28;43;01mFalse\u001b[39;49;00m\u001b[43m,\u001b[49m\n\u001b[0;32m    225\u001b[0m \u001b[43m            \u001b[49m\u001b[43monly_slice\u001b[49m\u001b[38;5;241;43m=\u001b[39;49m\u001b[38;5;28;43;01mTrue\u001b[39;49;00m\u001b[43m,\u001b[49m\u001b[43m  \u001b[49m\u001b[38;5;66;43;03m# only relevant for i==0\u001b[39;49;00m\n\u001b[0;32m    226\u001b[0m \u001b[43m            \u001b[49m\u001b[43mallow_dups\u001b[49m\u001b[38;5;241;43m=\u001b[39;49m\u001b[38;5;28;43;01mTrue\u001b[39;49;00m\u001b[43m,\u001b[49m\n\u001b[0;32m    227\u001b[0m \u001b[43m            \u001b[49m\u001b[43muse_na_proxy\u001b[49m\u001b[38;5;241;43m=\u001b[39;49m\u001b[38;5;28;43;01mTrue\u001b[39;49;00m\u001b[43m,\u001b[49m\u001b[43m  \u001b[49m\u001b[38;5;66;43;03m# only relevant for i==0\u001b[39;49;00m\n\u001b[0;32m    228\u001b[0m \u001b[43m        \u001b[49m\u001b[43m)\u001b[49m\n\u001b[0;32m    229\u001b[0m     \u001b[38;5;28;01mif\u001b[39;00m needs_copy \u001b[38;5;129;01mand\u001b[39;00m \u001b[38;5;129;01mnot\u001b[39;00m indexers:\n\u001b[0;32m    230\u001b[0m         mgr \u001b[38;5;241m=\u001b[39m mgr\u001b[38;5;241m.\u001b[39mcopy()\n",
      "File \u001b[1;32mc:\\Users\\Utente\\GitHub\\hsim\\.venv\\Lib\\site-packages\\pandas\\core\\internals\\managers.py:680\u001b[0m, in \u001b[0;36mBaseBlockManager.reindex_indexer\u001b[1;34m(self, new_axis, indexer, axis, fill_value, allow_dups, copy, only_slice, use_na_proxy)\u001b[0m\n\u001b[0;32m    677\u001b[0m     \u001b[38;5;28;01mraise\u001b[39;00m \u001b[38;5;167;01mIndexError\u001b[39;00m(\u001b[38;5;124m\"\u001b[39m\u001b[38;5;124mRequested axis not found in manager\u001b[39m\u001b[38;5;124m\"\u001b[39m)\n\u001b[0;32m    679\u001b[0m \u001b[38;5;28;01mif\u001b[39;00m axis \u001b[38;5;241m==\u001b[39m \u001b[38;5;241m0\u001b[39m:\n\u001b[1;32m--> 680\u001b[0m     new_blocks \u001b[38;5;241m=\u001b[39m \u001b[38;5;28;43mself\u001b[39;49m\u001b[38;5;241;43m.\u001b[39;49m\u001b[43m_slice_take_blocks_ax0\u001b[49m\u001b[43m(\u001b[49m\n\u001b[0;32m    681\u001b[0m \u001b[43m        \u001b[49m\u001b[43mindexer\u001b[49m\u001b[43m,\u001b[49m\n\u001b[0;32m    682\u001b[0m \u001b[43m        \u001b[49m\u001b[43mfill_value\u001b[49m\u001b[38;5;241;43m=\u001b[39;49m\u001b[43mfill_value\u001b[49m\u001b[43m,\u001b[49m\n\u001b[0;32m    683\u001b[0m \u001b[43m        \u001b[49m\u001b[43monly_slice\u001b[49m\u001b[38;5;241;43m=\u001b[39;49m\u001b[43monly_slice\u001b[49m\u001b[43m,\u001b[49m\n\u001b[0;32m    684\u001b[0m \u001b[43m        \u001b[49m\u001b[43muse_na_proxy\u001b[49m\u001b[38;5;241;43m=\u001b[39;49m\u001b[43muse_na_proxy\u001b[49m\u001b[43m,\u001b[49m\n\u001b[0;32m    685\u001b[0m \u001b[43m    \u001b[49m\u001b[43m)\u001b[49m\n\u001b[0;32m    686\u001b[0m \u001b[38;5;28;01melse\u001b[39;00m:\n\u001b[0;32m    687\u001b[0m     new_blocks \u001b[38;5;241m=\u001b[39m [\n\u001b[0;32m    688\u001b[0m         blk\u001b[38;5;241m.\u001b[39mtake_nd(\n\u001b[0;32m    689\u001b[0m             indexer,\n\u001b[1;32m   (...)\u001b[0m\n\u001b[0;32m    695\u001b[0m         \u001b[38;5;28;01mfor\u001b[39;00m blk \u001b[38;5;129;01min\u001b[39;00m \u001b[38;5;28mself\u001b[39m\u001b[38;5;241m.\u001b[39mblocks\n\u001b[0;32m    696\u001b[0m     ]\n",
      "File \u001b[1;32mc:\\Users\\Utente\\GitHub\\hsim\\.venv\\Lib\\site-packages\\pandas\\core\\internals\\managers.py:785\u001b[0m, in \u001b[0;36mBaseBlockManager._slice_take_blocks_ax0\u001b[1;34m(self, slice_or_indexer, fill_value, only_slice, use_na_proxy, ref_inplace_op)\u001b[0m\n\u001b[0;32m    783\u001b[0m     blklocs \u001b[38;5;241m=\u001b[39m \u001b[38;5;28mself\u001b[39m\u001b[38;5;241m.\u001b[39mblklocs[slobj]\n\u001b[0;32m    784\u001b[0m \u001b[38;5;28;01melse\u001b[39;00m:\n\u001b[1;32m--> 785\u001b[0m     blknos \u001b[38;5;241m=\u001b[39m \u001b[43malgos\u001b[49m\u001b[38;5;241;43m.\u001b[39;49m\u001b[43mtake_nd\u001b[49m\u001b[43m(\u001b[49m\n\u001b[0;32m    786\u001b[0m \u001b[43m        \u001b[49m\u001b[38;5;28;43mself\u001b[39;49m\u001b[38;5;241;43m.\u001b[39;49m\u001b[43mblknos\u001b[49m\u001b[43m,\u001b[49m\u001b[43m \u001b[49m\u001b[43mslobj\u001b[49m\u001b[43m,\u001b[49m\u001b[43m \u001b[49m\u001b[43mfill_value\u001b[49m\u001b[38;5;241;43m=\u001b[39;49m\u001b[38;5;241;43m-\u001b[39;49m\u001b[38;5;241;43m1\u001b[39;49m\u001b[43m,\u001b[49m\u001b[43m \u001b[49m\u001b[43mallow_fill\u001b[49m\u001b[38;5;241;43m=\u001b[39;49m\u001b[43mallow_fill\u001b[49m\n\u001b[0;32m    787\u001b[0m \u001b[43m    \u001b[49m\u001b[43m)\u001b[49m\n\u001b[0;32m    788\u001b[0m     blklocs \u001b[38;5;241m=\u001b[39m algos\u001b[38;5;241m.\u001b[39mtake_nd(\n\u001b[0;32m    789\u001b[0m         \u001b[38;5;28mself\u001b[39m\u001b[38;5;241m.\u001b[39mblklocs, slobj, fill_value\u001b[38;5;241m=\u001b[39m\u001b[38;5;241m-\u001b[39m\u001b[38;5;241m1\u001b[39m, allow_fill\u001b[38;5;241m=\u001b[39mallow_fill\n\u001b[0;32m    790\u001b[0m     )\n\u001b[0;32m    792\u001b[0m \u001b[38;5;66;03m# When filling blknos, make sure blknos is updated before appending to\u001b[39;00m\n\u001b[0;32m    793\u001b[0m \u001b[38;5;66;03m# blocks list, that way new blkno is exactly len(blocks).\u001b[39;00m\n",
      "File \u001b[1;32mc:\\Users\\Utente\\GitHub\\hsim\\.venv\\Lib\\site-packages\\pandas\\core\\array_algos\\take.py:117\u001b[0m, in \u001b[0;36mtake_nd\u001b[1;34m(arr, indexer, axis, fill_value, allow_fill)\u001b[0m\n\u001b[0;32m    114\u001b[0m     \u001b[38;5;28;01mreturn\u001b[39;00m arr\u001b[38;5;241m.\u001b[39mtake(indexer, fill_value\u001b[38;5;241m=\u001b[39mfill_value, allow_fill\u001b[38;5;241m=\u001b[39mallow_fill)\n\u001b[0;32m    116\u001b[0m arr \u001b[38;5;241m=\u001b[39m np\u001b[38;5;241m.\u001b[39masarray(arr)\n\u001b[1;32m--> 117\u001b[0m \u001b[38;5;28;01mreturn\u001b[39;00m \u001b[43m_take_nd_ndarray\u001b[49m\u001b[43m(\u001b[49m\u001b[43marr\u001b[49m\u001b[43m,\u001b[49m\u001b[43m \u001b[49m\u001b[43mindexer\u001b[49m\u001b[43m,\u001b[49m\u001b[43m \u001b[49m\u001b[43maxis\u001b[49m\u001b[43m,\u001b[49m\u001b[43m \u001b[49m\u001b[43mfill_value\u001b[49m\u001b[43m,\u001b[49m\u001b[43m \u001b[49m\u001b[43mallow_fill\u001b[49m\u001b[43m)\u001b[49m\n",
      "File \u001b[1;32mc:\\Users\\Utente\\GitHub\\hsim\\.venv\\Lib\\site-packages\\pandas\\core\\array_algos\\take.py:162\u001b[0m, in \u001b[0;36m_take_nd_ndarray\u001b[1;34m(arr, indexer, axis, fill_value, allow_fill)\u001b[0m\n\u001b[0;32m    157\u001b[0m     out \u001b[38;5;241m=\u001b[39m np\u001b[38;5;241m.\u001b[39mempty(out_shape, dtype\u001b[38;5;241m=\u001b[39mdtype)\n\u001b[0;32m    159\u001b[0m func \u001b[38;5;241m=\u001b[39m _get_take_nd_function(\n\u001b[0;32m    160\u001b[0m     arr\u001b[38;5;241m.\u001b[39mndim, arr\u001b[38;5;241m.\u001b[39mdtype, out\u001b[38;5;241m.\u001b[39mdtype, axis\u001b[38;5;241m=\u001b[39maxis, mask_info\u001b[38;5;241m=\u001b[39mmask_info\n\u001b[0;32m    161\u001b[0m )\n\u001b[1;32m--> 162\u001b[0m \u001b[43mfunc\u001b[49m\u001b[43m(\u001b[49m\u001b[43marr\u001b[49m\u001b[43m,\u001b[49m\u001b[43m \u001b[49m\u001b[43mindexer\u001b[49m\u001b[43m,\u001b[49m\u001b[43m \u001b[49m\u001b[43mout\u001b[49m\u001b[43m,\u001b[49m\u001b[43m \u001b[49m\u001b[43mfill_value\u001b[49m\u001b[43m)\u001b[49m\n\u001b[0;32m    164\u001b[0m \u001b[38;5;28;01mif\u001b[39;00m flip_order:\n\u001b[0;32m    165\u001b[0m     out \u001b[38;5;241m=\u001b[39m out\u001b[38;5;241m.\u001b[39mT\n",
      "\u001b[1;31mKeyboardInterrupt\u001b[0m: "
     ]
    }
   ],
   "source": [
    "import warnings\n",
    "warnings.filterwarnings(\"ignore\", category=pd.errors.SettingWithCopyWarning)\n",
    "Entity.reset_id_counter()\n",
    "\n",
    "makespan=list(pd.read_excel('makespan.xlsx')['Makespan'])\n",
    "for i in range(50):\n",
    "    Entity.reset_id_counter()\n",
    "    model_path = 'dqn_model.pth'\n",
    "    if i == 0:\n",
    "        if os.path.exists(model_path):\n",
    "            print(f\"Modello esistente trovato al ciclo {i}.\")\n",
    "            os.remove(model_path)\n",
    "        else:\n",
    "            print(f\"Nessun modello esistente trovato al ciclo {i}. Inizio con un nuovo modello.\")     #     \n",
    "    s,b = batchCreate(0,numJobs=10,return_both=True)\n",
    "    \n",
    "    lab=Lab(b,900)\n",
    "    # lab.gate.Store.items = [item['Entity'] for item in b]\n",
    "    lab.gate.Store.items= copy.copy(s)\n",
    "    if i > 0:\n",
    "        assert lab.gate.dqn_agent.model is not None, \"Model not loaded correctly\"\n",
    "    lab.run(900)\n",
    "\n",
    "    df = pd.DataFrame(lab.env.state_log, columns=[\"Resource\",\"ResourceName\",\"State\",\"StateName\",\"Entity\",\"?\",\"timeIn\",\"timeOut\"])\n",
    "    df= df.loc[df.ResourceName.isin([\"front\",\"drill\",\"robot\",\"camera\",\"back\",\"press\",\"manual\"])]\n",
    "    mks=df.timeOut.max()-df.timeIn.min()\n",
    "\n",
    "    makespan.append(mks)\n",
    "    # Verifica che il modello sia stato salvato correttamente\n",
    "    try:\n",
    "        checkpoint = torch.load('dqn_model.pth')\n",
    "        assert 'model_state_dict' in checkpoint, \"Model state dict not found in checkpoint\"\n",
    "        print(\"Model saved correctly\")\n",
    "    except FileNotFoundError:\n",
    "        print(\"Model not saved correctly\")\n",
    "\n",
    "\n",
    "mksdf = pd.DataFrame(makespan, columns=['Makespan'])\n",
    "mksdf.to_excel('makespan.xlsx')\n",
    "print(makespan)\n",
    "# Crea il grafico a linee\n",
    "plt.figure(figsize=(10, 6))\n",
    "plt.plot(makespan, marker='o', linestyle='-', color='b', label='Makespan')\n",
    "\n",
    "# Aggiungi etichette e titolo\n",
    "plt.xlabel('Iterazione')\n",
    "plt.ylabel('Makespan (secondi)')\n",
    "plt.title('Variazione del Makespan nel Tempo')\n",
    "plt.legend()\n",
    "\n",
    "# Mostra il grafico\n",
    "plt.grid(True)\n",
    "plt.show()\n",
    "\n"
   ]
  },
  {
   "cell_type": "code",
   "execution_count": 4,
   "metadata": {},
   "outputs": [
    {
     "ename": "NameError",
     "evalue": "name 'makespan' is not defined",
     "output_type": "error",
     "traceback": [
      "\u001b[1;31m---------------------------------------------------------------------------\u001b[0m",
      "\u001b[1;31mNameError\u001b[0m                                 Traceback (most recent call last)",
      "Cell \u001b[1;32mIn[4], line 1\u001b[0m\n\u001b[1;32m----> 1\u001b[0m mksdf \u001b[38;5;241m=\u001b[39m pd\u001b[38;5;241m.\u001b[39mDataFrame(\u001b[43mmakespan\u001b[49m, columns\u001b[38;5;241m=\u001b[39m[\u001b[38;5;124m'\u001b[39m\u001b[38;5;124mMakespan\u001b[39m\u001b[38;5;124m'\u001b[39m])\n\u001b[0;32m      2\u001b[0m mksdf\u001b[38;5;241m.\u001b[39mto_excel(\u001b[38;5;124m'\u001b[39m\u001b[38;5;124mmakespan.xlsx\u001b[39m\u001b[38;5;124m'\u001b[39m)\n\u001b[0;32m      3\u001b[0m \u001b[38;5;28mprint\u001b[39m(makespan)\n",
      "\u001b[1;31mNameError\u001b[0m: name 'makespan' is not defined"
     ]
    }
   ],
   "source": [
    "mksdf = pd.DataFrame(makespan, columns=['Makespan'])\n",
    "mksdf.to_excel('makespan.xlsx')\n",
    "print(makespan)\n",
    "# Crea il grafico a linee\n",
    "plt.figure(figsize=(10, 6))\n",
    "plt.plot(makespan, marker='o', linestyle='-', color='b', label='Makespan')\n",
    "\n",
    "# Aggiungi etichette e titolo\n",
    "plt.xlabel('Iterazione')\n",
    "plt.ylabel('Makespan (secondi)')\n",
    "plt.title('Variazione del Makespan nel Tempo')\n",
    "plt.legend()\n",
    "\n",
    "# Mostra il grafico\n",
    "plt.grid(True)\n",
    "plt.show()"
   ]
  },
  {
   "cell_type": "code",
   "execution_count": null,
   "metadata": {},
   "outputs": [],
   "source": [
    "mksdf.rolling(window=30).mean().plot(figsize=(10, 6), title='Makespan Rolling Mean')"
   ]
  },
  {
   "cell_type": "code",
   "execution_count": 5,
   "metadata": {},
   "outputs": [],
   "source": [
    "#per cancellare i dati sull'excel se devo ricominciare\n",
    "import pandas as pd\n",
    "\n",
    "file_path = 'makespan.xlsx'\n",
    "\n",
    "# Crea un DataFrame vuoto con la colonna 'Makespan'\n",
    "df = pd.DataFrame(columns=['Makespan'])\n",
    "\n",
    "# Sovrascrivi il file Excel con il DataFrame vuoto\n",
    "df.to_excel(file_path, index=False)"
   ]
  },
  {
   "cell_type": "code",
   "execution_count": 2,
   "metadata": {},
   "outputs": [
    {
     "name": "stdout",
     "output_type": "stream",
     "text": [
      "ciao\n"
     ]
    }
   ],
   "source": [
    "print(\"ciao\")"
   ]
  }
 ],
 "metadata": {
  "kernelspec": {
   "display_name": ".venv",
   "language": "python",
   "name": "python3"
  },
  "language_info": {
   "codemirror_mode": {
    "name": "ipython",
    "version": 3
   },
   "file_extension": ".py",
   "mimetype": "text/x-python",
   "name": "python",
   "nbconvert_exporter": "python",
   "pygments_lexer": "ipython3",
   "version": "3.11.9"
  }
 },
 "nbformat": 4,
 "nbformat_minor": 2
}
