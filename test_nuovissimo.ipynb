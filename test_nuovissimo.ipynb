{
 "cells": [
  {
   "cell_type": "code",
   "execution_count": 31,
   "metadata": {},
   "outputs": [],
   "source": [
    "# -*- coding: utf-8 -*-\n",
    "from sys import path\n",
    "path.append('../')\n",
    "import hsim.core.pymulate as pym\n",
    "from hsim.core.chfsm import CHFSM, Transition, State\n",
    "import pandas as pd\n",
    "import numpy as np\n",
    "from simpy import AnyOf\n",
    "from copy import deepcopy\n",
    "from random import choices,seed,normalvariate, expovariate\n",
    "from hsim.core.stores import Store, Box       \n",
    "from scipy import stats\n",
    "import dill\n",
    "import hsim.core.utils as utils\n",
    "pd.set_option('future.no_silent_downcasting', True)\n",
    "import copy\n",
    "import numpy as np\n",
    "import torch\n",
    "import torch.nn as nn\n",
    "import random\n",
    "from collections import deque \n",
    "import math\n",
    "import os\n",
    "import matplotlib.pyplot as plt"
   ]
  },
  {
   "cell_type": "code",
   "execution_count": 52,
   "metadata": {},
   "outputs": [],
   "source": [
    "def funzioneconduereturn():\n",
    "    ris1 = \"primo risultato\"\n",
    "    ris2 = \"secondo risultato\"\n",
    "    return ris1, ris2\n",
    "\n",
    "def create_entities_dataframe(generator):\n",
    "    data = []\n",
    "    for entity in generator.entities:\n",
    "        row = {'ID': entity.ID, **entity.serviceTime}\n",
    "        data.append(row)\n",
    "    df = pd.DataFrame(data)\n",
    "    return df\n",
    "\n",
    "def plot_service_times(service_times_log):\n",
    "    # Convert the list of dictionaries to a DataFrame for easier plotting\n",
    "    df = pd.DataFrame(service_times_log)\n",
    "\n",
    "class DQN(nn.Module):\n",
    "    def __init__(self, input_dim, output_dim):\n",
    "        super(DQN, self).__init__()\n",
    "        self.network = nn.Sequential(\n",
    "            nn.Linear(input_dim, 128),\n",
    "            nn.ReLU(),\n",
    "            nn.Linear(128, output_dim)\n",
    "        )\n",
    "    \n",
    "    def forward(self, x):\n",
    "        return self.network(x)\n",
    "\n",
    "import random\n",
    "from collections import deque\n",
    "\n",
    "class DQNAgent:\n",
    "    def __init__(self, state_dim, action_dim,max_time):\n",
    "        self.state_dim = state_dim\n",
    "        self.dim = action_dim\n",
    "        self.memory = deque(maxlen=10000)\n",
    "        self.gamma = 0.99\n",
    "        self.epsilon =1.0\n",
    "        self.epsilon_decay = 0.995\n",
    "        self.epsilon_min = 0.01\n",
    "        self.model = DQN(state_dim, action_dim)\n",
    "        self.optimizer = torch.optim.Adam(self.model.parameters(), lr=0.001)\n",
    "        self.criterion = nn.MSELoss() \n",
    "        self.accumulated_rewards = list([])#deque(maxlen=10000)\n",
    "        self.current_time=0\n",
    "        self.max_time= max_time\n",
    "        self.load_model()\n",
    "    \n",
    "    def save_model(self):\n",
    "            torch.save({\n",
    "                'model_state_dict': self.model.state_dict(),\n",
    "                'optimizer_state_dict': self.optimizer.state_dict(),\n",
    "                'epsilon': self.epsilon,\n",
    "                'memory': list(self.memory)  # Salva la memoria come lista\n",
    "            }, 'dqn_model.pth')\n",
    "            print(\"Model saved to dqn_model.pth\")\n",
    "    \n",
    "    def load_model(self):\n",
    "        try:\n",
    "            checkpoint = torch.load('dqn_model.pth')\n",
    "            self.model.load_state_dict(checkpoint['model_state_dict'])\n",
    "            self.optimizer.load_state_dict(checkpoint['optimizer_state_dict'])\n",
    "            self.epsilon = checkpoint['epsilon']\n",
    "            self.memory = deque(checkpoint['memory'], maxlen=10000)  # Carica la memoria\n",
    "            # self.model.train()  # Imposta il modello in modalità di addestramento\n",
    "            self.model.eval()  # Imposta il modello in modalità di valutazione\n",
    "            print(\"Model loaded from dqn_model.pth\")\n",
    "        except FileNotFoundError:\n",
    "            print(\"No saved model found, starting with a new model\")\n",
    "    \n",
    "    def remember(self, state, action, reward, next_state, done):\n",
    "        if math.isnan(reward):\n",
    "            reward = 0\n",
    "        self.memory.append((state, action, reward, next_state, done))\n",
    "        if not done:\n",
    "            # if len(self.accumulated_rewards) > 0:\n",
    "            #     self.accumulated_rewards[-1] += reward\n",
    "            #     print(self.accumulated_rewards)\n",
    "            # else:\n",
    "            self.accumulated_rewards.append(reward)\n",
    "            # print(f\"Accumulated rewards (not done): {self.accumulated_rewards}\")\n",
    "        else:\n",
    "            # print(f'questa è la lista dei rewards accumulati {self.accumulated_rewards}')\n",
    "            delayed_reward = self.calculate_final_reward(state)\n",
    "            print(f\"Delayed Reward: {delayed_reward}\")\n",
    "            self.accumulated_rewards.append(delayed_reward)\n",
    "            self.accumulated_rewards.clear()\n",
    "\n",
    "    def isdone(self,env):\n",
    "        if env.now >= self.max_time:\n",
    "            print(\"Simulation finished\")\n",
    "            final_reward = self.calculate_final_reward()\n",
    "            print(f\"Final Reward: {final_reward}\")\n",
    "            self.save_model()\n",
    "            return True\n",
    "        return False\n",
    "       \n",
    "    def calculate_final_reward(self):\n",
    "        if len(self.accumulated_rewards) > 0:\n",
    "            final_reward = sum(self.accumulated_rewards)\n",
    "            # print(final_reward)\n",
    "            return final_reward\n",
    "        return print(\"No accumulated rewards found\")\n",
    "    \n",
    "    def calculate_reward(self, makespan):\n",
    "        return -makespan\n",
    "\n",
    "    \n",
    "        # print(f\"State: {state}, Action: {action}, Reward: {reward}, Next State: {next_state}, Done: {done}\")\n",
    "        # print(f\"Memory before append: {self.memory}\")\n",
    "        # self.memory.append((state, action, reward, next_state, done))\n",
    "        # print(f\"Memory after append: {self.memory}\")\n",
    "        \n",
    "        # if not done:\n",
    "        #     print(f\"Accumulated rewards before: {self.accumulated_rewards}\")\n",
    "        #     if len(self.accumulated_rewards) > 0:\n",
    "        #         self.accumulated_rewards[-1] += reward\n",
    "        #     print(f\"Accumulated rewards after: {self.accumulated_rewards}\")\n",
    "        # else:\n",
    "        #     delayed_reward = self.get_reward(state)\n",
    "        #     print(f\"Delayed reward: {delayed_reward}\")\n",
    "        #     self.accumulated_rewards.append(delayed_reward)\n",
    "        #     print(f\"Accumulated rewards after append: {self.accumulated_rewards}\")\n",
    "    \n",
    "\n",
    "    # def act(self, state): \n",
    "    #     if isinstance(state, pd.DataFrame):\n",
    "    #         # state = state.fillna()  # Riempie i valori NaN con 0\n",
    "    #         state = state.infer_objects(copy=False)\n",
    "    #         type_col_index = state.columns.get_loc('type')\n",
    "    #         entity_index= state.columns.get_loc('Entity')\n",
    "    #         states = state.to_numpy()\n",
    "    #         if np.random.rand() <= self.epsilon:\n",
    "    #             filtered_state = states[state['type'] == 0]\n",
    "    #             ris=random.choice(filtered_state['Entity'].tolist())\n",
    "    #         else:\n",
    "    #             return print(\"ERROR\")\n",
    "    #     q_values= self.model.predict(state)\n",
    "    #     return np.argmax(q_values[0])\n",
    "\n",
    "    def act(self, state, type_col_index, entity_col_index):\n",
    "        if isinstance(state, np.ndarray):\n",
    "            state = np.nan_to_num(state, nan=-3)\n",
    "            if np.random.rand() <= self.epsilon:\n",
    "                # Filtra le righe dove 'type' è 0\n",
    "                filtered_state = state[state[:, type_col_index] == 0]\n",
    "                \n",
    "                if filtered_state.size > 0:\n",
    "                    selected_value=random.choice(filtered_state[:, entity_col_index].tolist())\n",
    "                    # Seleziona casualmente un valore dalla colonna 'Entity'\n",
    "                    for i in range(len(filtered_state)):\n",
    "                        if state[i][entity_col_index] == selected_value:\n",
    "                            return i\n",
    "                else:\n",
    "                    print(\"No entities with type 0 found\")\n",
    "                    return None\n",
    "            else:\n",
    "                # Usa il modello per predire i Q-values e seleziona l'azione con il valore massimo\n",
    "                print(\"EXPLOIT\")\n",
    "                state_tensor = torch.FloatTensor(state).unsqueeze(0)\n",
    "                # q_values = self.model(state)\n",
    "                # return np.argmax(q_values[0])\n",
    "                q_values = self.model(state_tensor)\n",
    "                return int(np.argmax(q_values.detach().numpy()[0]))\n",
    "        else:\n",
    "            print(\"State is not a NumPy array\")\n",
    "            return None\n",
    "        \n",
    "    # def update_epsilon(self):\n",
    "    #     # Aggiorna epsilon per ridurre gradualmente l'esplorazione\n",
    "    #     if self.epsilon > self.epsilon_min:\n",
    "    #         self.epsilon *= self.epsilon_decay   \n",
    "    \n",
    "    def get_reward(self, state,colonne):\n",
    "                # Verifica che state sia un array NumPy\n",
    "        if not isinstance(state, np.ndarray):\n",
    "            raise ValueError(\"state deve essere un array NumPy\")\n",
    "\n",
    "        # Verifica che columns sia un array NumPy\n",
    "        if not isinstance(colonne, np.ndarray):\n",
    "            raise ValueError(\"columns deve essere un array NumPy\")\n",
    "\n",
    "        # Trova gli indici delle colonne 'timeOut' e 'timeIn'\n",
    "        try:\n",
    "            time_out_index = np.where(colonne == 'timeOut')[0][0]\n",
    "            time_in_index = np.where(colonne == 'timeIn')[0][0]\n",
    "        except IndexError:\n",
    "            raise ValueError(\"columns deve contenere 'timeOut' e 'timeIn'\")\n",
    "\n",
    "        # Calcola il makespan usando gli indici trovati\n",
    "        # print(np.nanmin(state[:, time_in_index]))\n",
    "        makespan = np.nanmax(state[:, time_out_index]) - np.nanmin(state[:, time_in_index])\n",
    "        # print(f\"Makespan: {makespan}\")\n",
    "        # print(makespan)\n",
    "        reward = self.calculate_reward(makespan)\n",
    "        # print(f\"Calculated Reward: {reward}\")\n",
    "        return reward\n",
    "\n",
    "    \n",
    "    def replay(self, batch_size):\n",
    "        if len(self.memory) < batch_size:\n",
    "            return\n",
    "        minibatch = random.sample(self.memory, batch_size)\n",
    "        for state, action, reward, next_state, done in minibatch:\n",
    "                # Converti next_state in un tensore PyTorch e aggiungi una dimensione extra\n",
    "            # print(\"Tipo di action:\", type(action))\n",
    "            \n",
    "            next_state=np.nan_to_num(next_state, nan=-3)\n",
    "            # print(\"Tipo di next_state (prima della conversione):\",next_state.dtype)\n",
    "            next_state = torch.FloatTensor(next_state)\n",
    "            # print(\"Tipo di dati degli elementi in next_state:\", next_state.dtype)\n",
    "            # Calcola il target\n",
    "            target = reward\n",
    "            if not done:\n",
    "                target = reward + self.gamma * torch.max(self.model(next_state)[0]).item()\n",
    "            # Converti state in un tensore PyTorch e aggiungi una dimensione extra\n",
    "            state=np.nan_to_num(next_state, nan=-3)\n",
    "            state = torch.FloatTensor(state)        \n",
    "            # Calcola target_f usando il modello\n",
    "            target_f = self.model(state)\n",
    "              # Verifica che action sia un intero valido\n",
    "    \n",
    "            if isinstance(action, float):\n",
    "                action = int(action)\n",
    "            if not isinstance(action, int):\n",
    "                print(f\"Action sbagliata: {action}\")\n",
    "                raise ValueError(\"action deve essere un intero\")\n",
    "            \n",
    "            # print(f\"state shape: {state.shape}\")\n",
    "            # print(f\"next_state shape: {next_state.shape}\")\n",
    "            # print(f\"target_f shape: {target_f.shape}\")\n",
    "            # print(f\"action: {action}\")            \n",
    "            if action <0 or action >= target_f.size(1):   # Modificato da size(1) a size(2)\n",
    "                raise IndexError(\"action non è un indice valido per target_f\")\n",
    "            # if action==0:\n",
    "            #     print(f\"target: {target_f[0][0][0]}\")\n",
    "            # Aggiorna target_f con il target calcolato\n",
    "            # target_f[0][action] = target\n",
    "            target_f[0][action] = target\n",
    "            \n",
    "            # Ottimizza il modello\n",
    "            self.optimizer.zero_grad()\n",
    "            loss = self.criterion(target_f, self.model(state))\n",
    "            loss.backward()\n",
    "            self.optimizer.step()\n",
    "        \n",
    "        if self.epsilon > self.epsilon_min:\n",
    "            self.epsilon *= self.epsilon_decay\n",
    "    \n",
    "\n",
    "\n",
    "\n",
    "class Generator(pym.Generator):\n",
    "    def __init__(self,env,name=None,serviceTime=2,serviceTimeFunction=None):\n",
    "        super().__init__(env,name,serviceTime,serviceTimeFunction)\n",
    "        self.count = 0\n",
    "        self.entities=pd.DataFrame(columns=['id', 'Entity', 'front', 'drill', 'robot', 'camera', 'back', 'press', 'manual'])\n",
    "    def createEntity(self):\n",
    "        self.count += 1\n",
    "        # return Entity()\n",
    "        e = Entity()#ID=self.count)\n",
    "        #e.serviceTime = dict()\n",
    "        e.serviceTime['front'] = 10.52\n",
    "        e.serviceTime['drill'] = choices([3.5, 8.45, 9.65, 11.94],weights=[5,30,30,35])[0] ## Insert the possibility of skipping this stage\n",
    "        e.serviceTime['robot'] = choices([0, 81, 105, 108 ,120],weights=[91,3,2,2,2])[0]\n",
    "        # e.serviceTime['camera'] = choices([3,9,12,18,24],weights=[2,3,1,2,2])[0]\n",
    "        e.serviceTime['camera'] = 3.5+expovariate(1/7.1)\n",
    "        e.serviceTime['back'] = choices([3.5,10.57],weights=[0.1,0.9])[0]\n",
    "        # e.serviceTime['press'] = choices([3,9,15])[0]\n",
    "        if e.serviceTime['back']>0:\n",
    "            e.serviceTime['press'] = 3.5+expovariate(1/9.5)\n",
    "        else:\n",
    "            e.serviceTime['press'] = 3.5\n",
    "        e.serviceTime['manual'] = max(np.random.normal(9.2,1),0)\n",
    "        #print(f\"Entity {self.count} service times: {e.serviceTime}\")\n",
    "        # self.entities.append(e)\n",
    "        service_time_dict = {f'serviceTime_{i}': [time] for i, time in enumerate(e.serviceTime)}\n",
    "        entity_dict = {\n",
    "            'id': e.ID,\n",
    "            'Entity': e,\n",
    "            'front': e.serviceTime['front'],\n",
    "            'drill': e.serviceTime['drill'],\n",
    "            'robot': e.serviceTime['robot'],\n",
    "            'camera': e.serviceTime['camera'],\n",
    "            'back': e.serviceTime['back'],\n",
    "            'press': e.serviceTime['press'],\n",
    "            'manual': e.serviceTime['manual']\n",
    "        }\n",
    "\n",
    "        entity_df = pd.DataFrame([entity_dict])\n",
    "        lab.b_df = pd.concat([lab.b_df, entity_df], ignore_index=True)\n",
    "        # print(f\"ho aggiunto un'unità al batch:\\n{lab.b_df.iloc[-1]}\")\n",
    "        # print(\"il nuovo batch è:\")\n",
    "        # print(lab.b_df)\n",
    "        # print(lab.b_df.shape[1])\n",
    "        # self.entities = pd.concat([self.entities, entity_df], ignore_index=True)\n",
    "        # entity_df = pd.DataFrame([e.ID, e, pd.DataFrame(e.serviceTime)], columns=['id', 'Entity', 'front', 'drill', 'robot', 'camera', 'back', 'press', 'manual'])\n",
    "        # self.entities = pd.concat([self.entities, entity_df], ignore_index=True)\n",
    "        return e\n",
    "    # def get_entities_service_times(self,entities):\n",
    "    # # Convert the 'serviceTime' column to a DataFrame\n",
    "    #     service_times_df = pd.DataFrame(entities['serviceTime'].tolist())\n",
    "    \n",
    "    # # Concatenate the 'id', 'Entity', and the new service times DataFrame\n",
    "    #     data = pd.concat([entities[['id', 'Entity']], service_times_df], axis=1)\n",
    "    #     print(data)\n",
    "    #     return data\n",
    "    \n",
    "class Entity:\n",
    "    _id_counter=0\n",
    "    def __init__(self,ID=None):\n",
    "        if ID is None:\n",
    "            self.ID = Entity._id_counter\n",
    "            Entity._id_counter += 1\n",
    "            # print(f\"sto creando un Entity ID: {self.ID}\")\n",
    "        else:\n",
    "            self.ID = ID\n",
    "        self.rework = False\n",
    "        self.serviceTime = dict()\n",
    "        # self.pt['M3'] = 1\n",
    "\n",
    "    def reset_id_counter():\n",
    "        Entity._id_counter = 0\n",
    "    @property\n",
    "    def require_robot(self):\n",
    "        if self.serviceTime['robot']>0:\n",
    "            return True\n",
    "        else:\n",
    "            return False\n",
    "    @property\n",
    "    def ok(self):\n",
    "        return not (self.rework and self.require_robot)\n",
    "    def done(self):\n",
    "        self.rework = False\n",
    "                \n",
    "class LabServer(pym.Server):\n",
    "    def __init__(self,env,name=None,serviceTime=None,serviceTimeFunction=None):\n",
    "        self.controller = None\n",
    "        # serviceTime = 10\n",
    "        super().__init__(env,name,serviceTime,serviceTimeFunction)\n",
    "    def calculateServiceTime(self,entity=None,attribute='serviceTime'):\n",
    "        if not entity.ok:\n",
    "            return 20 #3.5 ### qua andrà messo 10/20 volte maggiore degli altri processing time?\n",
    "        else:\n",
    "            print(\"service time\")\n",
    "            print(super().calculateServiceTime(entity,attribute))\n",
    "            return super().calculateServiceTime(entity,attribute)\n",
    "    def completed(self):\n",
    "        if self.var.entity.ok:\n",
    "            self.controller.Messages.put(self.name)\n",
    "    T2=Transition(pym.Server.Working, pym.Server.Blocking, lambda self: self.env.timeout(self.calculateServiceTime(self.var.entity)), action = lambda self: self.completed())\n",
    "    T3=Transition(pym.Server.Blocking, pym.Server.Starving, lambda self: self.Next.put(self.var.entity),action=lambda self: [self.var.request.confirm(), self.sm.var.entity.done() if self.sm._name=='robot' else None])\n",
    "\n",
    "def plot_service_times(service_times_log):\n",
    "    df = pd.DataFrame(service_times_log)\n",
    "    df.plot(kind='bar', stacked=True, figsize=(10, 6))\n",
    "    plt.xlabel('Entity')\n",
    "    plt.ylabel('Service Time')\n",
    "    plt.title('Service Times of Entities')\n",
    "    plt.legend(title='Service Stages')\n",
    "    plt.show()\n",
    "\n",
    "\n",
    "class Terminator(pym.Terminator):\n",
    "    def __init__(self, env, capacity=np.inf):\n",
    "        super().__init__(env, capacity)\n",
    "        self.controller = None\n",
    "        self.register = list()\n",
    "    def completed(self):\n",
    "        if not self.trigger.triggered:\n",
    "            self.trigger.succeed()\n",
    "    def put(self,item):\n",
    "        self.register.append(self._env.now)\n",
    "        self.controller.Messages.put('terminator')\n",
    "        return super().put(item)\n",
    "    def subscribe(self,item):\n",
    "        self.register.append(self._env.now)\n",
    "        self.controller.Messages.put('terminator')\n",
    "        return super().subscribe(item)\n",
    "class Gate(CHFSM):\n",
    "    def __init__(self,env,statedim,actiondim,max_time):\n",
    "        self.real = True\n",
    "        self.default_request_count = 0\n",
    "        self.capacity = 30\n",
    "        self.lab = None\n",
    "        self.initialWIP = 12\n",
    "        self.targetWIP = 12\n",
    "        self.request = None\n",
    "        self.message = env.event()\n",
    "        self.WIP = 0\n",
    "        self.WIPlist = list()\n",
    "        self.dones=False \n",
    "        self.dqn_agent = DQNAgent(state_dim=statedim, action_dim=actiondim,max_time=max_time)\n",
    "        super().__init__(env) #prima era in fondo ai self\n",
    "# # #AGGIUNTA\n",
    "    def concatenate_state_dataframes(self, batch_df, machine_df):\n",
    "        batch_df['type'] = 0  # 0 per batch\n",
    "        machine_df['type'] = 1  # 1 per macchina\n",
    "        df= pd.concat([batch_df, machine_df], axis=0, sort=False).reset_index(drop=True)\n",
    "        # df.to_excel('df.xlsx')\n",
    "        return df\n",
    "\n",
    "    def convertdataframe(self,df,flag=True):\n",
    "        mapping = {\n",
    "            \"front\": 1,\n",
    "            \"drill\": 2,\n",
    "            \"robot\": 3,\n",
    "            \"camera\": 4,\n",
    "            \"back\": 5,\n",
    "            \"press\": 6,\n",
    "            \"manual\": 7\n",
    "        }\n",
    "        df[\"ResourceName\"] = df[\"ResourceName\"].map(mapping)\n",
    "\n",
    "        mapping2 = {\n",
    "            \"Working\": 1,\n",
    "            \"Blocking\": 2,\n",
    "            \"Starving\": 3\n",
    "        }  \n",
    "        df[\"StateName\"] = df[\"StateName\"].map(mapping2)\n",
    "        df[\"Entity\"] = df[\"id\"]\n",
    "        \n",
    "        # filtered_df = df[df[\"type\"] == 0]\n",
    "\n",
    "        # # Verifica e conversione della colonna \"id\" se è di tipo float\n",
    "        # if filtered_df[\"id\"].dtype == float:\n",
    "        #     df.loc[df[\"type\"] == 0, \"id\"] = df.loc[df[\"type\"] == 0, \"id\"].astype(int)\n",
    "\n",
    "        # # Verifica e conversione della colonna \"Entity\" se è di tipo float\n",
    "        # if filtered_df[\"Entity\"].dtype == float:\n",
    "        #     df.loc[df[\"type\"] == 0, \"Entity\"] = df.loc[df[\"type\"] == 0, \"Entity\"].astype(int)\n",
    "        \n",
    "        df.to_excel('conversionenumpy.xlsx')\n",
    "        data_array=df.to_numpy()\n",
    "        column_names = df.columns.to_numpy()\n",
    "\n",
    "        # print(column_names)\n",
    "        if flag:\n",
    "            return data_array\n",
    "        else:\n",
    "            return data_array, column_names\n",
    "\n",
    "    \n",
    "    \n",
    "    def filtro(self,val):\n",
    "        # if val in lab.gate.Store.items:\n",
    "        #     return True\n",
    "        # print(\"no filtro\")\n",
    "        # return False\n",
    "        return lambda item: item == val\n",
    "    \n",
    "    def indexcolumns(self,column):\n",
    "        type_col_index = list(column).index('type')\n",
    "        entity_col_index = list(column).index('Entity')\n",
    "        return type_col_index, entity_col_index\n",
    "    \n",
    "    def action_to_request(self,indice,current_state):\n",
    "        for i in range(current_state.shape[0]):\n",
    "            if i == indice:\n",
    "                element=current_state[i, 0]\n",
    "                row = lab.b_df.loc[lab.b_df['id'] == element]\n",
    "        if not row.empty:\n",
    "            values=row['Entity'].values[0]\n",
    "        else:\n",
    "            print(f\"No entity found with id {element}\")\n",
    "            return None\n",
    "        return values   \n",
    "\n",
    "\n",
    "    def get_state(self,b_df,val=True):\n",
    "        machine_df=pd.DataFrame(self.env.log,columns=[\"ResourceName\",\"StateName\",\"timeIn\",\"timeOut\"])\n",
    "        machine_df=machine_df.loc[machine_df.ResourceName.isin([\"front\",\"drill\",\"robot\",\"camera\",\"back\",\"press\",\"manual\"])]\n",
    "        batch_df = b_df[b_df['Entity'].isin(lab.gate.Store.items)] # Filtra solo le righe del batch che sono presenti nello store\n",
    "        spazio_stati=self.concatenate_state_dataframes(batch_df,machine_df)\n",
    "        spazio_stati.to_excel('spazio_stati.xlsx')\n",
    "        spazio_stati,index = self.convertdataframe(spazio_stati,flag=False)\n",
    "        # print(spazio_stati.dtype)\n",
    "        if val:\n",
    "            return spazio_stati\n",
    "        else:\n",
    "            return spazio_stati, index\n",
    "    \n",
    "\n",
    "    # def get_next_state(self,b):\n",
    "    #     machine_df = pd.DataFrame(self.env.log, columns=[\"ResourceName\",\"StateName\",\"timeIn\", \"timeOut\"])\n",
    "    #     machine_df=machine_df.loc[machine_df.ResourceName.isin([\"front\",\"drill\",\"robot\",\"camera\",\"back\",\"press\",\"manual\"])]\n",
    "    #     batch_df = b[b['Entity'].isin(lab.gate.Store.items)]  # Filter only the rows of the batch that are present in the store\n",
    "    #     new_spazio_stati = self.concatenate_state_dataframes(batch_df, machine_df)\n",
    "    #     new_spazio_stati=self.convertdataframe(new_spazio_stati)\n",
    "    #     return new_spazio_stati\n",
    "\n",
    "    # def update_delayed_reward(self, reward):\n",
    "    #     if len(self.accumulated_rewards) > 0:\n",
    "    #         self.accumulated_rewards[-1] += reward # If there are, add the new reward to the last element\n",
    "    #     else:\n",
    "    #         self.accumulated_rewards.append(reward) \n",
    "\n",
    "    # def doneboole(self,env):\n",
    "    #     self.dones=self.dqn_agent.is_done(env)\n",
    "    #     return self.dones\n",
    "    \n",
    "  \n",
    "    \n",
    "    \n",
    "    # def condition(self, item, scheduled_request):\n",
    "    #     if scheduled_request in self.Store.items:\n",
    "    #         # return item == self.Store.items[scheduled_request]\n",
    "    #         return lab.gate.Store.get(scheduled_request)\n",
    "    #     else:\n",
    "    #         # Gestisci il caso in cui l'indice sia fuori dai limiti\n",
    "    #         print(f\"Indice {scheduled_request} fuori dai limiti\")\n",
    "    #         return False\n",
    "\n",
    "    \n",
    "    # def get(self, condition):\n",
    "    #     for item in self.Store.items:\n",
    "    #         if condition(item):\n",
    "    #             return item\n",
    "    #     return None\n",
    "\n",
    "    # def custom_condition(self, item, scheduled_request):\n",
    "    #     return self.condition(item, scheduled_request)\n",
    "\n",
    "#FINE AGGIUNTA\n",
    "    def build(self):\n",
    "        self.Store = pym.Store(self.env,self.capacity)\n",
    "        self.Messages = pym.Store(self.env)\n",
    "    def put(self,item):\n",
    "        return self.Store.put(item)\n",
    "    class Loading(State):\n",
    "        def _do(self):\n",
    "            # print('Load: %d' %self.sm.initialWIP)\n",
    "            self.sm.initialWIP -= 1\n",
    "            self.fw()\n",
    "    class Waiting(State):\n",
    "        initial_state = True\n",
    "        def _do(self):\n",
    "            self.sm.message = self.Messages.subscribe()\n",
    "            if self.sm.initialWIP > 0:\n",
    "                self.initial_timeout = self.env.timeout(1)\n",
    "            else:\n",
    "                self.initial_timeout = self.env.event()\n",
    "    class Forwarding(State):\n",
    "        def _do(self):\n",
    "            self.message.confirm()\n",
    "            if self.message.value == 'terminator':\n",
    "                self.sm.WIP -= 1\n",
    "                self.sm.WIPlist.append([self.env.now,self.WIP])\n",
    "            self.FIFO()\n",
    "            self.CONWIP()\n",
    "    \n",
    "    def CONWIP(self):\n",
    "        if self.message.value == 'terminator':\n",
    "            self.fw()\n",
    "    def FIFO(self):\n",
    "        pass\n",
    "  \n",
    "    def fw(self):    \n",
    "        if self.request is None:\n",
    "           #self.request = self.Store.get(self.filtro('<__main__.Entity object at 0x00000222C40317D0>'))\n",
    "#INIZIO NUOVO CODICE\n",
    "\n",
    "            current_state,columns = self.get_state(lab.b_df,val=False)\n",
    "            # print(f\"shape current state {current_state.shape}\")\n",
    "            \n",
    "            type_col_index, entity_col_index = self.indexcolumns(columns)\n",
    "            action=self.dqn_agent.act(current_state,type_col_index, entity_col_index) #index intero\n",
    "            \n",
    "            actionselct = self.action_to_request(action,current_state) #entity\n",
    "            \n",
    "            reward = self.dqn_agent.get_reward(current_state,columns)\n",
    "            # print(f\"tempo simulazione {self.env.now}\")\n",
    "            self.request = self.Store.get(self.filtro(actionselct))\n",
    "        # else:\n",
    "       #self.request = self.Store.get()\n",
    "        #     print(type(self.request))\n",
    "        #     self.default_request_count += 1\n",
    "            # print(\"NON FUNZIONA\")\n",
    "            # Controllo se la soglia è stata superata\n",
    "        # if len(self.dqn_agent.memory) > 30:\n",
    "        #     # Perform replay to train the network\n",
    "        #     self.dqn_agent.replay()\n",
    "        #     self.default_request_count = 0            \n",
    "#fine nuovo codice\n",
    "        # try:\n",
    "            \n",
    "        self.Next.put(self.request.value)\n",
    "        self.request = None\n",
    "        self.WIP += 1\n",
    "        self.WIPlist.append([self.env.now,self.WIP])\n",
    "        next_state=self.get_state(lab.b_df)\n",
    "        # print(f\"shape next state {next_state.shape}\")\n",
    "        # if next_state.shape != current_state.shape:\n",
    "        # # Gestisci la discrepanza delle dimensioni (ad esempio, aggiungendo una riga vuota)\n",
    "        # next_state = next_state.append(pd.Series(), ignore_index=True)\n",
    "        # if next_state.shape != current_state.shape:\n",
    "        # # Aggiungi una riga di zeri per far combaciare le dimensioni\n",
    "        # rows_to_add = current_state.shape[0] - next_state.shape[0]\n",
    "        # cols = next_state.shape[1]\n",
    "        # next_state = np.vstack([next_state, np.zeros((rows_to_add, cols))])\n",
    "\n",
    "        \n",
    "        \n",
    "        self.dqn_agent.remember(current_state, action, reward, next_state, self.dones)\n",
    "        self.dones =self.dqn_agent.isdone(self.env)\n",
    "        # print(f\"done: {self.dones}\")\n",
    "        if len(self.dqn_agent.memory) > 30:\n",
    "            # Perform replay to train the network\n",
    "            #print(\">30\")\n",
    "            self.dqn_agent.replay(30)\n",
    "            # print(\"ciaociao\")\n",
    "            self.default_request_count = 0    \n",
    "\n",
    "        # except:\n",
    "        #     print(\"non so\")\n",
    "        #     pass\n",
    "        \n",
    "            # print('Empty at %s' %self.env.now)\n",
    "    T0 = Transition(Waiting,Loading,lambda self: self.initial_timeout)\n",
    "    T1 = Transition(Waiting,Forwarding,lambda self: self.sm.message)\n",
    "    T2 = Transition(Loading,Waiting,None)\n",
    "    T3 = Transition(Forwarding,Waiting,None)\n",
    "         \n",
    "\n",
    "class Router(pym.Router):\n",
    "    def __deepcopy(self,memo):\n",
    "        super().deepcopy(self,memo)\n",
    "    def __init__(self, env, name=None):\n",
    "        super().__init__(env, name)\n",
    "        self.var.requestOut = []\n",
    "        self.var.sent = []\n",
    "        self.putEvent = env.event()\n",
    "    def build(self):\n",
    "        self.Queue = Box(self.env)\n",
    "    def condition_check(self,item,target):\n",
    "        return True\n",
    "    def put(self,item):\n",
    "        if self.putEvent.triggered:\n",
    "            self.putEvent.restart()\n",
    "        self.putEvent.succeed()\n",
    "        return self.Queue.put(item)\n",
    "    class Sending(State):\n",
    "        initial_state = True\n",
    "        def _do(self):\n",
    "            self.sm.putEvent.restart()\n",
    "            self.sm.var.requestIn = self.sm.putEvent\n",
    "            self.sm.var.requestOut = [item for sublist in [[next.subscribe(item) for next in self.sm.Next if self.sm.condition_check(item,next)] for item in self.sm.Queue.items] for item in sublist]\n",
    "            if self.sm.var.requestOut == []:\n",
    "                self.sm.var.requestOut.append(self.sm.var.requestIn)\n",
    "    S2S2 = Transition(Sending,Sending,lambda self:AnyOf(self.env,self.var.requestOut),condition=lambda self:self.var.requestOut != [])\n",
    "    def action2(self):\n",
    "        self.Queue._trigger_put(self.env.event())\n",
    "        if not hasattr(self.var.requestOut[0],'item'):\n",
    "            return\n",
    "        for request in self.var.requestOut:\n",
    "            if not request.item in self.Queue.items:\n",
    "                request.cancel()\n",
    "                continue\n",
    "            if request.triggered:\n",
    "                if request.check():\n",
    "                    request.confirm()\n",
    "                    self.Queue.forward(request.item)\n",
    "                    continue\n",
    "    S2S2._action = action2\n",
    "'''  \n",
    "from pymulate import RouterNew\n",
    "class Router(RouterNew):\n",
    "    def __init__(self, env, name=None):\n",
    "        capacity=1\n",
    "        super().__init__(env, name,capacity)\n",
    "'''\n",
    "class RobotSwitch1(Router):\n",
    "    def condition_check(self, item, target):\n",
    "        if item.require_robot:\n",
    "            item.rework = True\n",
    "        if item.require_robot and target.name == 'convRobot1S':\n",
    "            return True\n",
    "        elif not item.require_robot and target.name != 'convRobot1S':\n",
    "            return True\n",
    "        else:\n",
    "            return False\n",
    "            \n",
    "class RobotSwitch2(Router):\n",
    "    def condition_check(self, item, target):\n",
    "        if len(target.Next)<2:\n",
    "            item.rework = False\n",
    "            return True\n",
    "        else:\n",
    "            item.rework = True\n",
    "            return False    \n",
    "\n",
    "class CloseOutSwitch(Router):\n",
    "    def condition_check(self, item, target):\n",
    "        if item.ok and type(target) == Terminator:\n",
    "            return True\n",
    "        elif not item.ok and type(target) != Terminator:\n",
    "            return True\n",
    "        else:\n",
    "            return False\n",
    "        \n",
    "# class Conveyor(pym.ParallelServer):\n",
    "#     def __init__(self,env,name=None,serviceTime=None,serviceTimeFunction=None,capacity=1):\n",
    "#         self._capacity = capacity\n",
    "#         serviceTime = capacity*3.5\n",
    "#         super().__init__(env,name,serviceTime,serviceTimeFunction,capacity)\n",
    "class Conveyor(pym.Conveyor):\n",
    "    def __init__(self,env,name=None,capacity=3):\n",
    "        super().__init__(env,name,capacity,0.75)\n",
    "        \n",
    "def newDT():\n",
    "    lab = globals()['lab']\n",
    "    deepcopy(lab)\n",
    "\n",
    "def newEntity(): #viene usata all interno di batch create\n",
    "    e = Entity()\n",
    "    e.serviceTime['front'] = 10.52\n",
    "    e.serviceTime['drill'] = 40 #choices([3.5, 8.45, 9.65, 11.94],weights=[5,30,30,35])[0]\n",
    "    e.serviceTime['robot'] = choices([0, 81, 105, 108 ,120],weights=[91,3,2,2,2])[0]\n",
    "    e.serviceTime['camera'] = 3.5+expovariate(1/7.1)\n",
    "    e.serviceTime['back'] = choices([3.5,10.57],weights=[0.1,0.9])[0]\n",
    "    if e.serviceTime['back']>0:\n",
    "        e.serviceTime['press'] = 3.5+expovariate(1/9.5)\n",
    "    else:\n",
    "        e.serviceTime['press'] = 3.5\n",
    "    e.serviceTime['manual'] = max(np.random.normal(9.2,1),0)\n",
    "    return e\n",
    "\n",
    "\n",
    "def batchCreate(seed=1,numJobs=10,return_both=False):\n",
    "    np.random.seed(seed)\n",
    "    jList = []\n",
    "    complist = []\n",
    "    while len(jList)<numJobs:\n",
    "        e=newEntity()\n",
    "        # num = round(np.random.triangular(1,numJobs/2,numJobs))\n",
    "        # # print(num)\n",
    "        # for i in range(num):\n",
    "        jList.append(e)\n",
    "        entity_info = {\n",
    "                'id': e.ID,\n",
    "                'Entity': e,\n",
    "                'serviceTime': e.serviceTime\n",
    "                }\n",
    "        complist.append(entity_info)\n",
    "        if len(jList)>=numJobs:  # l'ho aggiunto io per evitare che si creino più entità di quelle richieste\n",
    "            break\n",
    "    if return_both:\n",
    "        return jList, complist\n",
    "    else:\n",
    "        return jList\n",
    "    \n",
    "\n",
    "class Lab():\n",
    "    def __init__(self,b,maxtime):\n",
    "        conveyTime = 6\n",
    "        self.env = pym.Environment() #crea l'ambiente\n",
    "        self.g = Generator(self.env) #genera un nuovo pezzo\n",
    "        \n",
    "        self.a=self.env.log  #ambiente stati macchine è un dataframe della lista self.state_log\n",
    "        self.machine_df=pd.DataFrame(self.a,columns=[\"ResourceName\",\"StateName\",\"timeIn\",\"timeOut\"])\n",
    "        self.machine_df=self.machine_df.loc[self.machine_df.ResourceName.isin([\"front\",\"drill\",\"robot\",\"camera\",\"back\",\"press\",\"manual\"])]\n",
    "        self.machine_df.to_excel('machine_df.xlsx')\n",
    "        \n",
    "        b_df = pd.DataFrame(b)\n",
    "        self.b_df=pd.concat([b_df['id'],b_df['Entity'], pd.DataFrame(b_df['serviceTime'].tolist())],axis=1)\n",
    "        self.b_df.to_excel('b_df.xlsx')\n",
    "        self.dim_state=self.b_df.shape[1]+self.machine_df.shape[1]+1 #14\n",
    "        self.dim_action=30 #come la capacity\n",
    "\n",
    "        self.gate = Gate(self.env,statedim=self.dim_state,actiondim=self.dim_action,max_time=maxtime) #crea il gate\n",
    "\n",
    "        # DR= despaching rule OR=order release \n",
    "        # self.conv1 = Conveyor(self.env,capacity=3)\n",
    "        self.conv1S = pym.Server(self.env,serviceTime=conveyTime) \n",
    "        self.conv1Q = pym.Queue(self.env,capacity=2)\n",
    "        self.front = LabServer(self.env,'front')\n",
    "        # self.conv2 = Conveyor(self.env,capacity=3)\n",
    "        self.conv2S = pym.Server(self.env,serviceTime=conveyTime)\n",
    "        self.conv2Q = pym.Queue(self.env,capacity=2)\n",
    "        self.drill = LabServer(self.env,'drill')\n",
    "        # self.conv3 = Conveyor(self.env,capacity=3)\n",
    "        self.conv3S = pym.Server(self.env,serviceTime=conveyTime)\n",
    "        self.conv3Q = pym.Queue(self.env,capacity=2)\n",
    "\n",
    "        \n",
    "        self.switch1 = RobotSwitch1(self.env)\n",
    "        # self.convRobot1 = Conveyor(self.env,'convRobot1',capacity=3)\n",
    "        self.convRobot1S = pym.Server(self.env,serviceTime=conveyTime,name='convRobot1S')\n",
    "        self.convRobot1Q = pym.Queue(self.env,capacity=2)\n",
    "\n",
    "        # self.bridge = Conveyor(self.env,capacity=3)\n",
    "        self.bridgeS = pym.Server(self.env,serviceTime=conveyTime)\n",
    "        self.bridgeQ = pym.Queue(self.env,capacity=2)\n",
    "\n",
    "        # self.convRobot2 = Conveyor(self.env,'convRobot2',capacity=3)\n",
    "        self.convRobot2S = pym.Server(self.env,serviceTime=conveyTime)\n",
    "        self.convRobot2Q = pym.Queue(self.env,capacity=2)\n",
    "\n",
    "        self.switch2 = RobotSwitch2(self.env)\n",
    "        # self.convRobot3 = Conveyor(self.env,capacity=3)\n",
    "        self.convRobot3S = pym.Server(self.env,serviceTime=conveyTime)\n",
    "        self.convRobot3Q = pym.Queue(self.env,capacity=2)\n",
    "\n",
    "        self.robot = LabServer(self.env,'robot')\n",
    "        # self.convRobotOut = Conveyor(self.env,capacity=3)\n",
    "        self.convRobotOutS = pym.Server(self.env,serviceTime=conveyTime)\n",
    "        self.convRobotOutQ = pym.Queue(self.env,capacity=2)\n",
    "        # self.conv5 = Conveyor(self.env,capacity=3)\n",
    "        self.conv5S = pym.Server(self.env,serviceTime=conveyTime)\n",
    "        self.conv5Q = pym.Queue(self.env,capacity=2)\n",
    "\n",
    "        self.camera = LabServer(self.env,'camera')\n",
    "        # self.conv6 = Conveyor(self.env,capacity=3)\n",
    "        self.conv6S = pym.Server(self.env,serviceTime=conveyTime)\n",
    "        self.conv6Q = pym.Queue(self.env,capacity=2)\n",
    "\n",
    "        self.back = LabServer(self.env,'back')\n",
    "        # self.conv7 = Conveyor(self.env,capacity=3)\n",
    "        self.conv7S = pym.Server(self.env,serviceTime=conveyTime)\n",
    "        self.conv7Q = pym.Queue(self.env,capacity=2)\n",
    "\n",
    "        self.press = LabServer(self.env,'press')\n",
    "        # self.conv8 = Conveyor(self.env,capacity=3)\n",
    "        self.conv8S = pym.Server(self.env,serviceTime=conveyTime)\n",
    "        self.conv8Q = pym.Queue(self.env,capacity=2)\n",
    "\n",
    "        self.manual = LabServer(self.env,'manual')\n",
    "        self.outSwitch = CloseOutSwitch(self.env)\n",
    "        self.terminator = Terminator(self.env)\n",
    "        \n",
    "        self.g.Next = self.gate\n",
    "        self.gate.Next = self.conv1S\n",
    "        \n",
    "        # self.conv1.Next = self.front\n",
    "        self.conv1S.Next = self.conv1Q\n",
    "        self.conv1Q.Next = self.front\n",
    "\n",
    "        self.front.Next = self.conv2S\n",
    "        # self.conv2.Next = self.drill\n",
    "        self.conv2S.Next = self.conv2Q\n",
    "        self.conv2Q.Next = self.drill\n",
    "        self.drill.Next = self.conv3S\n",
    "        self.conv3S.Next = self.conv3Q\n",
    "        self.conv3Q.Next = self.switch1\n",
    "        # self.conv3.Next = self.switch1\n",
    "        \n",
    "        self.switch1.Next = [self.convRobot1S,self.bridgeS]\n",
    "        self.convRobot1S.Next = self.convRobot1Q\n",
    "        self.convRobot1Q.Next = self.switch2\n",
    "\n",
    "        self.switch2.Next = [self.convRobot2S,self.convRobot3S]\n",
    "        self.convRobot2S.Next = self.convRobot2Q\n",
    "        self.convRobot2Q.Next = self.robot\n",
    "\n",
    "        self.convRobot3S.Next = self.convRobot3Q\n",
    "        self.convRobot3Q.Next = self.convRobotOutS\n",
    "\n",
    "        self.robot.Next = self.convRobotOutS\n",
    "        self.convRobotOutS.Next = self.convRobotOutQ\n",
    "\n",
    "        self.convRobotOutQ.Next = self.conv5S\n",
    "        self.bridgeS.Next = self.bridgeQ\n",
    "        self.bridgeQ.Next = self.conv5S\n",
    "\n",
    "        \n",
    "        self.conv5S.Next = self.conv5Q\n",
    "        self.conv5Q.Next = self.camera\n",
    "\n",
    "        self.camera.Next = self.conv6S\n",
    "        self.conv6S.Next = self.conv6Q\n",
    "        self.conv6Q.Next = self.back\n",
    "\n",
    "        self.back.Next = self.conv7S\n",
    "        self.conv7S.Next = self.conv7Q\n",
    "        self.conv7Q.Next = self.press\n",
    "\n",
    "        self.press.Next = self.conv8S\n",
    "        self.conv8S.Next = self.conv8Q\n",
    "        self.conv8Q.Next = self.manual\n",
    "\n",
    "        self.manual.Next = self.outSwitch\n",
    "        self.outSwitch.Next = [self.conv1S,self.terminator]\n",
    "        \n",
    "        for x in [self.front,self.drill,self.robot,self.camera,self.back,self.press,self.manual]:\n",
    "            x.controller = self.gate\n",
    "        self.terminator.controller = self.gate\n",
    "        self.gate.lab = self\n",
    "\n",
    "       \n",
    "\n",
    "    def run(self,Tend):\n",
    "        self.env.run(Tend)\n",
    "        if self.gate.dqn_agent.isdone(self.env):\n",
    "            print(\"Operazione completata\")\n",
    "        else:\n",
    "            print(\"Operazione non completata\")\n",
    "        \n",
    "       #return pd.DataFrame(self.env.state_log)\n",
    "        return self.env.state_log\n",
    "\n",
    "\n"
   ]
  },
  {
   "cell_type": "code",
   "execution_count": null,
   "metadata": {},
   "outputs": [],
   "source": [
    "import warnings\n",
    "warnings.filterwarnings(\"ignore\", category=pd.errors.SettingWithCopyWarning)\n",
    "Entity.reset_id_counter()\n",
    "s,b = batchCreate(0,numJobs=10,return_both=True) #batchedExp serve per inizializzare \n",
    "print(s)\n",
    "makespan=[]\n",
    "lab=Lab(b,600)\n",
    "lab.gate.Store.items=copy.copy(s)\n",
    "\n",
    "\n",
    "lab.run(600)\n",
    "\n",
    "df = pd.DataFrame(lab.env.state_log, columns=[\"Resource\",\"ResourceName\",\"State\",\"StateName\",\"Entity\",\"?\",\"timeIn\",\"timeOut\"])\n",
    "df= df.loc[df.ResourceName.isin([\"front\",\"drill\",\"robot\",\"camera\",\"back\",\"press\",\"manual\"])]\n",
    "mks=df.timeOut.max()-df.timeIn.min()\n",
    "makespan.append(mks)\n",
    "df.to_excel('mappafinale.xlsx')\n",
    "fig = utils.createGantt(df)\n",
    "fig.show()"
   ]
  },
  {
   "cell_type": "code",
   "execution_count": 11,
   "metadata": {},
   "outputs": [],
   "source": [
    "# import pickle\n",
    "# agent=lab.gate.dqn_agent\n",
    "# # Serialize the classifier to a file named 'agent.pkl'\n",
    "# with open('agent.pkl', 'wb') as file:\n",
    "#     pickle.dump(agent, file)\n",
    "\n",
    "# To later deserialize the classifier from the file\n",
    "# with open('agent.pkl', 'rb') as file:\n",
    "#     loaded_agent = pickle.load(file)\n",
    "# lab.gate.dqn_agent=loaded_agent"
   ]
  },
  {
   "cell_type": "code",
   "execution_count": 55,
   "metadata": {},
   "outputs": [
    {
     "name": "stdout",
     "output_type": "stream",
     "text": [
      "Modello esistente trovato al ciclo 0.\n",
      "Model loaded from dqn_model.pth\n",
      "EXPLOIT\n"
     ]
    },
    {
     "name": "stderr",
     "output_type": "stream",
     "text": [
      "C:\\Users\\Utente\\AppData\\Local\\Temp\\ipykernel_17080\\778432112.py:193: RuntimeWarning:\n",
      "\n",
      "All-NaN slice encountered\n",
      "\n"
     ]
    },
    {
     "name": "stdout",
     "output_type": "stream",
     "text": [
      "EXPLOIT\n"
     ]
    },
    {
     "name": "stderr",
     "output_type": "stream",
     "text": [
      "C:\\Users\\Utente\\AppData\\Local\\Temp\\ipykernel_17080\\778432112.py:193: RuntimeWarning:\n",
      "\n",
      "All-NaN slice encountered\n",
      "\n"
     ]
    },
    {
     "name": "stdout",
     "output_type": "stream",
     "text": [
      "EXPLOIT\n"
     ]
    },
    {
     "name": "stderr",
     "output_type": "stream",
     "text": [
      "C:\\Users\\Utente\\AppData\\Local\\Temp\\ipykernel_17080\\778432112.py:193: RuntimeWarning:\n",
      "\n",
      "All-NaN slice encountered\n",
      "\n"
     ]
    },
    {
     "name": "stdout",
     "output_type": "stream",
     "text": [
      "EXPLOIT\n"
     ]
    },
    {
     "name": "stderr",
     "output_type": "stream",
     "text": [
      "C:\\Users\\Utente\\AppData\\Local\\Temp\\ipykernel_17080\\778432112.py:193: RuntimeWarning:\n",
      "\n",
      "All-NaN slice encountered\n",
      "\n"
     ]
    },
    {
     "name": "stdout",
     "output_type": "stream",
     "text": [
      "EXPLOIT\n"
     ]
    },
    {
     "name": "stderr",
     "output_type": "stream",
     "text": [
      "C:\\Users\\Utente\\AppData\\Local\\Temp\\ipykernel_17080\\778432112.py:193: RuntimeWarning:\n",
      "\n",
      "All-NaN slice encountered\n",
      "\n"
     ]
    },
    {
     "name": "stdout",
     "output_type": "stream",
     "text": [
      "EXPLOIT\n"
     ]
    },
    {
     "name": "stderr",
     "output_type": "stream",
     "text": [
      "C:\\Users\\Utente\\AppData\\Local\\Temp\\ipykernel_17080\\778432112.py:193: RuntimeWarning:\n",
      "\n",
      "All-NaN slice encountered\n",
      "\n"
     ]
    },
    {
     "name": "stdout",
     "output_type": "stream",
     "text": [
      "EXPLOIT\n"
     ]
    },
    {
     "name": "stderr",
     "output_type": "stream",
     "text": [
      "C:\\Users\\Utente\\AppData\\Local\\Temp\\ipykernel_17080\\778432112.py:193: RuntimeWarning:\n",
      "\n",
      "All-NaN slice encountered\n",
      "\n"
     ]
    },
    {
     "name": "stdout",
     "output_type": "stream",
     "text": [
      "EXPLOIT\n",
      "EXPLOIT\n",
      "EXPLOIT\n",
      "EXPLOIT\n",
      "EXPLOIT\n",
      "EXPLOIT\n",
      "EXPLOIT\n",
      "EXPLOIT\n",
      "EXPLOIT\n",
      "EXPLOIT\n",
      "EXPLOIT\n",
      "EXPLOIT\n",
      "EXPLOIT\n",
      "EXPLOIT\n",
      "EXPLOIT\n",
      "EXPLOIT\n",
      "EXPLOIT\n",
      "EXPLOIT\n",
      "EXPLOIT\n",
      "EXPLOIT\n",
      "EXPLOIT\n",
      "EXPLOIT\n",
      "Simulation finished\n",
      "Final Reward: -7080.678664504885\n",
      "Model saved to dqn_model.pth\n",
      "Operazione completata\n",
      "Model saved correctly\n",
      "Model loaded from dqn_model.pth\n",
      "EXPLOIT\n"
     ]
    },
    {
     "name": "stderr",
     "output_type": "stream",
     "text": [
      "C:\\Users\\Utente\\AppData\\Local\\Temp\\ipykernel_17080\\778432112.py:193: RuntimeWarning:\n",
      "\n",
      "All-NaN slice encountered\n",
      "\n"
     ]
    },
    {
     "name": "stdout",
     "output_type": "stream",
     "text": [
      "EXPLOIT\n"
     ]
    },
    {
     "name": "stderr",
     "output_type": "stream",
     "text": [
      "C:\\Users\\Utente\\AppData\\Local\\Temp\\ipykernel_17080\\778432112.py:193: RuntimeWarning:\n",
      "\n",
      "All-NaN slice encountered\n",
      "\n"
     ]
    },
    {
     "name": "stdout",
     "output_type": "stream",
     "text": [
      "EXPLOIT\n"
     ]
    },
    {
     "name": "stderr",
     "output_type": "stream",
     "text": [
      "C:\\Users\\Utente\\AppData\\Local\\Temp\\ipykernel_17080\\778432112.py:193: RuntimeWarning:\n",
      "\n",
      "All-NaN slice encountered\n",
      "\n"
     ]
    },
    {
     "name": "stdout",
     "output_type": "stream",
     "text": [
      "EXPLOIT\n"
     ]
    },
    {
     "name": "stderr",
     "output_type": "stream",
     "text": [
      "C:\\Users\\Utente\\AppData\\Local\\Temp\\ipykernel_17080\\778432112.py:193: RuntimeWarning:\n",
      "\n",
      "All-NaN slice encountered\n",
      "\n"
     ]
    },
    {
     "name": "stdout",
     "output_type": "stream",
     "text": [
      "EXPLOIT\n"
     ]
    },
    {
     "name": "stderr",
     "output_type": "stream",
     "text": [
      "C:\\Users\\Utente\\AppData\\Local\\Temp\\ipykernel_17080\\778432112.py:193: RuntimeWarning:\n",
      "\n",
      "All-NaN slice encountered\n",
      "\n"
     ]
    },
    {
     "name": "stdout",
     "output_type": "stream",
     "text": [
      "EXPLOIT\n"
     ]
    },
    {
     "name": "stderr",
     "output_type": "stream",
     "text": [
      "C:\\Users\\Utente\\AppData\\Local\\Temp\\ipykernel_17080\\778432112.py:193: RuntimeWarning:\n",
      "\n",
      "All-NaN slice encountered\n",
      "\n"
     ]
    },
    {
     "name": "stdout",
     "output_type": "stream",
     "text": [
      "EXPLOIT\n"
     ]
    },
    {
     "name": "stderr",
     "output_type": "stream",
     "text": [
      "C:\\Users\\Utente\\AppData\\Local\\Temp\\ipykernel_17080\\778432112.py:193: RuntimeWarning:\n",
      "\n",
      "All-NaN slice encountered\n",
      "\n"
     ]
    },
    {
     "name": "stdout",
     "output_type": "stream",
     "text": [
      "EXPLOIT\n",
      "EXPLOIT\n",
      "EXPLOIT\n",
      "EXPLOIT\n",
      "EXPLOIT\n",
      "EXPLOIT\n",
      "EXPLOIT\n",
      "EXPLOIT\n",
      "EXPLOIT\n",
      "EXPLOIT\n",
      "EXPLOIT\n",
      "EXPLOIT\n",
      "EXPLOIT\n",
      "EXPLOIT\n",
      "EXPLOIT\n",
      "EXPLOIT\n",
      "EXPLOIT\n",
      "EXPLOIT\n",
      "EXPLOIT\n",
      "EXPLOIT\n",
      "EXPLOIT\n",
      "EXPLOIT\n",
      "Simulation finished\n",
      "Final Reward: -7721.778895459032\n",
      "Model saved to dqn_model.pth\n",
      "Operazione completata\n",
      "Model saved correctly\n",
      "Model loaded from dqn_model.pth\n",
      "EXPLOIT\n"
     ]
    },
    {
     "name": "stderr",
     "output_type": "stream",
     "text": [
      "C:\\Users\\Utente\\AppData\\Local\\Temp\\ipykernel_17080\\778432112.py:193: RuntimeWarning:\n",
      "\n",
      "All-NaN slice encountered\n",
      "\n"
     ]
    },
    {
     "name": "stdout",
     "output_type": "stream",
     "text": [
      "EXPLOIT\n"
     ]
    },
    {
     "name": "stderr",
     "output_type": "stream",
     "text": [
      "C:\\Users\\Utente\\AppData\\Local\\Temp\\ipykernel_17080\\778432112.py:193: RuntimeWarning:\n",
      "\n",
      "All-NaN slice encountered\n",
      "\n"
     ]
    },
    {
     "name": "stdout",
     "output_type": "stream",
     "text": [
      "EXPLOIT\n"
     ]
    },
    {
     "name": "stderr",
     "output_type": "stream",
     "text": [
      "C:\\Users\\Utente\\AppData\\Local\\Temp\\ipykernel_17080\\778432112.py:193: RuntimeWarning:\n",
      "\n",
      "All-NaN slice encountered\n",
      "\n"
     ]
    },
    {
     "name": "stdout",
     "output_type": "stream",
     "text": [
      "EXPLOIT\n"
     ]
    },
    {
     "name": "stderr",
     "output_type": "stream",
     "text": [
      "C:\\Users\\Utente\\AppData\\Local\\Temp\\ipykernel_17080\\778432112.py:193: RuntimeWarning:\n",
      "\n",
      "All-NaN slice encountered\n",
      "\n"
     ]
    },
    {
     "name": "stdout",
     "output_type": "stream",
     "text": [
      "EXPLOIT\n"
     ]
    },
    {
     "name": "stderr",
     "output_type": "stream",
     "text": [
      "C:\\Users\\Utente\\AppData\\Local\\Temp\\ipykernel_17080\\778432112.py:193: RuntimeWarning:\n",
      "\n",
      "All-NaN slice encountered\n",
      "\n"
     ]
    },
    {
     "name": "stdout",
     "output_type": "stream",
     "text": [
      "EXPLOIT\n"
     ]
    },
    {
     "name": "stderr",
     "output_type": "stream",
     "text": [
      "C:\\Users\\Utente\\AppData\\Local\\Temp\\ipykernel_17080\\778432112.py:193: RuntimeWarning:\n",
      "\n",
      "All-NaN slice encountered\n",
      "\n"
     ]
    },
    {
     "name": "stdout",
     "output_type": "stream",
     "text": [
      "EXPLOIT\n"
     ]
    },
    {
     "name": "stderr",
     "output_type": "stream",
     "text": [
      "C:\\Users\\Utente\\AppData\\Local\\Temp\\ipykernel_17080\\778432112.py:193: RuntimeWarning:\n",
      "\n",
      "All-NaN slice encountered\n",
      "\n"
     ]
    },
    {
     "name": "stdout",
     "output_type": "stream",
     "text": [
      "EXPLOIT\n",
      "EXPLOIT\n",
      "EXPLOIT\n",
      "EXPLOIT\n",
      "EXPLOIT\n",
      "EXPLOIT\n",
      "EXPLOIT\n",
      "EXPLOIT\n",
      "EXPLOIT\n",
      "EXPLOIT\n",
      "EXPLOIT\n",
      "EXPLOIT\n",
      "EXPLOIT\n",
      "EXPLOIT\n",
      "EXPLOIT\n",
      "EXPLOIT\n",
      "EXPLOIT\n",
      "EXPLOIT\n",
      "EXPLOIT\n",
      "EXPLOIT\n",
      "EXPLOIT\n",
      "Simulation finished\n",
      "Final Reward: -6780.63776015377\n",
      "Model saved to dqn_model.pth\n",
      "Operazione completata\n",
      "Model saved correctly\n",
      "Model loaded from dqn_model.pth\n",
      "EXPLOIT\n"
     ]
    },
    {
     "name": "stderr",
     "output_type": "stream",
     "text": [
      "C:\\Users\\Utente\\AppData\\Local\\Temp\\ipykernel_17080\\778432112.py:193: RuntimeWarning:\n",
      "\n",
      "All-NaN slice encountered\n",
      "\n"
     ]
    },
    {
     "name": "stdout",
     "output_type": "stream",
     "text": [
      "EXPLOIT\n"
     ]
    },
    {
     "name": "stderr",
     "output_type": "stream",
     "text": [
      "C:\\Users\\Utente\\AppData\\Local\\Temp\\ipykernel_17080\\778432112.py:193: RuntimeWarning:\n",
      "\n",
      "All-NaN slice encountered\n",
      "\n"
     ]
    },
    {
     "name": "stdout",
     "output_type": "stream",
     "text": [
      "EXPLOIT\n"
     ]
    },
    {
     "name": "stderr",
     "output_type": "stream",
     "text": [
      "C:\\Users\\Utente\\AppData\\Local\\Temp\\ipykernel_17080\\778432112.py:193: RuntimeWarning:\n",
      "\n",
      "All-NaN slice encountered\n",
      "\n"
     ]
    },
    {
     "name": "stdout",
     "output_type": "stream",
     "text": [
      "EXPLOIT\n"
     ]
    },
    {
     "name": "stderr",
     "output_type": "stream",
     "text": [
      "C:\\Users\\Utente\\AppData\\Local\\Temp\\ipykernel_17080\\778432112.py:193: RuntimeWarning:\n",
      "\n",
      "All-NaN slice encountered\n",
      "\n"
     ]
    },
    {
     "name": "stdout",
     "output_type": "stream",
     "text": [
      "EXPLOIT\n"
     ]
    },
    {
     "name": "stderr",
     "output_type": "stream",
     "text": [
      "C:\\Users\\Utente\\AppData\\Local\\Temp\\ipykernel_17080\\778432112.py:193: RuntimeWarning:\n",
      "\n",
      "All-NaN slice encountered\n",
      "\n"
     ]
    },
    {
     "name": "stdout",
     "output_type": "stream",
     "text": [
      "EXPLOIT\n"
     ]
    },
    {
     "name": "stderr",
     "output_type": "stream",
     "text": [
      "C:\\Users\\Utente\\AppData\\Local\\Temp\\ipykernel_17080\\778432112.py:193: RuntimeWarning:\n",
      "\n",
      "All-NaN slice encountered\n",
      "\n"
     ]
    },
    {
     "name": "stdout",
     "output_type": "stream",
     "text": [
      "EXPLOIT\n"
     ]
    },
    {
     "name": "stderr",
     "output_type": "stream",
     "text": [
      "C:\\Users\\Utente\\AppData\\Local\\Temp\\ipykernel_17080\\778432112.py:193: RuntimeWarning:\n",
      "\n",
      "All-NaN slice encountered\n",
      "\n"
     ]
    },
    {
     "name": "stdout",
     "output_type": "stream",
     "text": [
      "EXPLOIT\n",
      "EXPLOIT\n",
      "EXPLOIT\n",
      "EXPLOIT\n",
      "EXPLOIT\n",
      "EXPLOIT\n",
      "EXPLOIT\n",
      "EXPLOIT\n",
      "EXPLOIT\n",
      "EXPLOIT\n",
      "EXPLOIT\n",
      "EXPLOIT\n",
      "EXPLOIT\n",
      "EXPLOIT\n",
      "EXPLOIT\n",
      "EXPLOIT\n",
      "EXPLOIT\n",
      "EXPLOIT\n",
      "EXPLOIT\n",
      "EXPLOIT\n",
      "EXPLOIT\n",
      "EXPLOIT\n",
      "Simulation finished\n",
      "Final Reward: -7318.290884431061\n",
      "Model saved to dqn_model.pth\n",
      "Operazione completata\n",
      "Model saved correctly\n",
      "Model loaded from dqn_model.pth\n",
      "EXPLOIT\n"
     ]
    },
    {
     "name": "stderr",
     "output_type": "stream",
     "text": [
      "C:\\Users\\Utente\\AppData\\Local\\Temp\\ipykernel_17080\\778432112.py:193: RuntimeWarning:\n",
      "\n",
      "All-NaN slice encountered\n",
      "\n"
     ]
    },
    {
     "name": "stdout",
     "output_type": "stream",
     "text": [
      "EXPLOIT\n"
     ]
    },
    {
     "name": "stderr",
     "output_type": "stream",
     "text": [
      "C:\\Users\\Utente\\AppData\\Local\\Temp\\ipykernel_17080\\778432112.py:193: RuntimeWarning:\n",
      "\n",
      "All-NaN slice encountered\n",
      "\n"
     ]
    },
    {
     "name": "stdout",
     "output_type": "stream",
     "text": [
      "EXPLOIT\n"
     ]
    },
    {
     "name": "stderr",
     "output_type": "stream",
     "text": [
      "C:\\Users\\Utente\\AppData\\Local\\Temp\\ipykernel_17080\\778432112.py:193: RuntimeWarning:\n",
      "\n",
      "All-NaN slice encountered\n",
      "\n"
     ]
    },
    {
     "name": "stdout",
     "output_type": "stream",
     "text": [
      "EXPLOIT\n"
     ]
    },
    {
     "name": "stderr",
     "output_type": "stream",
     "text": [
      "C:\\Users\\Utente\\AppData\\Local\\Temp\\ipykernel_17080\\778432112.py:193: RuntimeWarning:\n",
      "\n",
      "All-NaN slice encountered\n",
      "\n"
     ]
    },
    {
     "name": "stdout",
     "output_type": "stream",
     "text": [
      "EXPLOIT\n"
     ]
    },
    {
     "name": "stderr",
     "output_type": "stream",
     "text": [
      "C:\\Users\\Utente\\AppData\\Local\\Temp\\ipykernel_17080\\778432112.py:193: RuntimeWarning:\n",
      "\n",
      "All-NaN slice encountered\n",
      "\n"
     ]
    },
    {
     "name": "stdout",
     "output_type": "stream",
     "text": [
      "EXPLOIT\n"
     ]
    },
    {
     "name": "stderr",
     "output_type": "stream",
     "text": [
      "C:\\Users\\Utente\\AppData\\Local\\Temp\\ipykernel_17080\\778432112.py:193: RuntimeWarning:\n",
      "\n",
      "All-NaN slice encountered\n",
      "\n"
     ]
    },
    {
     "name": "stdout",
     "output_type": "stream",
     "text": [
      "EXPLOIT\n"
     ]
    },
    {
     "name": "stderr",
     "output_type": "stream",
     "text": [
      "C:\\Users\\Utente\\AppData\\Local\\Temp\\ipykernel_17080\\778432112.py:193: RuntimeWarning:\n",
      "\n",
      "All-NaN slice encountered\n",
      "\n"
     ]
    },
    {
     "name": "stdout",
     "output_type": "stream",
     "text": [
      "EXPLOIT\n",
      "EXPLOIT\n",
      "EXPLOIT\n",
      "EXPLOIT\n",
      "EXPLOIT\n",
      "EXPLOIT\n",
      "EXPLOIT\n",
      "EXPLOIT\n",
      "EXPLOIT\n",
      "EXPLOIT\n",
      "EXPLOIT\n",
      "EXPLOIT\n",
      "EXPLOIT\n",
      "EXPLOIT\n",
      "EXPLOIT\n",
      "EXPLOIT\n",
      "EXPLOIT\n",
      "EXPLOIT\n",
      "EXPLOIT\n",
      "EXPLOIT\n",
      "Simulation finished\n",
      "Final Reward: -6203.965859667642\n",
      "Model saved to dqn_model.pth\n",
      "Operazione completata\n",
      "Model saved correctly\n",
      "Model loaded from dqn_model.pth\n",
      "EXPLOIT\n"
     ]
    },
    {
     "name": "stderr",
     "output_type": "stream",
     "text": [
      "C:\\Users\\Utente\\AppData\\Local\\Temp\\ipykernel_17080\\778432112.py:193: RuntimeWarning:\n",
      "\n",
      "All-NaN slice encountered\n",
      "\n"
     ]
    },
    {
     "name": "stdout",
     "output_type": "stream",
     "text": [
      "EXPLOIT\n"
     ]
    },
    {
     "name": "stderr",
     "output_type": "stream",
     "text": [
      "C:\\Users\\Utente\\AppData\\Local\\Temp\\ipykernel_17080\\778432112.py:193: RuntimeWarning:\n",
      "\n",
      "All-NaN slice encountered\n",
      "\n"
     ]
    },
    {
     "name": "stdout",
     "output_type": "stream",
     "text": [
      "EXPLOIT\n"
     ]
    },
    {
     "name": "stderr",
     "output_type": "stream",
     "text": [
      "C:\\Users\\Utente\\AppData\\Local\\Temp\\ipykernel_17080\\778432112.py:193: RuntimeWarning:\n",
      "\n",
      "All-NaN slice encountered\n",
      "\n"
     ]
    },
    {
     "name": "stdout",
     "output_type": "stream",
     "text": [
      "EXPLOIT\n"
     ]
    },
    {
     "name": "stderr",
     "output_type": "stream",
     "text": [
      "C:\\Users\\Utente\\AppData\\Local\\Temp\\ipykernel_17080\\778432112.py:193: RuntimeWarning:\n",
      "\n",
      "All-NaN slice encountered\n",
      "\n"
     ]
    },
    {
     "name": "stdout",
     "output_type": "stream",
     "text": [
      "EXPLOIT\n"
     ]
    },
    {
     "name": "stderr",
     "output_type": "stream",
     "text": [
      "C:\\Users\\Utente\\AppData\\Local\\Temp\\ipykernel_17080\\778432112.py:193: RuntimeWarning:\n",
      "\n",
      "All-NaN slice encountered\n",
      "\n"
     ]
    },
    {
     "name": "stdout",
     "output_type": "stream",
     "text": [
      "EXPLOIT\n",
      "EXPLOIT\n"
     ]
    },
    {
     "name": "stderr",
     "output_type": "stream",
     "text": [
      "C:\\Users\\Utente\\AppData\\Local\\Temp\\ipykernel_17080\\778432112.py:193: RuntimeWarning:\n",
      "\n",
      "All-NaN slice encountered\n",
      "\n",
      "C:\\Users\\Utente\\AppData\\Local\\Temp\\ipykernel_17080\\778432112.py:193: RuntimeWarning:\n",
      "\n",
      "All-NaN slice encountered\n",
      "\n"
     ]
    },
    {
     "name": "stdout",
     "output_type": "stream",
     "text": [
      "EXPLOIT\n",
      "EXPLOIT\n",
      "EXPLOIT\n",
      "EXPLOIT\n",
      "EXPLOIT\n",
      "EXPLOIT\n",
      "EXPLOIT\n",
      "EXPLOIT\n",
      "EXPLOIT\n",
      "EXPLOIT\n",
      "EXPLOIT\n",
      "EXPLOIT\n",
      "EXPLOIT\n",
      "EXPLOIT\n",
      "EXPLOIT\n",
      "EXPLOIT\n",
      "EXPLOIT\n",
      "EXPLOIT\n",
      "EXPLOIT\n",
      "EXPLOIT\n",
      "Simulation finished\n",
      "Final Reward: -6114.828038455282\n",
      "Model saved to dqn_model.pth\n",
      "Operazione completata\n",
      "Model saved correctly\n",
      "Model loaded from dqn_model.pth\n",
      "EXPLOIT\n"
     ]
    },
    {
     "name": "stderr",
     "output_type": "stream",
     "text": [
      "C:\\Users\\Utente\\AppData\\Local\\Temp\\ipykernel_17080\\778432112.py:193: RuntimeWarning:\n",
      "\n",
      "All-NaN slice encountered\n",
      "\n"
     ]
    },
    {
     "name": "stdout",
     "output_type": "stream",
     "text": [
      "EXPLOIT\n"
     ]
    },
    {
     "name": "stderr",
     "output_type": "stream",
     "text": [
      "C:\\Users\\Utente\\AppData\\Local\\Temp\\ipykernel_17080\\778432112.py:193: RuntimeWarning:\n",
      "\n",
      "All-NaN slice encountered\n",
      "\n"
     ]
    },
    {
     "name": "stdout",
     "output_type": "stream",
     "text": [
      "EXPLOIT\n"
     ]
    },
    {
     "name": "stderr",
     "output_type": "stream",
     "text": [
      "C:\\Users\\Utente\\AppData\\Local\\Temp\\ipykernel_17080\\778432112.py:193: RuntimeWarning:\n",
      "\n",
      "All-NaN slice encountered\n",
      "\n"
     ]
    },
    {
     "name": "stdout",
     "output_type": "stream",
     "text": [
      "EXPLOIT\n"
     ]
    },
    {
     "name": "stderr",
     "output_type": "stream",
     "text": [
      "C:\\Users\\Utente\\AppData\\Local\\Temp\\ipykernel_17080\\778432112.py:193: RuntimeWarning:\n",
      "\n",
      "All-NaN slice encountered\n",
      "\n"
     ]
    },
    {
     "name": "stdout",
     "output_type": "stream",
     "text": [
      "EXPLOIT\n"
     ]
    },
    {
     "name": "stderr",
     "output_type": "stream",
     "text": [
      "C:\\Users\\Utente\\AppData\\Local\\Temp\\ipykernel_17080\\778432112.py:193: RuntimeWarning:\n",
      "\n",
      "All-NaN slice encountered\n",
      "\n"
     ]
    },
    {
     "name": "stdout",
     "output_type": "stream",
     "text": [
      "EXPLOIT\n"
     ]
    },
    {
     "name": "stderr",
     "output_type": "stream",
     "text": [
      "C:\\Users\\Utente\\AppData\\Local\\Temp\\ipykernel_17080\\778432112.py:193: RuntimeWarning:\n",
      "\n",
      "All-NaN slice encountered\n",
      "\n"
     ]
    },
    {
     "name": "stdout",
     "output_type": "stream",
     "text": [
      "EXPLOIT\n"
     ]
    },
    {
     "name": "stderr",
     "output_type": "stream",
     "text": [
      "C:\\Users\\Utente\\AppData\\Local\\Temp\\ipykernel_17080\\778432112.py:193: RuntimeWarning:\n",
      "\n",
      "All-NaN slice encountered\n",
      "\n"
     ]
    },
    {
     "name": "stdout",
     "output_type": "stream",
     "text": [
      "EXPLOIT\n",
      "EXPLOIT\n",
      "EXPLOIT\n",
      "EXPLOIT\n",
      "EXPLOIT\n",
      "EXPLOIT\n",
      "EXPLOIT\n",
      "EXPLOIT\n",
      "EXPLOIT\n",
      "EXPLOIT\n",
      "EXPLOIT\n",
      "EXPLOIT\n",
      "EXPLOIT\n",
      "EXPLOIT\n",
      "EXPLOIT\n",
      "EXPLOIT\n",
      "EXPLOIT\n",
      "EXPLOIT\n",
      "EXPLOIT\n",
      "EXPLOIT\n",
      "EXPLOIT\n",
      "EXPLOIT\n",
      "Simulation finished\n",
      "Final Reward: -7254.468599101534\n",
      "Model saved to dqn_model.pth\n",
      "Operazione completata\n",
      "Model saved correctly\n",
      "Model loaded from dqn_model.pth\n",
      "EXPLOIT\n"
     ]
    },
    {
     "name": "stderr",
     "output_type": "stream",
     "text": [
      "C:\\Users\\Utente\\AppData\\Local\\Temp\\ipykernel_17080\\778432112.py:193: RuntimeWarning:\n",
      "\n",
      "All-NaN slice encountered\n",
      "\n"
     ]
    },
    {
     "name": "stdout",
     "output_type": "stream",
     "text": [
      "EXPLOIT\n"
     ]
    },
    {
     "name": "stderr",
     "output_type": "stream",
     "text": [
      "C:\\Users\\Utente\\AppData\\Local\\Temp\\ipykernel_17080\\778432112.py:193: RuntimeWarning:\n",
      "\n",
      "All-NaN slice encountered\n",
      "\n"
     ]
    },
    {
     "name": "stdout",
     "output_type": "stream",
     "text": [
      "EXPLOIT\n"
     ]
    },
    {
     "name": "stderr",
     "output_type": "stream",
     "text": [
      "C:\\Users\\Utente\\AppData\\Local\\Temp\\ipykernel_17080\\778432112.py:193: RuntimeWarning:\n",
      "\n",
      "All-NaN slice encountered\n",
      "\n"
     ]
    },
    {
     "name": "stdout",
     "output_type": "stream",
     "text": [
      "EXPLOIT\n"
     ]
    },
    {
     "name": "stderr",
     "output_type": "stream",
     "text": [
      "C:\\Users\\Utente\\AppData\\Local\\Temp\\ipykernel_17080\\778432112.py:193: RuntimeWarning:\n",
      "\n",
      "All-NaN slice encountered\n",
      "\n"
     ]
    },
    {
     "name": "stdout",
     "output_type": "stream",
     "text": [
      "EXPLOIT\n"
     ]
    },
    {
     "name": "stderr",
     "output_type": "stream",
     "text": [
      "C:\\Users\\Utente\\AppData\\Local\\Temp\\ipykernel_17080\\778432112.py:193: RuntimeWarning:\n",
      "\n",
      "All-NaN slice encountered\n",
      "\n"
     ]
    },
    {
     "name": "stdout",
     "output_type": "stream",
     "text": [
      "EXPLOIT\n"
     ]
    },
    {
     "name": "stderr",
     "output_type": "stream",
     "text": [
      "C:\\Users\\Utente\\AppData\\Local\\Temp\\ipykernel_17080\\778432112.py:193: RuntimeWarning:\n",
      "\n",
      "All-NaN slice encountered\n",
      "\n"
     ]
    },
    {
     "name": "stdout",
     "output_type": "stream",
     "text": [
      "EXPLOIT\n"
     ]
    },
    {
     "name": "stderr",
     "output_type": "stream",
     "text": [
      "C:\\Users\\Utente\\AppData\\Local\\Temp\\ipykernel_17080\\778432112.py:193: RuntimeWarning:\n",
      "\n",
      "All-NaN slice encountered\n",
      "\n"
     ]
    },
    {
     "name": "stdout",
     "output_type": "stream",
     "text": [
      "EXPLOIT\n",
      "EXPLOIT\n",
      "EXPLOIT\n",
      "EXPLOIT\n",
      "EXPLOIT\n",
      "EXPLOIT\n",
      "EXPLOIT\n",
      "EXPLOIT\n",
      "EXPLOIT\n",
      "EXPLOIT\n",
      "EXPLOIT\n",
      "EXPLOIT\n",
      "EXPLOIT\n",
      "EXPLOIT\n",
      "EXPLOIT\n",
      "EXPLOIT\n",
      "EXPLOIT\n",
      "EXPLOIT\n",
      "Simulation finished\n",
      "Final Reward: -4976.56286961105\n",
      "Model saved to dqn_model.pth\n",
      "Operazione completata\n",
      "Model saved correctly\n",
      "Model loaded from dqn_model.pth\n",
      "EXPLOIT\n"
     ]
    },
    {
     "name": "stderr",
     "output_type": "stream",
     "text": [
      "C:\\Users\\Utente\\AppData\\Local\\Temp\\ipykernel_17080\\778432112.py:193: RuntimeWarning:\n",
      "\n",
      "All-NaN slice encountered\n",
      "\n"
     ]
    },
    {
     "name": "stdout",
     "output_type": "stream",
     "text": [
      "EXPLOIT\n"
     ]
    },
    {
     "name": "stderr",
     "output_type": "stream",
     "text": [
      "C:\\Users\\Utente\\AppData\\Local\\Temp\\ipykernel_17080\\778432112.py:193: RuntimeWarning:\n",
      "\n",
      "All-NaN slice encountered\n",
      "\n"
     ]
    },
    {
     "name": "stdout",
     "output_type": "stream",
     "text": [
      "EXPLOIT\n"
     ]
    },
    {
     "name": "stderr",
     "output_type": "stream",
     "text": [
      "C:\\Users\\Utente\\AppData\\Local\\Temp\\ipykernel_17080\\778432112.py:193: RuntimeWarning:\n",
      "\n",
      "All-NaN slice encountered\n",
      "\n"
     ]
    },
    {
     "name": "stdout",
     "output_type": "stream",
     "text": [
      "EXPLOIT\n"
     ]
    },
    {
     "name": "stderr",
     "output_type": "stream",
     "text": [
      "C:\\Users\\Utente\\AppData\\Local\\Temp\\ipykernel_17080\\778432112.py:193: RuntimeWarning:\n",
      "\n",
      "All-NaN slice encountered\n",
      "\n"
     ]
    },
    {
     "name": "stdout",
     "output_type": "stream",
     "text": [
      "EXPLOIT\n"
     ]
    },
    {
     "name": "stderr",
     "output_type": "stream",
     "text": [
      "C:\\Users\\Utente\\AppData\\Local\\Temp\\ipykernel_17080\\778432112.py:193: RuntimeWarning:\n",
      "\n",
      "All-NaN slice encountered\n",
      "\n"
     ]
    },
    {
     "name": "stdout",
     "output_type": "stream",
     "text": [
      "EXPLOIT\n"
     ]
    },
    {
     "name": "stderr",
     "output_type": "stream",
     "text": [
      "C:\\Users\\Utente\\AppData\\Local\\Temp\\ipykernel_17080\\778432112.py:193: RuntimeWarning:\n",
      "\n",
      "All-NaN slice encountered\n",
      "\n"
     ]
    },
    {
     "name": "stdout",
     "output_type": "stream",
     "text": [
      "EXPLOIT\n"
     ]
    },
    {
     "name": "stderr",
     "output_type": "stream",
     "text": [
      "C:\\Users\\Utente\\AppData\\Local\\Temp\\ipykernel_17080\\778432112.py:193: RuntimeWarning:\n",
      "\n",
      "All-NaN slice encountered\n",
      "\n"
     ]
    },
    {
     "name": "stdout",
     "output_type": "stream",
     "text": [
      "EXPLOIT\n",
      "EXPLOIT\n",
      "EXPLOIT\n",
      "EXPLOIT\n",
      "EXPLOIT\n",
      "EXPLOIT\n",
      "EXPLOIT\n",
      "EXPLOIT\n",
      "EXPLOIT\n",
      "EXPLOIT\n",
      "EXPLOIT\n",
      "EXPLOIT\n",
      "EXPLOIT\n",
      "EXPLOIT\n",
      "EXPLOIT\n",
      "EXPLOIT\n",
      "EXPLOIT\n",
      "EXPLOIT\n",
      "EXPLOIT\n",
      "EXPLOIT\n",
      "EXPLOIT\n",
      "EXPLOIT\n",
      "Simulation finished\n",
      "Final Reward: -7384.669969844521\n",
      "Model saved to dqn_model.pth\n",
      "Operazione completata\n",
      "Model saved correctly\n",
      "Model loaded from dqn_model.pth\n",
      "EXPLOIT\n"
     ]
    },
    {
     "name": "stderr",
     "output_type": "stream",
     "text": [
      "C:\\Users\\Utente\\AppData\\Local\\Temp\\ipykernel_17080\\778432112.py:193: RuntimeWarning:\n",
      "\n",
      "All-NaN slice encountered\n",
      "\n"
     ]
    },
    {
     "name": "stdout",
     "output_type": "stream",
     "text": [
      "EXPLOIT\n"
     ]
    },
    {
     "name": "stderr",
     "output_type": "stream",
     "text": [
      "C:\\Users\\Utente\\AppData\\Local\\Temp\\ipykernel_17080\\778432112.py:193: RuntimeWarning:\n",
      "\n",
      "All-NaN slice encountered\n",
      "\n"
     ]
    },
    {
     "name": "stdout",
     "output_type": "stream",
     "text": [
      "EXPLOIT\n"
     ]
    },
    {
     "name": "stderr",
     "output_type": "stream",
     "text": [
      "C:\\Users\\Utente\\AppData\\Local\\Temp\\ipykernel_17080\\778432112.py:193: RuntimeWarning:\n",
      "\n",
      "All-NaN slice encountered\n",
      "\n"
     ]
    },
    {
     "name": "stdout",
     "output_type": "stream",
     "text": [
      "EXPLOIT\n"
     ]
    },
    {
     "name": "stderr",
     "output_type": "stream",
     "text": [
      "C:\\Users\\Utente\\AppData\\Local\\Temp\\ipykernel_17080\\778432112.py:193: RuntimeWarning:\n",
      "\n",
      "All-NaN slice encountered\n",
      "\n"
     ]
    },
    {
     "name": "stdout",
     "output_type": "stream",
     "text": [
      "EXPLOIT\n"
     ]
    },
    {
     "name": "stderr",
     "output_type": "stream",
     "text": [
      "C:\\Users\\Utente\\AppData\\Local\\Temp\\ipykernel_17080\\778432112.py:193: RuntimeWarning:\n",
      "\n",
      "All-NaN slice encountered\n",
      "\n"
     ]
    },
    {
     "name": "stdout",
     "output_type": "stream",
     "text": [
      "EXPLOIT\n"
     ]
    },
    {
     "name": "stderr",
     "output_type": "stream",
     "text": [
      "C:\\Users\\Utente\\AppData\\Local\\Temp\\ipykernel_17080\\778432112.py:193: RuntimeWarning:\n",
      "\n",
      "All-NaN slice encountered\n",
      "\n"
     ]
    },
    {
     "name": "stdout",
     "output_type": "stream",
     "text": [
      "EXPLOIT\n"
     ]
    },
    {
     "name": "stderr",
     "output_type": "stream",
     "text": [
      "C:\\Users\\Utente\\AppData\\Local\\Temp\\ipykernel_17080\\778432112.py:193: RuntimeWarning:\n",
      "\n",
      "All-NaN slice encountered\n",
      "\n"
     ]
    },
    {
     "name": "stdout",
     "output_type": "stream",
     "text": [
      "EXPLOIT\n",
      "EXPLOIT\n",
      "EXPLOIT\n",
      "EXPLOIT\n",
      "EXPLOIT\n",
      "EXPLOIT\n",
      "EXPLOIT\n",
      "EXPLOIT\n",
      "EXPLOIT\n",
      "EXPLOIT\n",
      "EXPLOIT\n",
      "EXPLOIT\n",
      "EXPLOIT\n",
      "EXPLOIT\n",
      "EXPLOIT\n",
      "EXPLOIT\n",
      "EXPLOIT\n",
      "EXPLOIT\n",
      "EXPLOIT\n",
      "EXPLOIT\n",
      "EXPLOIT\n",
      "EXPLOIT\n",
      "Simulation finished\n",
      "Final Reward: -7607.58160915295\n",
      "Model saved to dqn_model.pth\n",
      "Operazione completata\n",
      "Model saved correctly\n",
      "Model loaded from dqn_model.pth\n",
      "EXPLOIT\n"
     ]
    },
    {
     "name": "stderr",
     "output_type": "stream",
     "text": [
      "C:\\Users\\Utente\\AppData\\Local\\Temp\\ipykernel_17080\\778432112.py:193: RuntimeWarning:\n",
      "\n",
      "All-NaN slice encountered\n",
      "\n"
     ]
    },
    {
     "name": "stdout",
     "output_type": "stream",
     "text": [
      "EXPLOIT\n"
     ]
    },
    {
     "name": "stderr",
     "output_type": "stream",
     "text": [
      "C:\\Users\\Utente\\AppData\\Local\\Temp\\ipykernel_17080\\778432112.py:193: RuntimeWarning:\n",
      "\n",
      "All-NaN slice encountered\n",
      "\n"
     ]
    },
    {
     "name": "stdout",
     "output_type": "stream",
     "text": [
      "EXPLOIT\n"
     ]
    },
    {
     "name": "stderr",
     "output_type": "stream",
     "text": [
      "C:\\Users\\Utente\\AppData\\Local\\Temp\\ipykernel_17080\\778432112.py:193: RuntimeWarning:\n",
      "\n",
      "All-NaN slice encountered\n",
      "\n"
     ]
    },
    {
     "name": "stdout",
     "output_type": "stream",
     "text": [
      "EXPLOIT\n"
     ]
    },
    {
     "name": "stderr",
     "output_type": "stream",
     "text": [
      "C:\\Users\\Utente\\AppData\\Local\\Temp\\ipykernel_17080\\778432112.py:193: RuntimeWarning:\n",
      "\n",
      "All-NaN slice encountered\n",
      "\n"
     ]
    },
    {
     "name": "stdout",
     "output_type": "stream",
     "text": [
      "EXPLOIT\n"
     ]
    },
    {
     "name": "stderr",
     "output_type": "stream",
     "text": [
      "C:\\Users\\Utente\\AppData\\Local\\Temp\\ipykernel_17080\\778432112.py:193: RuntimeWarning:\n",
      "\n",
      "All-NaN slice encountered\n",
      "\n"
     ]
    },
    {
     "name": "stdout",
     "output_type": "stream",
     "text": [
      "EXPLOIT\n"
     ]
    },
    {
     "name": "stderr",
     "output_type": "stream",
     "text": [
      "C:\\Users\\Utente\\AppData\\Local\\Temp\\ipykernel_17080\\778432112.py:193: RuntimeWarning:\n",
      "\n",
      "All-NaN slice encountered\n",
      "\n"
     ]
    },
    {
     "name": "stdout",
     "output_type": "stream",
     "text": [
      "EXPLOIT\n"
     ]
    },
    {
     "name": "stderr",
     "output_type": "stream",
     "text": [
      "C:\\Users\\Utente\\AppData\\Local\\Temp\\ipykernel_17080\\778432112.py:193: RuntimeWarning:\n",
      "\n",
      "All-NaN slice encountered\n",
      "\n"
     ]
    },
    {
     "name": "stdout",
     "output_type": "stream",
     "text": [
      "EXPLOIT\n",
      "EXPLOIT\n",
      "EXPLOIT\n",
      "EXPLOIT\n",
      "EXPLOIT\n",
      "EXPLOIT\n",
      "EXPLOIT\n",
      "EXPLOIT\n",
      "EXPLOIT\n",
      "EXPLOIT\n",
      "EXPLOIT\n",
      "EXPLOIT\n",
      "EXPLOIT\n",
      "EXPLOIT\n",
      "EXPLOIT\n",
      "EXPLOIT\n",
      "EXPLOIT\n",
      "EXPLOIT\n",
      "EXPLOIT\n",
      "EXPLOIT\n",
      "EXPLOIT\n",
      "EXPLOIT\n",
      "Simulation finished\n",
      "Final Reward: -7184.345445398062\n",
      "Model saved to dqn_model.pth\n",
      "Operazione completata\n",
      "Model saved correctly\n",
      "Model loaded from dqn_model.pth\n",
      "EXPLOIT\n"
     ]
    },
    {
     "name": "stderr",
     "output_type": "stream",
     "text": [
      "C:\\Users\\Utente\\AppData\\Local\\Temp\\ipykernel_17080\\778432112.py:193: RuntimeWarning:\n",
      "\n",
      "All-NaN slice encountered\n",
      "\n"
     ]
    },
    {
     "name": "stdout",
     "output_type": "stream",
     "text": [
      "EXPLOIT\n"
     ]
    },
    {
     "name": "stderr",
     "output_type": "stream",
     "text": [
      "C:\\Users\\Utente\\AppData\\Local\\Temp\\ipykernel_17080\\778432112.py:193: RuntimeWarning:\n",
      "\n",
      "All-NaN slice encountered\n",
      "\n"
     ]
    },
    {
     "name": "stdout",
     "output_type": "stream",
     "text": [
      "EXPLOIT\n"
     ]
    },
    {
     "name": "stderr",
     "output_type": "stream",
     "text": [
      "C:\\Users\\Utente\\AppData\\Local\\Temp\\ipykernel_17080\\778432112.py:193: RuntimeWarning:\n",
      "\n",
      "All-NaN slice encountered\n",
      "\n"
     ]
    },
    {
     "name": "stdout",
     "output_type": "stream",
     "text": [
      "EXPLOIT\n"
     ]
    },
    {
     "name": "stderr",
     "output_type": "stream",
     "text": [
      "C:\\Users\\Utente\\AppData\\Local\\Temp\\ipykernel_17080\\778432112.py:193: RuntimeWarning:\n",
      "\n",
      "All-NaN slice encountered\n",
      "\n"
     ]
    },
    {
     "name": "stdout",
     "output_type": "stream",
     "text": [
      "EXPLOIT\n"
     ]
    },
    {
     "name": "stderr",
     "output_type": "stream",
     "text": [
      "C:\\Users\\Utente\\AppData\\Local\\Temp\\ipykernel_17080\\778432112.py:193: RuntimeWarning:\n",
      "\n",
      "All-NaN slice encountered\n",
      "\n"
     ]
    },
    {
     "name": "stdout",
     "output_type": "stream",
     "text": [
      "EXPLOIT\n"
     ]
    },
    {
     "name": "stderr",
     "output_type": "stream",
     "text": [
      "C:\\Users\\Utente\\AppData\\Local\\Temp\\ipykernel_17080\\778432112.py:193: RuntimeWarning:\n",
      "\n",
      "All-NaN slice encountered\n",
      "\n"
     ]
    },
    {
     "name": "stdout",
     "output_type": "stream",
     "text": [
      "EXPLOIT\n"
     ]
    },
    {
     "name": "stderr",
     "output_type": "stream",
     "text": [
      "C:\\Users\\Utente\\AppData\\Local\\Temp\\ipykernel_17080\\778432112.py:193: RuntimeWarning:\n",
      "\n",
      "All-NaN slice encountered\n",
      "\n"
     ]
    },
    {
     "name": "stdout",
     "output_type": "stream",
     "text": [
      "EXPLOIT\n",
      "EXPLOIT\n",
      "EXPLOIT\n",
      "EXPLOIT\n",
      "EXPLOIT\n",
      "EXPLOIT\n",
      "EXPLOIT\n",
      "EXPLOIT\n",
      "EXPLOIT\n",
      "EXPLOIT\n",
      "EXPLOIT\n",
      "EXPLOIT\n",
      "EXPLOIT\n",
      "EXPLOIT\n",
      "EXPLOIT\n",
      "EXPLOIT\n",
      "EXPLOIT\n",
      "EXPLOIT\n",
      "EXPLOIT\n",
      "EXPLOIT\n",
      "EXPLOIT\n",
      "Simulation finished\n",
      "Final Reward: -6653.872243677766\n",
      "Model saved to dqn_model.pth\n",
      "Operazione completata\n",
      "Model saved correctly\n",
      "Model loaded from dqn_model.pth\n",
      "EXPLOIT\n"
     ]
    },
    {
     "name": "stderr",
     "output_type": "stream",
     "text": [
      "C:\\Users\\Utente\\AppData\\Local\\Temp\\ipykernel_17080\\778432112.py:193: RuntimeWarning:\n",
      "\n",
      "All-NaN slice encountered\n",
      "\n"
     ]
    },
    {
     "name": "stdout",
     "output_type": "stream",
     "text": [
      "EXPLOIT\n"
     ]
    },
    {
     "name": "stderr",
     "output_type": "stream",
     "text": [
      "C:\\Users\\Utente\\AppData\\Local\\Temp\\ipykernel_17080\\778432112.py:193: RuntimeWarning:\n",
      "\n",
      "All-NaN slice encountered\n",
      "\n"
     ]
    },
    {
     "name": "stdout",
     "output_type": "stream",
     "text": [
      "EXPLOIT\n"
     ]
    },
    {
     "name": "stderr",
     "output_type": "stream",
     "text": [
      "C:\\Users\\Utente\\AppData\\Local\\Temp\\ipykernel_17080\\778432112.py:193: RuntimeWarning:\n",
      "\n",
      "All-NaN slice encountered\n",
      "\n"
     ]
    },
    {
     "name": "stdout",
     "output_type": "stream",
     "text": [
      "EXPLOIT\n"
     ]
    },
    {
     "name": "stderr",
     "output_type": "stream",
     "text": [
      "C:\\Users\\Utente\\AppData\\Local\\Temp\\ipykernel_17080\\778432112.py:193: RuntimeWarning:\n",
      "\n",
      "All-NaN slice encountered\n",
      "\n"
     ]
    },
    {
     "name": "stdout",
     "output_type": "stream",
     "text": [
      "EXPLOIT\n"
     ]
    },
    {
     "name": "stderr",
     "output_type": "stream",
     "text": [
      "C:\\Users\\Utente\\AppData\\Local\\Temp\\ipykernel_17080\\778432112.py:193: RuntimeWarning:\n",
      "\n",
      "All-NaN slice encountered\n",
      "\n"
     ]
    },
    {
     "name": "stdout",
     "output_type": "stream",
     "text": [
      "EXPLOIT\n"
     ]
    },
    {
     "name": "stderr",
     "output_type": "stream",
     "text": [
      "C:\\Users\\Utente\\AppData\\Local\\Temp\\ipykernel_17080\\778432112.py:193: RuntimeWarning:\n",
      "\n",
      "All-NaN slice encountered\n",
      "\n"
     ]
    },
    {
     "name": "stdout",
     "output_type": "stream",
     "text": [
      "EXPLOIT\n"
     ]
    },
    {
     "name": "stderr",
     "output_type": "stream",
     "text": [
      "C:\\Users\\Utente\\AppData\\Local\\Temp\\ipykernel_17080\\778432112.py:193: RuntimeWarning:\n",
      "\n",
      "All-NaN slice encountered\n",
      "\n"
     ]
    },
    {
     "name": "stdout",
     "output_type": "stream",
     "text": [
      "EXPLOIT\n",
      "EXPLOIT\n",
      "EXPLOIT\n",
      "EXPLOIT\n",
      "EXPLOIT\n",
      "EXPLOIT\n",
      "EXPLOIT\n",
      "EXPLOIT\n",
      "EXPLOIT\n",
      "EXPLOIT\n",
      "EXPLOIT\n",
      "EXPLOIT\n",
      "EXPLOIT\n",
      "EXPLOIT\n",
      "EXPLOIT\n",
      "EXPLOIT\n",
      "EXPLOIT\n",
      "EXPLOIT\n",
      "EXPLOIT\n",
      "EXPLOIT\n",
      "EXPLOIT\n",
      "EXPLOIT\n",
      "Simulation finished\n",
      "Final Reward: -7371.453251194256\n",
      "Model saved to dqn_model.pth\n",
      "Operazione completata\n",
      "Model saved correctly\n",
      "Model loaded from dqn_model.pth\n",
      "EXPLOIT\n"
     ]
    },
    {
     "name": "stderr",
     "output_type": "stream",
     "text": [
      "C:\\Users\\Utente\\AppData\\Local\\Temp\\ipykernel_17080\\778432112.py:193: RuntimeWarning:\n",
      "\n",
      "All-NaN slice encountered\n",
      "\n"
     ]
    },
    {
     "name": "stdout",
     "output_type": "stream",
     "text": [
      "EXPLOIT\n"
     ]
    },
    {
     "name": "stderr",
     "output_type": "stream",
     "text": [
      "C:\\Users\\Utente\\AppData\\Local\\Temp\\ipykernel_17080\\778432112.py:193: RuntimeWarning:\n",
      "\n",
      "All-NaN slice encountered\n",
      "\n"
     ]
    },
    {
     "name": "stdout",
     "output_type": "stream",
     "text": [
      "EXPLOIT\n"
     ]
    },
    {
     "name": "stderr",
     "output_type": "stream",
     "text": [
      "C:\\Users\\Utente\\AppData\\Local\\Temp\\ipykernel_17080\\778432112.py:193: RuntimeWarning:\n",
      "\n",
      "All-NaN slice encountered\n",
      "\n"
     ]
    },
    {
     "name": "stdout",
     "output_type": "stream",
     "text": [
      "EXPLOIT\n"
     ]
    },
    {
     "name": "stderr",
     "output_type": "stream",
     "text": [
      "C:\\Users\\Utente\\AppData\\Local\\Temp\\ipykernel_17080\\778432112.py:193: RuntimeWarning:\n",
      "\n",
      "All-NaN slice encountered\n",
      "\n"
     ]
    },
    {
     "name": "stdout",
     "output_type": "stream",
     "text": [
      "EXPLOIT\n"
     ]
    },
    {
     "name": "stderr",
     "output_type": "stream",
     "text": [
      "C:\\Users\\Utente\\AppData\\Local\\Temp\\ipykernel_17080\\778432112.py:193: RuntimeWarning:\n",
      "\n",
      "All-NaN slice encountered\n",
      "\n"
     ]
    },
    {
     "name": "stdout",
     "output_type": "stream",
     "text": [
      "EXPLOIT\n"
     ]
    },
    {
     "name": "stderr",
     "output_type": "stream",
     "text": [
      "C:\\Users\\Utente\\AppData\\Local\\Temp\\ipykernel_17080\\778432112.py:193: RuntimeWarning:\n",
      "\n",
      "All-NaN slice encountered\n",
      "\n"
     ]
    },
    {
     "name": "stdout",
     "output_type": "stream",
     "text": [
      "EXPLOIT\n"
     ]
    },
    {
     "name": "stderr",
     "output_type": "stream",
     "text": [
      "C:\\Users\\Utente\\AppData\\Local\\Temp\\ipykernel_17080\\778432112.py:193: RuntimeWarning:\n",
      "\n",
      "All-NaN slice encountered\n",
      "\n"
     ]
    },
    {
     "name": "stdout",
     "output_type": "stream",
     "text": [
      "EXPLOIT\n",
      "EXPLOIT\n",
      "EXPLOIT\n",
      "EXPLOIT\n",
      "EXPLOIT\n",
      "EXPLOIT\n",
      "EXPLOIT\n",
      "EXPLOIT\n",
      "EXPLOIT\n",
      "EXPLOIT\n",
      "EXPLOIT\n",
      "EXPLOIT\n",
      "EXPLOIT\n",
      "EXPLOIT\n",
      "EXPLOIT\n",
      "EXPLOIT\n",
      "EXPLOIT\n",
      "EXPLOIT\n",
      "EXPLOIT\n",
      "EXPLOIT\n",
      "EXPLOIT\n",
      "EXPLOIT\n",
      "Simulation finished\n",
      "Final Reward: -7740.023719599529\n",
      "Model saved to dqn_model.pth\n",
      "Operazione completata\n",
      "Model saved correctly\n",
      "Model loaded from dqn_model.pth\n",
      "EXPLOIT\n"
     ]
    },
    {
     "name": "stderr",
     "output_type": "stream",
     "text": [
      "C:\\Users\\Utente\\AppData\\Local\\Temp\\ipykernel_17080\\778432112.py:193: RuntimeWarning:\n",
      "\n",
      "All-NaN slice encountered\n",
      "\n"
     ]
    },
    {
     "name": "stdout",
     "output_type": "stream",
     "text": [
      "EXPLOIT\n"
     ]
    },
    {
     "name": "stderr",
     "output_type": "stream",
     "text": [
      "C:\\Users\\Utente\\AppData\\Local\\Temp\\ipykernel_17080\\778432112.py:193: RuntimeWarning:\n",
      "\n",
      "All-NaN slice encountered\n",
      "\n"
     ]
    },
    {
     "name": "stdout",
     "output_type": "stream",
     "text": [
      "EXPLOIT\n"
     ]
    },
    {
     "name": "stderr",
     "output_type": "stream",
     "text": [
      "C:\\Users\\Utente\\AppData\\Local\\Temp\\ipykernel_17080\\778432112.py:193: RuntimeWarning:\n",
      "\n",
      "All-NaN slice encountered\n",
      "\n"
     ]
    },
    {
     "name": "stdout",
     "output_type": "stream",
     "text": [
      "EXPLOIT\n"
     ]
    },
    {
     "name": "stderr",
     "output_type": "stream",
     "text": [
      "C:\\Users\\Utente\\AppData\\Local\\Temp\\ipykernel_17080\\778432112.py:193: RuntimeWarning:\n",
      "\n",
      "All-NaN slice encountered\n",
      "\n"
     ]
    },
    {
     "name": "stdout",
     "output_type": "stream",
     "text": [
      "EXPLOIT\n"
     ]
    },
    {
     "name": "stderr",
     "output_type": "stream",
     "text": [
      "C:\\Users\\Utente\\AppData\\Local\\Temp\\ipykernel_17080\\778432112.py:193: RuntimeWarning:\n",
      "\n",
      "All-NaN slice encountered\n",
      "\n"
     ]
    },
    {
     "name": "stdout",
     "output_type": "stream",
     "text": [
      "EXPLOIT\n"
     ]
    },
    {
     "name": "stderr",
     "output_type": "stream",
     "text": [
      "C:\\Users\\Utente\\AppData\\Local\\Temp\\ipykernel_17080\\778432112.py:193: RuntimeWarning:\n",
      "\n",
      "All-NaN slice encountered\n",
      "\n"
     ]
    },
    {
     "name": "stdout",
     "output_type": "stream",
     "text": [
      "EXPLOIT\n"
     ]
    },
    {
     "name": "stderr",
     "output_type": "stream",
     "text": [
      "C:\\Users\\Utente\\AppData\\Local\\Temp\\ipykernel_17080\\778432112.py:193: RuntimeWarning:\n",
      "\n",
      "All-NaN slice encountered\n",
      "\n"
     ]
    },
    {
     "name": "stdout",
     "output_type": "stream",
     "text": [
      "EXPLOIT\n",
      "EXPLOIT\n",
      "EXPLOIT\n",
      "EXPLOIT\n",
      "EXPLOIT\n",
      "EXPLOIT\n",
      "EXPLOIT\n",
      "EXPLOIT\n",
      "EXPLOIT\n",
      "EXPLOIT\n",
      "EXPLOIT\n",
      "EXPLOIT\n",
      "EXPLOIT\n",
      "EXPLOIT\n",
      "EXPLOIT\n",
      "EXPLOIT\n",
      "EXPLOIT\n",
      "EXPLOIT\n",
      "EXPLOIT\n",
      "EXPLOIT\n",
      "Simulation finished\n",
      "Final Reward: -6408.525617764583\n",
      "Model saved to dqn_model.pth\n",
      "Operazione completata\n",
      "Model saved correctly\n",
      "Model loaded from dqn_model.pth\n",
      "EXPLOIT\n"
     ]
    },
    {
     "name": "stderr",
     "output_type": "stream",
     "text": [
      "C:\\Users\\Utente\\AppData\\Local\\Temp\\ipykernel_17080\\778432112.py:193: RuntimeWarning:\n",
      "\n",
      "All-NaN slice encountered\n",
      "\n"
     ]
    },
    {
     "name": "stdout",
     "output_type": "stream",
     "text": [
      "EXPLOIT\n"
     ]
    },
    {
     "name": "stderr",
     "output_type": "stream",
     "text": [
      "C:\\Users\\Utente\\AppData\\Local\\Temp\\ipykernel_17080\\778432112.py:193: RuntimeWarning:\n",
      "\n",
      "All-NaN slice encountered\n",
      "\n"
     ]
    },
    {
     "name": "stdout",
     "output_type": "stream",
     "text": [
      "EXPLOIT\n"
     ]
    },
    {
     "name": "stderr",
     "output_type": "stream",
     "text": [
      "C:\\Users\\Utente\\AppData\\Local\\Temp\\ipykernel_17080\\778432112.py:193: RuntimeWarning:\n",
      "\n",
      "All-NaN slice encountered\n",
      "\n"
     ]
    },
    {
     "name": "stdout",
     "output_type": "stream",
     "text": [
      "EXPLOIT\n"
     ]
    },
    {
     "name": "stderr",
     "output_type": "stream",
     "text": [
      "C:\\Users\\Utente\\AppData\\Local\\Temp\\ipykernel_17080\\778432112.py:193: RuntimeWarning:\n",
      "\n",
      "All-NaN slice encountered\n",
      "\n"
     ]
    },
    {
     "name": "stdout",
     "output_type": "stream",
     "text": [
      "EXPLOIT\n"
     ]
    },
    {
     "name": "stderr",
     "output_type": "stream",
     "text": [
      "C:\\Users\\Utente\\AppData\\Local\\Temp\\ipykernel_17080\\778432112.py:193: RuntimeWarning:\n",
      "\n",
      "All-NaN slice encountered\n",
      "\n"
     ]
    },
    {
     "name": "stdout",
     "output_type": "stream",
     "text": [
      "EXPLOIT\n"
     ]
    },
    {
     "name": "stderr",
     "output_type": "stream",
     "text": [
      "C:\\Users\\Utente\\AppData\\Local\\Temp\\ipykernel_17080\\778432112.py:193: RuntimeWarning:\n",
      "\n",
      "All-NaN slice encountered\n",
      "\n"
     ]
    },
    {
     "name": "stdout",
     "output_type": "stream",
     "text": [
      "EXPLOIT\n"
     ]
    },
    {
     "name": "stderr",
     "output_type": "stream",
     "text": [
      "C:\\Users\\Utente\\AppData\\Local\\Temp\\ipykernel_17080\\778432112.py:193: RuntimeWarning:\n",
      "\n",
      "All-NaN slice encountered\n",
      "\n"
     ]
    },
    {
     "name": "stdout",
     "output_type": "stream",
     "text": [
      "EXPLOIT\n",
      "EXPLOIT\n",
      "EXPLOIT\n",
      "EXPLOIT\n",
      "EXPLOIT\n",
      "EXPLOIT\n",
      "EXPLOIT\n",
      "EXPLOIT\n",
      "EXPLOIT\n",
      "EXPLOIT\n",
      "EXPLOIT\n",
      "EXPLOIT\n",
      "EXPLOIT\n",
      "EXPLOIT\n",
      "EXPLOIT\n",
      "EXPLOIT\n",
      "EXPLOIT\n",
      "EXPLOIT\n",
      "EXPLOIT\n",
      "EXPLOIT\n",
      "EXPLOIT\n",
      "Simulation finished\n",
      "Final Reward: -6753.730515954428\n",
      "Model saved to dqn_model.pth\n",
      "Operazione completata\n",
      "Model saved correctly\n",
      "Model loaded from dqn_model.pth\n",
      "EXPLOIT\n"
     ]
    },
    {
     "name": "stderr",
     "output_type": "stream",
     "text": [
      "C:\\Users\\Utente\\AppData\\Local\\Temp\\ipykernel_17080\\778432112.py:193: RuntimeWarning:\n",
      "\n",
      "All-NaN slice encountered\n",
      "\n"
     ]
    },
    {
     "name": "stdout",
     "output_type": "stream",
     "text": [
      "EXPLOIT\n"
     ]
    },
    {
     "name": "stderr",
     "output_type": "stream",
     "text": [
      "C:\\Users\\Utente\\AppData\\Local\\Temp\\ipykernel_17080\\778432112.py:193: RuntimeWarning:\n",
      "\n",
      "All-NaN slice encountered\n",
      "\n"
     ]
    },
    {
     "name": "stdout",
     "output_type": "stream",
     "text": [
      "EXPLOIT\n"
     ]
    },
    {
     "name": "stderr",
     "output_type": "stream",
     "text": [
      "C:\\Users\\Utente\\AppData\\Local\\Temp\\ipykernel_17080\\778432112.py:193: RuntimeWarning:\n",
      "\n",
      "All-NaN slice encountered\n",
      "\n"
     ]
    },
    {
     "name": "stdout",
     "output_type": "stream",
     "text": [
      "EXPLOIT\n"
     ]
    },
    {
     "name": "stderr",
     "output_type": "stream",
     "text": [
      "C:\\Users\\Utente\\AppData\\Local\\Temp\\ipykernel_17080\\778432112.py:193: RuntimeWarning:\n",
      "\n",
      "All-NaN slice encountered\n",
      "\n"
     ]
    },
    {
     "name": "stdout",
     "output_type": "stream",
     "text": [
      "EXPLOIT\n"
     ]
    },
    {
     "name": "stderr",
     "output_type": "stream",
     "text": [
      "C:\\Users\\Utente\\AppData\\Local\\Temp\\ipykernel_17080\\778432112.py:193: RuntimeWarning:\n",
      "\n",
      "All-NaN slice encountered\n",
      "\n"
     ]
    },
    {
     "name": "stdout",
     "output_type": "stream",
     "text": [
      "EXPLOIT\n"
     ]
    },
    {
     "name": "stderr",
     "output_type": "stream",
     "text": [
      "C:\\Users\\Utente\\AppData\\Local\\Temp\\ipykernel_17080\\778432112.py:193: RuntimeWarning:\n",
      "\n",
      "All-NaN slice encountered\n",
      "\n"
     ]
    },
    {
     "name": "stdout",
     "output_type": "stream",
     "text": [
      "EXPLOIT\n"
     ]
    },
    {
     "name": "stderr",
     "output_type": "stream",
     "text": [
      "C:\\Users\\Utente\\AppData\\Local\\Temp\\ipykernel_17080\\778432112.py:193: RuntimeWarning:\n",
      "\n",
      "All-NaN slice encountered\n",
      "\n"
     ]
    },
    {
     "name": "stdout",
     "output_type": "stream",
     "text": [
      "EXPLOIT\n",
      "EXPLOIT\n",
      "EXPLOIT\n",
      "EXPLOIT\n",
      "EXPLOIT\n",
      "EXPLOIT\n",
      "EXPLOIT\n",
      "EXPLOIT\n",
      "EXPLOIT\n",
      "EXPLOIT\n",
      "EXPLOIT\n",
      "EXPLOIT\n",
      "EXPLOIT\n",
      "EXPLOIT\n",
      "EXPLOIT\n",
      "EXPLOIT\n",
      "EXPLOIT\n",
      "EXPLOIT\n",
      "EXPLOIT\n",
      "EXPLOIT\n",
      "EXPLOIT\n",
      "Simulation finished\n",
      "Final Reward: -6766.819255864635\n",
      "Model saved to dqn_model.pth\n",
      "Operazione completata\n",
      "Model saved correctly\n",
      "Model loaded from dqn_model.pth\n",
      "EXPLOIT\n"
     ]
    },
    {
     "name": "stderr",
     "output_type": "stream",
     "text": [
      "C:\\Users\\Utente\\AppData\\Local\\Temp\\ipykernel_17080\\778432112.py:193: RuntimeWarning:\n",
      "\n",
      "All-NaN slice encountered\n",
      "\n"
     ]
    },
    {
     "name": "stdout",
     "output_type": "stream",
     "text": [
      "EXPLOIT\n"
     ]
    },
    {
     "name": "stderr",
     "output_type": "stream",
     "text": [
      "C:\\Users\\Utente\\AppData\\Local\\Temp\\ipykernel_17080\\778432112.py:193: RuntimeWarning:\n",
      "\n",
      "All-NaN slice encountered\n",
      "\n"
     ]
    },
    {
     "name": "stdout",
     "output_type": "stream",
     "text": [
      "EXPLOIT\n"
     ]
    },
    {
     "name": "stderr",
     "output_type": "stream",
     "text": [
      "C:\\Users\\Utente\\AppData\\Local\\Temp\\ipykernel_17080\\778432112.py:193: RuntimeWarning:\n",
      "\n",
      "All-NaN slice encountered\n",
      "\n"
     ]
    },
    {
     "name": "stdout",
     "output_type": "stream",
     "text": [
      "EXPLOIT\n"
     ]
    },
    {
     "name": "stderr",
     "output_type": "stream",
     "text": [
      "C:\\Users\\Utente\\AppData\\Local\\Temp\\ipykernel_17080\\778432112.py:193: RuntimeWarning:\n",
      "\n",
      "All-NaN slice encountered\n",
      "\n"
     ]
    },
    {
     "name": "stdout",
     "output_type": "stream",
     "text": [
      "EXPLOIT\n"
     ]
    },
    {
     "name": "stderr",
     "output_type": "stream",
     "text": [
      "C:\\Users\\Utente\\AppData\\Local\\Temp\\ipykernel_17080\\778432112.py:193: RuntimeWarning:\n",
      "\n",
      "All-NaN slice encountered\n",
      "\n"
     ]
    },
    {
     "name": "stdout",
     "output_type": "stream",
     "text": [
      "EXPLOIT\n"
     ]
    },
    {
     "name": "stderr",
     "output_type": "stream",
     "text": [
      "C:\\Users\\Utente\\AppData\\Local\\Temp\\ipykernel_17080\\778432112.py:193: RuntimeWarning:\n",
      "\n",
      "All-NaN slice encountered\n",
      "\n"
     ]
    },
    {
     "name": "stdout",
     "output_type": "stream",
     "text": [
      "EXPLOIT\n"
     ]
    },
    {
     "name": "stderr",
     "output_type": "stream",
     "text": [
      "C:\\Users\\Utente\\AppData\\Local\\Temp\\ipykernel_17080\\778432112.py:193: RuntimeWarning:\n",
      "\n",
      "All-NaN slice encountered\n",
      "\n"
     ]
    },
    {
     "name": "stdout",
     "output_type": "stream",
     "text": [
      "EXPLOIT\n",
      "EXPLOIT\n",
      "EXPLOIT\n",
      "EXPLOIT\n",
      "EXPLOIT\n",
      "EXPLOIT\n",
      "EXPLOIT\n",
      "EXPLOIT\n",
      "EXPLOIT\n",
      "EXPLOIT\n",
      "EXPLOIT\n",
      "EXPLOIT\n",
      "EXPLOIT\n",
      "EXPLOIT\n",
      "EXPLOIT\n",
      "EXPLOIT\n",
      "EXPLOIT\n",
      "EXPLOIT\n",
      "EXPLOIT\n",
      "EXPLOIT\n",
      "EXPLOIT\n",
      "EXPLOIT\n",
      "Simulation finished\n",
      "Final Reward: -7160.253880062807\n",
      "Model saved to dqn_model.pth\n",
      "Operazione completata\n",
      "Model saved correctly\n",
      "Model loaded from dqn_model.pth\n",
      "EXPLOIT\n"
     ]
    },
    {
     "name": "stderr",
     "output_type": "stream",
     "text": [
      "C:\\Users\\Utente\\AppData\\Local\\Temp\\ipykernel_17080\\778432112.py:193: RuntimeWarning:\n",
      "\n",
      "All-NaN slice encountered\n",
      "\n"
     ]
    },
    {
     "name": "stdout",
     "output_type": "stream",
     "text": [
      "EXPLOIT\n"
     ]
    },
    {
     "name": "stderr",
     "output_type": "stream",
     "text": [
      "C:\\Users\\Utente\\AppData\\Local\\Temp\\ipykernel_17080\\778432112.py:193: RuntimeWarning:\n",
      "\n",
      "All-NaN slice encountered\n",
      "\n"
     ]
    },
    {
     "name": "stdout",
     "output_type": "stream",
     "text": [
      "EXPLOIT\n"
     ]
    },
    {
     "name": "stderr",
     "output_type": "stream",
     "text": [
      "C:\\Users\\Utente\\AppData\\Local\\Temp\\ipykernel_17080\\778432112.py:193: RuntimeWarning:\n",
      "\n",
      "All-NaN slice encountered\n",
      "\n"
     ]
    },
    {
     "name": "stdout",
     "output_type": "stream",
     "text": [
      "EXPLOIT\n"
     ]
    },
    {
     "name": "stderr",
     "output_type": "stream",
     "text": [
      "C:\\Users\\Utente\\AppData\\Local\\Temp\\ipykernel_17080\\778432112.py:193: RuntimeWarning:\n",
      "\n",
      "All-NaN slice encountered\n",
      "\n"
     ]
    },
    {
     "name": "stdout",
     "output_type": "stream",
     "text": [
      "EXPLOIT\n"
     ]
    },
    {
     "name": "stderr",
     "output_type": "stream",
     "text": [
      "C:\\Users\\Utente\\AppData\\Local\\Temp\\ipykernel_17080\\778432112.py:193: RuntimeWarning:\n",
      "\n",
      "All-NaN slice encountered\n",
      "\n"
     ]
    },
    {
     "name": "stdout",
     "output_type": "stream",
     "text": [
      "EXPLOIT\n"
     ]
    },
    {
     "name": "stderr",
     "output_type": "stream",
     "text": [
      "C:\\Users\\Utente\\AppData\\Local\\Temp\\ipykernel_17080\\778432112.py:193: RuntimeWarning:\n",
      "\n",
      "All-NaN slice encountered\n",
      "\n"
     ]
    },
    {
     "name": "stdout",
     "output_type": "stream",
     "text": [
      "EXPLOIT\n"
     ]
    },
    {
     "name": "stderr",
     "output_type": "stream",
     "text": [
      "C:\\Users\\Utente\\AppData\\Local\\Temp\\ipykernel_17080\\778432112.py:193: RuntimeWarning:\n",
      "\n",
      "All-NaN slice encountered\n",
      "\n"
     ]
    },
    {
     "name": "stdout",
     "output_type": "stream",
     "text": [
      "EXPLOIT\n",
      "EXPLOIT\n",
      "EXPLOIT\n",
      "EXPLOIT\n",
      "EXPLOIT\n",
      "EXPLOIT\n",
      "EXPLOIT\n",
      "EXPLOIT\n",
      "EXPLOIT\n",
      "EXPLOIT\n",
      "EXPLOIT\n",
      "EXPLOIT\n",
      "EXPLOIT\n",
      "EXPLOIT\n",
      "EXPLOIT\n",
      "EXPLOIT\n",
      "EXPLOIT\n",
      "EXPLOIT\n",
      "EXPLOIT\n",
      "EXPLOIT\n",
      "EXPLOIT\n",
      "Simulation finished\n",
      "Final Reward: -6797.168984953254\n",
      "Model saved to dqn_model.pth\n",
      "Operazione completata\n",
      "Model saved correctly\n",
      "Model loaded from dqn_model.pth\n",
      "EXPLOIT\n"
     ]
    },
    {
     "name": "stderr",
     "output_type": "stream",
     "text": [
      "C:\\Users\\Utente\\AppData\\Local\\Temp\\ipykernel_17080\\778432112.py:193: RuntimeWarning:\n",
      "\n",
      "All-NaN slice encountered\n",
      "\n"
     ]
    },
    {
     "name": "stdout",
     "output_type": "stream",
     "text": [
      "EXPLOIT\n"
     ]
    },
    {
     "name": "stderr",
     "output_type": "stream",
     "text": [
      "C:\\Users\\Utente\\AppData\\Local\\Temp\\ipykernel_17080\\778432112.py:193: RuntimeWarning:\n",
      "\n",
      "All-NaN slice encountered\n",
      "\n"
     ]
    },
    {
     "name": "stdout",
     "output_type": "stream",
     "text": [
      "EXPLOIT\n"
     ]
    },
    {
     "name": "stderr",
     "output_type": "stream",
     "text": [
      "C:\\Users\\Utente\\AppData\\Local\\Temp\\ipykernel_17080\\778432112.py:193: RuntimeWarning:\n",
      "\n",
      "All-NaN slice encountered\n",
      "\n"
     ]
    },
    {
     "name": "stdout",
     "output_type": "stream",
     "text": [
      "EXPLOIT\n"
     ]
    },
    {
     "name": "stderr",
     "output_type": "stream",
     "text": [
      "C:\\Users\\Utente\\AppData\\Local\\Temp\\ipykernel_17080\\778432112.py:193: RuntimeWarning:\n",
      "\n",
      "All-NaN slice encountered\n",
      "\n"
     ]
    },
    {
     "name": "stdout",
     "output_type": "stream",
     "text": [
      "EXPLOIT\n"
     ]
    },
    {
     "name": "stderr",
     "output_type": "stream",
     "text": [
      "C:\\Users\\Utente\\AppData\\Local\\Temp\\ipykernel_17080\\778432112.py:193: RuntimeWarning:\n",
      "\n",
      "All-NaN slice encountered\n",
      "\n"
     ]
    },
    {
     "name": "stdout",
     "output_type": "stream",
     "text": [
      "EXPLOIT\n"
     ]
    },
    {
     "name": "stderr",
     "output_type": "stream",
     "text": [
      "C:\\Users\\Utente\\AppData\\Local\\Temp\\ipykernel_17080\\778432112.py:193: RuntimeWarning:\n",
      "\n",
      "All-NaN slice encountered\n",
      "\n"
     ]
    },
    {
     "name": "stdout",
     "output_type": "stream",
     "text": [
      "EXPLOIT\n"
     ]
    },
    {
     "name": "stderr",
     "output_type": "stream",
     "text": [
      "C:\\Users\\Utente\\AppData\\Local\\Temp\\ipykernel_17080\\778432112.py:193: RuntimeWarning:\n",
      "\n",
      "All-NaN slice encountered\n",
      "\n"
     ]
    },
    {
     "name": "stdout",
     "output_type": "stream",
     "text": [
      "EXPLOIT\n",
      "EXPLOIT\n",
      "EXPLOIT\n",
      "EXPLOIT\n",
      "EXPLOIT\n",
      "EXPLOIT\n",
      "EXPLOIT\n",
      "EXPLOIT\n",
      "EXPLOIT\n",
      "EXPLOIT\n",
      "EXPLOIT\n",
      "EXPLOIT\n",
      "EXPLOIT\n",
      "EXPLOIT\n",
      "EXPLOIT\n",
      "EXPLOIT\n",
      "EXPLOIT\n",
      "EXPLOIT\n",
      "EXPLOIT\n",
      "EXPLOIT\n",
      "EXPLOIT\n",
      "Simulation finished\n",
      "Final Reward: -6455.639713142384\n",
      "Model saved to dqn_model.pth\n",
      "Operazione completata\n",
      "Model saved correctly\n",
      "Model loaded from dqn_model.pth\n",
      "EXPLOIT\n"
     ]
    },
    {
     "name": "stderr",
     "output_type": "stream",
     "text": [
      "C:\\Users\\Utente\\AppData\\Local\\Temp\\ipykernel_17080\\778432112.py:193: RuntimeWarning:\n",
      "\n",
      "All-NaN slice encountered\n",
      "\n"
     ]
    },
    {
     "name": "stdout",
     "output_type": "stream",
     "text": [
      "EXPLOIT\n"
     ]
    },
    {
     "name": "stderr",
     "output_type": "stream",
     "text": [
      "C:\\Users\\Utente\\AppData\\Local\\Temp\\ipykernel_17080\\778432112.py:193: RuntimeWarning:\n",
      "\n",
      "All-NaN slice encountered\n",
      "\n"
     ]
    },
    {
     "name": "stdout",
     "output_type": "stream",
     "text": [
      "EXPLOIT\n"
     ]
    },
    {
     "name": "stderr",
     "output_type": "stream",
     "text": [
      "C:\\Users\\Utente\\AppData\\Local\\Temp\\ipykernel_17080\\778432112.py:193: RuntimeWarning:\n",
      "\n",
      "All-NaN slice encountered\n",
      "\n"
     ]
    },
    {
     "name": "stdout",
     "output_type": "stream",
     "text": [
      "EXPLOIT\n"
     ]
    },
    {
     "name": "stderr",
     "output_type": "stream",
     "text": [
      "C:\\Users\\Utente\\AppData\\Local\\Temp\\ipykernel_17080\\778432112.py:193: RuntimeWarning:\n",
      "\n",
      "All-NaN slice encountered\n",
      "\n"
     ]
    },
    {
     "name": "stdout",
     "output_type": "stream",
     "text": [
      "EXPLOIT\n"
     ]
    },
    {
     "name": "stderr",
     "output_type": "stream",
     "text": [
      "C:\\Users\\Utente\\AppData\\Local\\Temp\\ipykernel_17080\\778432112.py:193: RuntimeWarning:\n",
      "\n",
      "All-NaN slice encountered\n",
      "\n"
     ]
    },
    {
     "name": "stdout",
     "output_type": "stream",
     "text": [
      "EXPLOIT\n"
     ]
    },
    {
     "name": "stderr",
     "output_type": "stream",
     "text": [
      "C:\\Users\\Utente\\AppData\\Local\\Temp\\ipykernel_17080\\778432112.py:193: RuntimeWarning:\n",
      "\n",
      "All-NaN slice encountered\n",
      "\n"
     ]
    },
    {
     "name": "stdout",
     "output_type": "stream",
     "text": [
      "EXPLOIT\n"
     ]
    },
    {
     "name": "stderr",
     "output_type": "stream",
     "text": [
      "C:\\Users\\Utente\\AppData\\Local\\Temp\\ipykernel_17080\\778432112.py:193: RuntimeWarning:\n",
      "\n",
      "All-NaN slice encountered\n",
      "\n"
     ]
    },
    {
     "name": "stdout",
     "output_type": "stream",
     "text": [
      "EXPLOIT\n",
      "EXPLOIT\n",
      "EXPLOIT\n",
      "EXPLOIT\n",
      "EXPLOIT\n",
      "EXPLOIT\n",
      "EXPLOIT\n",
      "EXPLOIT\n",
      "EXPLOIT\n",
      "EXPLOIT\n",
      "EXPLOIT\n",
      "EXPLOIT\n",
      "EXPLOIT\n",
      "EXPLOIT\n",
      "EXPLOIT\n",
      "EXPLOIT\n",
      "EXPLOIT\n",
      "EXPLOIT\n",
      "EXPLOIT\n",
      "EXPLOIT\n",
      "Simulation finished\n",
      "Final Reward: -6142.986804458783\n",
      "Model saved to dqn_model.pth\n",
      "Operazione completata\n",
      "Model saved correctly\n",
      "Model loaded from dqn_model.pth\n",
      "EXPLOIT\n"
     ]
    },
    {
     "name": "stderr",
     "output_type": "stream",
     "text": [
      "C:\\Users\\Utente\\AppData\\Local\\Temp\\ipykernel_17080\\778432112.py:193: RuntimeWarning:\n",
      "\n",
      "All-NaN slice encountered\n",
      "\n"
     ]
    },
    {
     "name": "stdout",
     "output_type": "stream",
     "text": [
      "EXPLOIT\n"
     ]
    },
    {
     "name": "stderr",
     "output_type": "stream",
     "text": [
      "C:\\Users\\Utente\\AppData\\Local\\Temp\\ipykernel_17080\\778432112.py:193: RuntimeWarning:\n",
      "\n",
      "All-NaN slice encountered\n",
      "\n"
     ]
    },
    {
     "name": "stdout",
     "output_type": "stream",
     "text": [
      "EXPLOIT\n"
     ]
    },
    {
     "name": "stderr",
     "output_type": "stream",
     "text": [
      "C:\\Users\\Utente\\AppData\\Local\\Temp\\ipykernel_17080\\778432112.py:193: RuntimeWarning:\n",
      "\n",
      "All-NaN slice encountered\n",
      "\n"
     ]
    },
    {
     "name": "stdout",
     "output_type": "stream",
     "text": [
      "EXPLOIT\n"
     ]
    },
    {
     "name": "stderr",
     "output_type": "stream",
     "text": [
      "C:\\Users\\Utente\\AppData\\Local\\Temp\\ipykernel_17080\\778432112.py:193: RuntimeWarning:\n",
      "\n",
      "All-NaN slice encountered\n",
      "\n"
     ]
    },
    {
     "name": "stdout",
     "output_type": "stream",
     "text": [
      "EXPLOIT\n"
     ]
    },
    {
     "name": "stderr",
     "output_type": "stream",
     "text": [
      "C:\\Users\\Utente\\AppData\\Local\\Temp\\ipykernel_17080\\778432112.py:193: RuntimeWarning:\n",
      "\n",
      "All-NaN slice encountered\n",
      "\n"
     ]
    },
    {
     "name": "stdout",
     "output_type": "stream",
     "text": [
      "EXPLOIT\n"
     ]
    },
    {
     "name": "stderr",
     "output_type": "stream",
     "text": [
      "C:\\Users\\Utente\\AppData\\Local\\Temp\\ipykernel_17080\\778432112.py:193: RuntimeWarning:\n",
      "\n",
      "All-NaN slice encountered\n",
      "\n"
     ]
    },
    {
     "name": "stdout",
     "output_type": "stream",
     "text": [
      "EXPLOIT\n"
     ]
    },
    {
     "name": "stderr",
     "output_type": "stream",
     "text": [
      "C:\\Users\\Utente\\AppData\\Local\\Temp\\ipykernel_17080\\778432112.py:193: RuntimeWarning:\n",
      "\n",
      "All-NaN slice encountered\n",
      "\n"
     ]
    },
    {
     "name": "stdout",
     "output_type": "stream",
     "text": [
      "EXPLOIT\n",
      "EXPLOIT\n",
      "EXPLOIT\n",
      "EXPLOIT\n",
      "EXPLOIT\n",
      "EXPLOIT\n",
      "EXPLOIT\n",
      "EXPLOIT\n",
      "EXPLOIT\n",
      "EXPLOIT\n",
      "EXPLOIT\n",
      "EXPLOIT\n",
      "EXPLOIT\n",
      "EXPLOIT\n",
      "EXPLOIT\n",
      "EXPLOIT\n",
      "EXPLOIT\n",
      "EXPLOIT\n",
      "EXPLOIT\n",
      "Simulation finished\n",
      "Final Reward: -5723.287539339596\n",
      "Model saved to dqn_model.pth\n",
      "Operazione completata\n",
      "Model saved correctly\n",
      "Model loaded from dqn_model.pth\n",
      "EXPLOIT\n"
     ]
    },
    {
     "name": "stderr",
     "output_type": "stream",
     "text": [
      "C:\\Users\\Utente\\AppData\\Local\\Temp\\ipykernel_17080\\778432112.py:193: RuntimeWarning:\n",
      "\n",
      "All-NaN slice encountered\n",
      "\n"
     ]
    },
    {
     "name": "stdout",
     "output_type": "stream",
     "text": [
      "EXPLOIT\n"
     ]
    },
    {
     "name": "stderr",
     "output_type": "stream",
     "text": [
      "C:\\Users\\Utente\\AppData\\Local\\Temp\\ipykernel_17080\\778432112.py:193: RuntimeWarning:\n",
      "\n",
      "All-NaN slice encountered\n",
      "\n"
     ]
    },
    {
     "name": "stdout",
     "output_type": "stream",
     "text": [
      "EXPLOIT\n"
     ]
    },
    {
     "name": "stderr",
     "output_type": "stream",
     "text": [
      "C:\\Users\\Utente\\AppData\\Local\\Temp\\ipykernel_17080\\778432112.py:193: RuntimeWarning:\n",
      "\n",
      "All-NaN slice encountered\n",
      "\n"
     ]
    },
    {
     "name": "stdout",
     "output_type": "stream",
     "text": [
      "EXPLOIT\n"
     ]
    },
    {
     "name": "stderr",
     "output_type": "stream",
     "text": [
      "C:\\Users\\Utente\\AppData\\Local\\Temp\\ipykernel_17080\\778432112.py:193: RuntimeWarning:\n",
      "\n",
      "All-NaN slice encountered\n",
      "\n"
     ]
    },
    {
     "name": "stdout",
     "output_type": "stream",
     "text": [
      "EXPLOIT\n"
     ]
    },
    {
     "name": "stderr",
     "output_type": "stream",
     "text": [
      "C:\\Users\\Utente\\AppData\\Local\\Temp\\ipykernel_17080\\778432112.py:193: RuntimeWarning:\n",
      "\n",
      "All-NaN slice encountered\n",
      "\n"
     ]
    },
    {
     "name": "stdout",
     "output_type": "stream",
     "text": [
      "EXPLOIT\n"
     ]
    },
    {
     "name": "stderr",
     "output_type": "stream",
     "text": [
      "C:\\Users\\Utente\\AppData\\Local\\Temp\\ipykernel_17080\\778432112.py:193: RuntimeWarning:\n",
      "\n",
      "All-NaN slice encountered\n",
      "\n"
     ]
    },
    {
     "name": "stdout",
     "output_type": "stream",
     "text": [
      "EXPLOIT\n"
     ]
    },
    {
     "name": "stderr",
     "output_type": "stream",
     "text": [
      "C:\\Users\\Utente\\AppData\\Local\\Temp\\ipykernel_17080\\778432112.py:193: RuntimeWarning:\n",
      "\n",
      "All-NaN slice encountered\n",
      "\n"
     ]
    },
    {
     "name": "stdout",
     "output_type": "stream",
     "text": [
      "EXPLOIT\n",
      "EXPLOIT\n",
      "EXPLOIT\n",
      "EXPLOIT\n",
      "EXPLOIT\n",
      "EXPLOIT\n",
      "EXPLOIT\n",
      "EXPLOIT\n",
      "EXPLOIT\n",
      "EXPLOIT\n",
      "EXPLOIT\n",
      "EXPLOIT\n",
      "EXPLOIT\n",
      "EXPLOIT\n",
      "EXPLOIT\n",
      "EXPLOIT\n",
      "EXPLOIT\n",
      "EXPLOIT\n",
      "EXPLOIT\n",
      "Simulation finished\n",
      "Final Reward: -5521.039868709358\n",
      "Model saved to dqn_model.pth\n",
      "Operazione completata\n",
      "Model saved correctly\n",
      "Model loaded from dqn_model.pth\n",
      "EXPLOIT\n"
     ]
    },
    {
     "name": "stderr",
     "output_type": "stream",
     "text": [
      "C:\\Users\\Utente\\AppData\\Local\\Temp\\ipykernel_17080\\778432112.py:193: RuntimeWarning:\n",
      "\n",
      "All-NaN slice encountered\n",
      "\n"
     ]
    },
    {
     "name": "stdout",
     "output_type": "stream",
     "text": [
      "EXPLOIT\n"
     ]
    },
    {
     "name": "stderr",
     "output_type": "stream",
     "text": [
      "C:\\Users\\Utente\\AppData\\Local\\Temp\\ipykernel_17080\\778432112.py:193: RuntimeWarning:\n",
      "\n",
      "All-NaN slice encountered\n",
      "\n"
     ]
    },
    {
     "name": "stdout",
     "output_type": "stream",
     "text": [
      "EXPLOIT\n"
     ]
    },
    {
     "name": "stderr",
     "output_type": "stream",
     "text": [
      "C:\\Users\\Utente\\AppData\\Local\\Temp\\ipykernel_17080\\778432112.py:193: RuntimeWarning:\n",
      "\n",
      "All-NaN slice encountered\n",
      "\n"
     ]
    },
    {
     "name": "stdout",
     "output_type": "stream",
     "text": [
      "EXPLOIT\n"
     ]
    },
    {
     "name": "stderr",
     "output_type": "stream",
     "text": [
      "C:\\Users\\Utente\\AppData\\Local\\Temp\\ipykernel_17080\\778432112.py:193: RuntimeWarning:\n",
      "\n",
      "All-NaN slice encountered\n",
      "\n"
     ]
    },
    {
     "name": "stdout",
     "output_type": "stream",
     "text": [
      "EXPLOIT\n"
     ]
    },
    {
     "name": "stderr",
     "output_type": "stream",
     "text": [
      "C:\\Users\\Utente\\AppData\\Local\\Temp\\ipykernel_17080\\778432112.py:193: RuntimeWarning:\n",
      "\n",
      "All-NaN slice encountered\n",
      "\n"
     ]
    },
    {
     "name": "stdout",
     "output_type": "stream",
     "text": [
      "EXPLOIT\n"
     ]
    },
    {
     "name": "stderr",
     "output_type": "stream",
     "text": [
      "C:\\Users\\Utente\\AppData\\Local\\Temp\\ipykernel_17080\\778432112.py:193: RuntimeWarning:\n",
      "\n",
      "All-NaN slice encountered\n",
      "\n"
     ]
    },
    {
     "name": "stdout",
     "output_type": "stream",
     "text": [
      "EXPLOIT\n"
     ]
    },
    {
     "name": "stderr",
     "output_type": "stream",
     "text": [
      "C:\\Users\\Utente\\AppData\\Local\\Temp\\ipykernel_17080\\778432112.py:193: RuntimeWarning:\n",
      "\n",
      "All-NaN slice encountered\n",
      "\n"
     ]
    },
    {
     "name": "stdout",
     "output_type": "stream",
     "text": [
      "EXPLOIT\n",
      "EXPLOIT\n",
      "EXPLOIT\n",
      "EXPLOIT\n",
      "EXPLOIT\n",
      "EXPLOIT\n",
      "EXPLOIT\n",
      "EXPLOIT\n",
      "EXPLOIT\n",
      "EXPLOIT\n",
      "EXPLOIT\n",
      "EXPLOIT\n",
      "EXPLOIT\n",
      "EXPLOIT\n",
      "EXPLOIT\n",
      "EXPLOIT\n",
      "EXPLOIT\n",
      "EXPLOIT\n",
      "EXPLOIT\n",
      "EXPLOIT\n",
      "EXPLOIT\n",
      "EXPLOIT\n",
      "Simulation finished\n",
      "Final Reward: -7248.139850827763\n",
      "Model saved to dqn_model.pth\n",
      "Operazione completata\n",
      "Model saved correctly\n",
      "Model loaded from dqn_model.pth\n",
      "EXPLOIT\n"
     ]
    },
    {
     "name": "stderr",
     "output_type": "stream",
     "text": [
      "C:\\Users\\Utente\\AppData\\Local\\Temp\\ipykernel_17080\\778432112.py:193: RuntimeWarning:\n",
      "\n",
      "All-NaN slice encountered\n",
      "\n"
     ]
    },
    {
     "name": "stdout",
     "output_type": "stream",
     "text": [
      "EXPLOIT\n"
     ]
    },
    {
     "name": "stderr",
     "output_type": "stream",
     "text": [
      "C:\\Users\\Utente\\AppData\\Local\\Temp\\ipykernel_17080\\778432112.py:193: RuntimeWarning:\n",
      "\n",
      "All-NaN slice encountered\n",
      "\n"
     ]
    },
    {
     "name": "stdout",
     "output_type": "stream",
     "text": [
      "EXPLOIT\n"
     ]
    },
    {
     "name": "stderr",
     "output_type": "stream",
     "text": [
      "C:\\Users\\Utente\\AppData\\Local\\Temp\\ipykernel_17080\\778432112.py:193: RuntimeWarning:\n",
      "\n",
      "All-NaN slice encountered\n",
      "\n"
     ]
    },
    {
     "name": "stdout",
     "output_type": "stream",
     "text": [
      "EXPLOIT\n"
     ]
    },
    {
     "name": "stderr",
     "output_type": "stream",
     "text": [
      "C:\\Users\\Utente\\AppData\\Local\\Temp\\ipykernel_17080\\778432112.py:193: RuntimeWarning:\n",
      "\n",
      "All-NaN slice encountered\n",
      "\n"
     ]
    },
    {
     "name": "stdout",
     "output_type": "stream",
     "text": [
      "EXPLOIT\n"
     ]
    },
    {
     "name": "stderr",
     "output_type": "stream",
     "text": [
      "C:\\Users\\Utente\\AppData\\Local\\Temp\\ipykernel_17080\\778432112.py:193: RuntimeWarning:\n",
      "\n",
      "All-NaN slice encountered\n",
      "\n"
     ]
    },
    {
     "name": "stdout",
     "output_type": "stream",
     "text": [
      "EXPLOIT\n"
     ]
    },
    {
     "name": "stderr",
     "output_type": "stream",
     "text": [
      "C:\\Users\\Utente\\AppData\\Local\\Temp\\ipykernel_17080\\778432112.py:193: RuntimeWarning:\n",
      "\n",
      "All-NaN slice encountered\n",
      "\n"
     ]
    },
    {
     "name": "stdout",
     "output_type": "stream",
     "text": [
      "EXPLOIT\n"
     ]
    },
    {
     "name": "stderr",
     "output_type": "stream",
     "text": [
      "C:\\Users\\Utente\\AppData\\Local\\Temp\\ipykernel_17080\\778432112.py:193: RuntimeWarning:\n",
      "\n",
      "All-NaN slice encountered\n",
      "\n"
     ]
    },
    {
     "name": "stdout",
     "output_type": "stream",
     "text": [
      "EXPLOIT\n",
      "EXPLOIT\n",
      "EXPLOIT\n",
      "EXPLOIT\n",
      "EXPLOIT\n",
      "EXPLOIT\n",
      "EXPLOIT\n",
      "EXPLOIT\n",
      "EXPLOIT\n",
      "EXPLOIT\n",
      "EXPLOIT\n",
      "EXPLOIT\n",
      "EXPLOIT\n",
      "EXPLOIT\n",
      "EXPLOIT\n",
      "EXPLOIT\n",
      "EXPLOIT\n",
      "EXPLOIT\n",
      "Simulation finished\n",
      "Final Reward: -5153.078653230168\n",
      "Model saved to dqn_model.pth\n",
      "Operazione completata\n",
      "Model saved correctly\n",
      "Model loaded from dqn_model.pth\n",
      "EXPLOIT\n"
     ]
    },
    {
     "name": "stderr",
     "output_type": "stream",
     "text": [
      "C:\\Users\\Utente\\AppData\\Local\\Temp\\ipykernel_17080\\778432112.py:193: RuntimeWarning:\n",
      "\n",
      "All-NaN slice encountered\n",
      "\n"
     ]
    },
    {
     "name": "stdout",
     "output_type": "stream",
     "text": [
      "EXPLOIT\n"
     ]
    },
    {
     "name": "stderr",
     "output_type": "stream",
     "text": [
      "C:\\Users\\Utente\\AppData\\Local\\Temp\\ipykernel_17080\\778432112.py:193: RuntimeWarning:\n",
      "\n",
      "All-NaN slice encountered\n",
      "\n"
     ]
    },
    {
     "name": "stdout",
     "output_type": "stream",
     "text": [
      "EXPLOIT\n"
     ]
    },
    {
     "name": "stderr",
     "output_type": "stream",
     "text": [
      "C:\\Users\\Utente\\AppData\\Local\\Temp\\ipykernel_17080\\778432112.py:193: RuntimeWarning:\n",
      "\n",
      "All-NaN slice encountered\n",
      "\n"
     ]
    },
    {
     "name": "stdout",
     "output_type": "stream",
     "text": [
      "EXPLOIT\n"
     ]
    },
    {
     "name": "stderr",
     "output_type": "stream",
     "text": [
      "C:\\Users\\Utente\\AppData\\Local\\Temp\\ipykernel_17080\\778432112.py:193: RuntimeWarning:\n",
      "\n",
      "All-NaN slice encountered\n",
      "\n"
     ]
    },
    {
     "name": "stdout",
     "output_type": "stream",
     "text": [
      "EXPLOIT\n"
     ]
    },
    {
     "name": "stderr",
     "output_type": "stream",
     "text": [
      "C:\\Users\\Utente\\AppData\\Local\\Temp\\ipykernel_17080\\778432112.py:193: RuntimeWarning:\n",
      "\n",
      "All-NaN slice encountered\n",
      "\n"
     ]
    },
    {
     "name": "stdout",
     "output_type": "stream",
     "text": [
      "EXPLOIT\n"
     ]
    },
    {
     "name": "stderr",
     "output_type": "stream",
     "text": [
      "C:\\Users\\Utente\\AppData\\Local\\Temp\\ipykernel_17080\\778432112.py:193: RuntimeWarning:\n",
      "\n",
      "All-NaN slice encountered\n",
      "\n"
     ]
    },
    {
     "name": "stdout",
     "output_type": "stream",
     "text": [
      "EXPLOIT\n"
     ]
    },
    {
     "name": "stderr",
     "output_type": "stream",
     "text": [
      "C:\\Users\\Utente\\AppData\\Local\\Temp\\ipykernel_17080\\778432112.py:193: RuntimeWarning:\n",
      "\n",
      "All-NaN slice encountered\n",
      "\n"
     ]
    },
    {
     "name": "stdout",
     "output_type": "stream",
     "text": [
      "EXPLOIT\n",
      "EXPLOIT\n",
      "EXPLOIT\n",
      "EXPLOIT\n",
      "EXPLOIT\n",
      "EXPLOIT\n",
      "EXPLOIT\n",
      "EXPLOIT\n",
      "EXPLOIT\n",
      "EXPLOIT\n",
      "EXPLOIT\n",
      "EXPLOIT\n",
      "EXPLOIT\n",
      "EXPLOIT\n",
      "EXPLOIT\n",
      "EXPLOIT\n",
      "EXPLOIT\n",
      "EXPLOIT\n",
      "EXPLOIT\n",
      "Simulation finished\n",
      "Final Reward: -5574.751481219069\n",
      "Model saved to dqn_model.pth\n",
      "Operazione completata\n",
      "Model saved correctly\n",
      "Model loaded from dqn_model.pth\n",
      "EXPLOIT\n"
     ]
    },
    {
     "name": "stderr",
     "output_type": "stream",
     "text": [
      "C:\\Users\\Utente\\AppData\\Local\\Temp\\ipykernel_17080\\778432112.py:193: RuntimeWarning:\n",
      "\n",
      "All-NaN slice encountered\n",
      "\n"
     ]
    },
    {
     "name": "stdout",
     "output_type": "stream",
     "text": [
      "EXPLOIT\n"
     ]
    },
    {
     "name": "stderr",
     "output_type": "stream",
     "text": [
      "C:\\Users\\Utente\\AppData\\Local\\Temp\\ipykernel_17080\\778432112.py:193: RuntimeWarning:\n",
      "\n",
      "All-NaN slice encountered\n",
      "\n"
     ]
    },
    {
     "name": "stdout",
     "output_type": "stream",
     "text": [
      "EXPLOIT\n"
     ]
    },
    {
     "name": "stderr",
     "output_type": "stream",
     "text": [
      "C:\\Users\\Utente\\AppData\\Local\\Temp\\ipykernel_17080\\778432112.py:193: RuntimeWarning:\n",
      "\n",
      "All-NaN slice encountered\n",
      "\n"
     ]
    },
    {
     "name": "stdout",
     "output_type": "stream",
     "text": [
      "EXPLOIT\n"
     ]
    },
    {
     "name": "stderr",
     "output_type": "stream",
     "text": [
      "C:\\Users\\Utente\\AppData\\Local\\Temp\\ipykernel_17080\\778432112.py:193: RuntimeWarning:\n",
      "\n",
      "All-NaN slice encountered\n",
      "\n"
     ]
    },
    {
     "name": "stdout",
     "output_type": "stream",
     "text": [
      "EXPLOIT\n"
     ]
    },
    {
     "name": "stderr",
     "output_type": "stream",
     "text": [
      "C:\\Users\\Utente\\AppData\\Local\\Temp\\ipykernel_17080\\778432112.py:193: RuntimeWarning:\n",
      "\n",
      "All-NaN slice encountered\n",
      "\n"
     ]
    },
    {
     "name": "stdout",
     "output_type": "stream",
     "text": [
      "EXPLOIT\n"
     ]
    },
    {
     "name": "stderr",
     "output_type": "stream",
     "text": [
      "C:\\Users\\Utente\\AppData\\Local\\Temp\\ipykernel_17080\\778432112.py:193: RuntimeWarning:\n",
      "\n",
      "All-NaN slice encountered\n",
      "\n"
     ]
    },
    {
     "name": "stdout",
     "output_type": "stream",
     "text": [
      "EXPLOIT\n"
     ]
    },
    {
     "name": "stderr",
     "output_type": "stream",
     "text": [
      "C:\\Users\\Utente\\AppData\\Local\\Temp\\ipykernel_17080\\778432112.py:193: RuntimeWarning:\n",
      "\n",
      "All-NaN slice encountered\n",
      "\n"
     ]
    },
    {
     "name": "stdout",
     "output_type": "stream",
     "text": [
      "EXPLOIT\n",
      "EXPLOIT\n",
      "EXPLOIT\n",
      "EXPLOIT\n",
      "EXPLOIT\n",
      "EXPLOIT\n",
      "EXPLOIT\n",
      "EXPLOIT\n",
      "EXPLOIT\n",
      "EXPLOIT\n",
      "EXPLOIT\n",
      "EXPLOIT\n",
      "EXPLOIT\n",
      "EXPLOIT\n",
      "EXPLOIT\n",
      "EXPLOIT\n",
      "EXPLOIT\n",
      "EXPLOIT\n",
      "Simulation finished\n",
      "Final Reward: -5319.36127111947\n",
      "Model saved to dqn_model.pth\n",
      "Operazione completata\n",
      "Model saved correctly\n",
      "Model loaded from dqn_model.pth\n",
      "EXPLOIT\n"
     ]
    },
    {
     "name": "stderr",
     "output_type": "stream",
     "text": [
      "C:\\Users\\Utente\\AppData\\Local\\Temp\\ipykernel_17080\\778432112.py:193: RuntimeWarning:\n",
      "\n",
      "All-NaN slice encountered\n",
      "\n"
     ]
    },
    {
     "name": "stdout",
     "output_type": "stream",
     "text": [
      "EXPLOIT\n"
     ]
    },
    {
     "name": "stderr",
     "output_type": "stream",
     "text": [
      "C:\\Users\\Utente\\AppData\\Local\\Temp\\ipykernel_17080\\778432112.py:193: RuntimeWarning:\n",
      "\n",
      "All-NaN slice encountered\n",
      "\n"
     ]
    },
    {
     "name": "stdout",
     "output_type": "stream",
     "text": [
      "EXPLOIT\n"
     ]
    },
    {
     "name": "stderr",
     "output_type": "stream",
     "text": [
      "C:\\Users\\Utente\\AppData\\Local\\Temp\\ipykernel_17080\\778432112.py:193: RuntimeWarning:\n",
      "\n",
      "All-NaN slice encountered\n",
      "\n"
     ]
    },
    {
     "name": "stdout",
     "output_type": "stream",
     "text": [
      "EXPLOIT\n"
     ]
    },
    {
     "name": "stderr",
     "output_type": "stream",
     "text": [
      "C:\\Users\\Utente\\AppData\\Local\\Temp\\ipykernel_17080\\778432112.py:193: RuntimeWarning:\n",
      "\n",
      "All-NaN slice encountered\n",
      "\n"
     ]
    },
    {
     "name": "stdout",
     "output_type": "stream",
     "text": [
      "EXPLOIT\n"
     ]
    },
    {
     "name": "stderr",
     "output_type": "stream",
     "text": [
      "C:\\Users\\Utente\\AppData\\Local\\Temp\\ipykernel_17080\\778432112.py:193: RuntimeWarning:\n",
      "\n",
      "All-NaN slice encountered\n",
      "\n"
     ]
    },
    {
     "name": "stdout",
     "output_type": "stream",
     "text": [
      "EXPLOIT\n"
     ]
    },
    {
     "name": "stderr",
     "output_type": "stream",
     "text": [
      "C:\\Users\\Utente\\AppData\\Local\\Temp\\ipykernel_17080\\778432112.py:193: RuntimeWarning:\n",
      "\n",
      "All-NaN slice encountered\n",
      "\n"
     ]
    },
    {
     "name": "stdout",
     "output_type": "stream",
     "text": [
      "EXPLOIT\n"
     ]
    },
    {
     "name": "stderr",
     "output_type": "stream",
     "text": [
      "C:\\Users\\Utente\\AppData\\Local\\Temp\\ipykernel_17080\\778432112.py:193: RuntimeWarning:\n",
      "\n",
      "All-NaN slice encountered\n",
      "\n"
     ]
    },
    {
     "name": "stdout",
     "output_type": "stream",
     "text": [
      "EXPLOIT\n",
      "EXPLOIT\n",
      "EXPLOIT\n",
      "EXPLOIT\n",
      "EXPLOIT\n",
      "EXPLOIT\n",
      "EXPLOIT\n",
      "EXPLOIT\n",
      "EXPLOIT\n",
      "EXPLOIT\n",
      "EXPLOIT\n",
      "EXPLOIT\n",
      "EXPLOIT\n",
      "EXPLOIT\n",
      "EXPLOIT\n",
      "EXPLOIT\n",
      "EXPLOIT\n",
      "EXPLOIT\n",
      "EXPLOIT\n",
      "EXPLOIT\n",
      "EXPLOIT\n",
      "EXPLOIT\n",
      "Simulation finished\n",
      "Final Reward: -7491.602995849609\n",
      "Model saved to dqn_model.pth\n",
      "Operazione completata\n",
      "Model saved correctly\n",
      "Model loaded from dqn_model.pth\n",
      "EXPLOIT\n"
     ]
    },
    {
     "name": "stderr",
     "output_type": "stream",
     "text": [
      "C:\\Users\\Utente\\AppData\\Local\\Temp\\ipykernel_17080\\778432112.py:193: RuntimeWarning:\n",
      "\n",
      "All-NaN slice encountered\n",
      "\n"
     ]
    },
    {
     "name": "stdout",
     "output_type": "stream",
     "text": [
      "EXPLOIT\n"
     ]
    },
    {
     "name": "stderr",
     "output_type": "stream",
     "text": [
      "C:\\Users\\Utente\\AppData\\Local\\Temp\\ipykernel_17080\\778432112.py:193: RuntimeWarning:\n",
      "\n",
      "All-NaN slice encountered\n",
      "\n"
     ]
    },
    {
     "name": "stdout",
     "output_type": "stream",
     "text": [
      "EXPLOIT\n"
     ]
    },
    {
     "name": "stderr",
     "output_type": "stream",
     "text": [
      "C:\\Users\\Utente\\AppData\\Local\\Temp\\ipykernel_17080\\778432112.py:193: RuntimeWarning:\n",
      "\n",
      "All-NaN slice encountered\n",
      "\n"
     ]
    },
    {
     "name": "stdout",
     "output_type": "stream",
     "text": [
      "EXPLOIT\n"
     ]
    },
    {
     "name": "stderr",
     "output_type": "stream",
     "text": [
      "C:\\Users\\Utente\\AppData\\Local\\Temp\\ipykernel_17080\\778432112.py:193: RuntimeWarning:\n",
      "\n",
      "All-NaN slice encountered\n",
      "\n"
     ]
    },
    {
     "name": "stdout",
     "output_type": "stream",
     "text": [
      "EXPLOIT\n"
     ]
    },
    {
     "name": "stderr",
     "output_type": "stream",
     "text": [
      "C:\\Users\\Utente\\AppData\\Local\\Temp\\ipykernel_17080\\778432112.py:193: RuntimeWarning:\n",
      "\n",
      "All-NaN slice encountered\n",
      "\n"
     ]
    },
    {
     "name": "stdout",
     "output_type": "stream",
     "text": [
      "EXPLOIT\n"
     ]
    },
    {
     "name": "stderr",
     "output_type": "stream",
     "text": [
      "C:\\Users\\Utente\\AppData\\Local\\Temp\\ipykernel_17080\\778432112.py:193: RuntimeWarning:\n",
      "\n",
      "All-NaN slice encountered\n",
      "\n"
     ]
    },
    {
     "name": "stdout",
     "output_type": "stream",
     "text": [
      "EXPLOIT\n"
     ]
    },
    {
     "name": "stderr",
     "output_type": "stream",
     "text": [
      "C:\\Users\\Utente\\AppData\\Local\\Temp\\ipykernel_17080\\778432112.py:193: RuntimeWarning:\n",
      "\n",
      "All-NaN slice encountered\n",
      "\n"
     ]
    },
    {
     "name": "stdout",
     "output_type": "stream",
     "text": [
      "EXPLOIT\n",
      "EXPLOIT\n",
      "EXPLOIT\n",
      "EXPLOIT\n",
      "EXPLOIT\n",
      "EXPLOIT\n",
      "EXPLOIT\n",
      "EXPLOIT\n",
      "EXPLOIT\n",
      "EXPLOIT\n",
      "EXPLOIT\n",
      "EXPLOIT\n",
      "EXPLOIT\n",
      "EXPLOIT\n",
      "EXPLOIT\n",
      "EXPLOIT\n",
      "EXPLOIT\n",
      "EXPLOIT\n",
      "EXPLOIT\n",
      "EXPLOIT\n",
      "Simulation finished\n",
      "Final Reward: -6185.0308838580095\n",
      "Model saved to dqn_model.pth\n",
      "Operazione completata\n",
      "Model saved correctly\n",
      "Model loaded from dqn_model.pth\n",
      "EXPLOIT\n"
     ]
    },
    {
     "name": "stderr",
     "output_type": "stream",
     "text": [
      "C:\\Users\\Utente\\AppData\\Local\\Temp\\ipykernel_17080\\778432112.py:193: RuntimeWarning:\n",
      "\n",
      "All-NaN slice encountered\n",
      "\n"
     ]
    },
    {
     "name": "stdout",
     "output_type": "stream",
     "text": [
      "EXPLOIT\n"
     ]
    },
    {
     "name": "stderr",
     "output_type": "stream",
     "text": [
      "C:\\Users\\Utente\\AppData\\Local\\Temp\\ipykernel_17080\\778432112.py:193: RuntimeWarning:\n",
      "\n",
      "All-NaN slice encountered\n",
      "\n"
     ]
    },
    {
     "name": "stdout",
     "output_type": "stream",
     "text": [
      "EXPLOIT\n"
     ]
    },
    {
     "name": "stderr",
     "output_type": "stream",
     "text": [
      "C:\\Users\\Utente\\AppData\\Local\\Temp\\ipykernel_17080\\778432112.py:193: RuntimeWarning:\n",
      "\n",
      "All-NaN slice encountered\n",
      "\n"
     ]
    },
    {
     "name": "stdout",
     "output_type": "stream",
     "text": [
      "EXPLOIT\n"
     ]
    },
    {
     "name": "stderr",
     "output_type": "stream",
     "text": [
      "C:\\Users\\Utente\\AppData\\Local\\Temp\\ipykernel_17080\\778432112.py:193: RuntimeWarning:\n",
      "\n",
      "All-NaN slice encountered\n",
      "\n"
     ]
    },
    {
     "name": "stdout",
     "output_type": "stream",
     "text": [
      "EXPLOIT\n"
     ]
    },
    {
     "name": "stderr",
     "output_type": "stream",
     "text": [
      "C:\\Users\\Utente\\AppData\\Local\\Temp\\ipykernel_17080\\778432112.py:193: RuntimeWarning:\n",
      "\n",
      "All-NaN slice encountered\n",
      "\n"
     ]
    },
    {
     "name": "stdout",
     "output_type": "stream",
     "text": [
      "EXPLOIT\n"
     ]
    },
    {
     "name": "stderr",
     "output_type": "stream",
     "text": [
      "C:\\Users\\Utente\\AppData\\Local\\Temp\\ipykernel_17080\\778432112.py:193: RuntimeWarning:\n",
      "\n",
      "All-NaN slice encountered\n",
      "\n"
     ]
    },
    {
     "name": "stdout",
     "output_type": "stream",
     "text": [
      "EXPLOIT\n"
     ]
    },
    {
     "name": "stderr",
     "output_type": "stream",
     "text": [
      "C:\\Users\\Utente\\AppData\\Local\\Temp\\ipykernel_17080\\778432112.py:193: RuntimeWarning:\n",
      "\n",
      "All-NaN slice encountered\n",
      "\n"
     ]
    },
    {
     "name": "stdout",
     "output_type": "stream",
     "text": [
      "EXPLOIT\n",
      "EXPLOIT\n",
      "EXPLOIT\n",
      "EXPLOIT\n",
      "EXPLOIT\n",
      "EXPLOIT\n",
      "EXPLOIT\n",
      "EXPLOIT\n",
      "EXPLOIT\n",
      "EXPLOIT\n",
      "EXPLOIT\n",
      "EXPLOIT\n",
      "EXPLOIT\n",
      "EXPLOIT\n",
      "EXPLOIT\n",
      "EXPLOIT\n",
      "EXPLOIT\n",
      "EXPLOIT\n",
      "EXPLOIT\n",
      "EXPLOIT\n",
      "EXPLOIT\n",
      "EXPLOIT\n",
      "Simulation finished\n",
      "Final Reward: -7199.517933775551\n",
      "Model saved to dqn_model.pth\n",
      "Operazione completata\n",
      "Model saved correctly\n",
      "Model loaded from dqn_model.pth\n",
      "EXPLOIT\n"
     ]
    },
    {
     "name": "stderr",
     "output_type": "stream",
     "text": [
      "C:\\Users\\Utente\\AppData\\Local\\Temp\\ipykernel_17080\\778432112.py:193: RuntimeWarning:\n",
      "\n",
      "All-NaN slice encountered\n",
      "\n"
     ]
    },
    {
     "name": "stdout",
     "output_type": "stream",
     "text": [
      "EXPLOIT\n"
     ]
    },
    {
     "name": "stderr",
     "output_type": "stream",
     "text": [
      "C:\\Users\\Utente\\AppData\\Local\\Temp\\ipykernel_17080\\778432112.py:193: RuntimeWarning:\n",
      "\n",
      "All-NaN slice encountered\n",
      "\n"
     ]
    },
    {
     "name": "stdout",
     "output_type": "stream",
     "text": [
      "EXPLOIT\n"
     ]
    },
    {
     "name": "stderr",
     "output_type": "stream",
     "text": [
      "C:\\Users\\Utente\\AppData\\Local\\Temp\\ipykernel_17080\\778432112.py:193: RuntimeWarning:\n",
      "\n",
      "All-NaN slice encountered\n",
      "\n"
     ]
    },
    {
     "name": "stdout",
     "output_type": "stream",
     "text": [
      "EXPLOIT\n"
     ]
    },
    {
     "name": "stderr",
     "output_type": "stream",
     "text": [
      "C:\\Users\\Utente\\AppData\\Local\\Temp\\ipykernel_17080\\778432112.py:193: RuntimeWarning:\n",
      "\n",
      "All-NaN slice encountered\n",
      "\n"
     ]
    },
    {
     "name": "stdout",
     "output_type": "stream",
     "text": [
      "EXPLOIT\n"
     ]
    },
    {
     "name": "stderr",
     "output_type": "stream",
     "text": [
      "C:\\Users\\Utente\\AppData\\Local\\Temp\\ipykernel_17080\\778432112.py:193: RuntimeWarning:\n",
      "\n",
      "All-NaN slice encountered\n",
      "\n"
     ]
    },
    {
     "name": "stdout",
     "output_type": "stream",
     "text": [
      "EXPLOIT\n"
     ]
    },
    {
     "name": "stderr",
     "output_type": "stream",
     "text": [
      "C:\\Users\\Utente\\AppData\\Local\\Temp\\ipykernel_17080\\778432112.py:193: RuntimeWarning:\n",
      "\n",
      "All-NaN slice encountered\n",
      "\n"
     ]
    },
    {
     "name": "stdout",
     "output_type": "stream",
     "text": [
      "EXPLOIT\n"
     ]
    },
    {
     "name": "stderr",
     "output_type": "stream",
     "text": [
      "C:\\Users\\Utente\\AppData\\Local\\Temp\\ipykernel_17080\\778432112.py:193: RuntimeWarning:\n",
      "\n",
      "All-NaN slice encountered\n",
      "\n"
     ]
    },
    {
     "name": "stdout",
     "output_type": "stream",
     "text": [
      "EXPLOIT\n",
      "EXPLOIT\n",
      "EXPLOIT\n",
      "EXPLOIT\n",
      "EXPLOIT\n",
      "EXPLOIT\n",
      "EXPLOIT\n",
      "EXPLOIT\n",
      "EXPLOIT\n",
      "EXPLOIT\n",
      "EXPLOIT\n",
      "EXPLOIT\n",
      "EXPLOIT\n",
      "EXPLOIT\n",
      "EXPLOIT\n",
      "EXPLOIT\n",
      "EXPLOIT\n",
      "EXPLOIT\n",
      "EXPLOIT\n",
      "EXPLOIT\n",
      "EXPLOIT\n",
      "EXPLOIT\n",
      "Simulation finished\n",
      "Final Reward: -7192.225031142166\n"
     ]
    },
    {
     "ename": "MemoryError",
     "evalue": "",
     "output_type": "error",
     "traceback": [
      "\u001b[1;31m---------------------------------------------------------------------------\u001b[0m",
      "\u001b[1;31mMemoryError\u001b[0m                               Traceback (most recent call last)",
      "Cell \u001b[1;32mIn[55], line 19\u001b[0m\n\u001b[0;32m     17\u001b[0m \u001b[38;5;28;01mif\u001b[39;00m i \u001b[38;5;241m>\u001b[39m \u001b[38;5;241m0\u001b[39m:\n\u001b[0;32m     18\u001b[0m     \u001b[38;5;28;01massert\u001b[39;00m lab\u001b[38;5;241m.\u001b[39mgate\u001b[38;5;241m.\u001b[39mdqn_agent\u001b[38;5;241m.\u001b[39mmodel \u001b[38;5;129;01mis\u001b[39;00m \u001b[38;5;129;01mnot\u001b[39;00m \u001b[38;5;28;01mNone\u001b[39;00m, \u001b[38;5;124m\"\u001b[39m\u001b[38;5;124mModel not loaded correctly\u001b[39m\u001b[38;5;124m\"\u001b[39m\n\u001b[1;32m---> 19\u001b[0m \u001b[43mlab\u001b[49m\u001b[38;5;241;43m.\u001b[39;49m\u001b[43mrun\u001b[49m\u001b[43m(\u001b[49m\u001b[38;5;241;43m600\u001b[39;49m\u001b[43m)\u001b[49m\n\u001b[0;32m     21\u001b[0m df \u001b[38;5;241m=\u001b[39m pd\u001b[38;5;241m.\u001b[39mDataFrame(lab\u001b[38;5;241m.\u001b[39menv\u001b[38;5;241m.\u001b[39mstate_log, columns\u001b[38;5;241m=\u001b[39m[\u001b[38;5;124m\"\u001b[39m\u001b[38;5;124mResource\u001b[39m\u001b[38;5;124m\"\u001b[39m,\u001b[38;5;124m\"\u001b[39m\u001b[38;5;124mResourceName\u001b[39m\u001b[38;5;124m\"\u001b[39m,\u001b[38;5;124m\"\u001b[39m\u001b[38;5;124mState\u001b[39m\u001b[38;5;124m\"\u001b[39m,\u001b[38;5;124m\"\u001b[39m\u001b[38;5;124mStateName\u001b[39m\u001b[38;5;124m\"\u001b[39m,\u001b[38;5;124m\"\u001b[39m\u001b[38;5;124mEntity\u001b[39m\u001b[38;5;124m\"\u001b[39m,\u001b[38;5;124m\"\u001b[39m\u001b[38;5;124m?\u001b[39m\u001b[38;5;124m\"\u001b[39m,\u001b[38;5;124m\"\u001b[39m\u001b[38;5;124mtimeIn\u001b[39m\u001b[38;5;124m\"\u001b[39m,\u001b[38;5;124m\"\u001b[39m\u001b[38;5;124mtimeOut\u001b[39m\u001b[38;5;124m\"\u001b[39m])\n\u001b[0;32m     22\u001b[0m df\u001b[38;5;241m=\u001b[39m df\u001b[38;5;241m.\u001b[39mloc[df\u001b[38;5;241m.\u001b[39mResourceName\u001b[38;5;241m.\u001b[39misin([\u001b[38;5;124m\"\u001b[39m\u001b[38;5;124mfront\u001b[39m\u001b[38;5;124m\"\u001b[39m,\u001b[38;5;124m\"\u001b[39m\u001b[38;5;124mdrill\u001b[39m\u001b[38;5;124m\"\u001b[39m,\u001b[38;5;124m\"\u001b[39m\u001b[38;5;124mrobot\u001b[39m\u001b[38;5;124m\"\u001b[39m,\u001b[38;5;124m\"\u001b[39m\u001b[38;5;124mcamera\u001b[39m\u001b[38;5;124m\"\u001b[39m,\u001b[38;5;124m\"\u001b[39m\u001b[38;5;124mback\u001b[39m\u001b[38;5;124m\"\u001b[39m,\u001b[38;5;124m\"\u001b[39m\u001b[38;5;124mpress\u001b[39m\u001b[38;5;124m\"\u001b[39m,\u001b[38;5;124m\"\u001b[39m\u001b[38;5;124mmanual\u001b[39m\u001b[38;5;124m\"\u001b[39m])]\n",
      "Cell \u001b[1;32mIn[52], line 894\u001b[0m, in \u001b[0;36mLab.run\u001b[1;34m(self, Tend)\u001b[0m\n\u001b[0;32m    892\u001b[0m \u001b[38;5;28;01mdef\u001b[39;00m \u001b[38;5;21mrun\u001b[39m(\u001b[38;5;28mself\u001b[39m,Tend):\n\u001b[0;32m    893\u001b[0m     \u001b[38;5;28mself\u001b[39m\u001b[38;5;241m.\u001b[39menv\u001b[38;5;241m.\u001b[39mrun(Tend)\n\u001b[1;32m--> 894\u001b[0m     \u001b[38;5;28;01mif\u001b[39;00m \u001b[38;5;28;43mself\u001b[39;49m\u001b[38;5;241;43m.\u001b[39;49m\u001b[43mgate\u001b[49m\u001b[38;5;241;43m.\u001b[39;49m\u001b[43mdqn_agent\u001b[49m\u001b[38;5;241;43m.\u001b[39;49m\u001b[43misdone\u001b[49m\u001b[43m(\u001b[49m\u001b[38;5;28;43mself\u001b[39;49m\u001b[38;5;241;43m.\u001b[39;49m\u001b[43menv\u001b[49m\u001b[43m)\u001b[49m:\n\u001b[0;32m    895\u001b[0m         \u001b[38;5;28mprint\u001b[39m(\u001b[38;5;124m\"\u001b[39m\u001b[38;5;124mOperazione completata\u001b[39m\u001b[38;5;124m\"\u001b[39m)\n\u001b[0;32m    896\u001b[0m     \u001b[38;5;28;01melse\u001b[39;00m:\n",
      "Cell \u001b[1;32mIn[52], line 95\u001b[0m, in \u001b[0;36mDQNAgent.isdone\u001b[1;34m(self, env)\u001b[0m\n\u001b[0;32m     93\u001b[0m     final_reward \u001b[38;5;241m=\u001b[39m \u001b[38;5;28mself\u001b[39m\u001b[38;5;241m.\u001b[39mcalculate_final_reward()\n\u001b[0;32m     94\u001b[0m     \u001b[38;5;28mprint\u001b[39m(\u001b[38;5;124mf\u001b[39m\u001b[38;5;124m\"\u001b[39m\u001b[38;5;124mFinal Reward: \u001b[39m\u001b[38;5;132;01m{\u001b[39;00mfinal_reward\u001b[38;5;132;01m}\u001b[39;00m\u001b[38;5;124m\"\u001b[39m)\n\u001b[1;32m---> 95\u001b[0m     \u001b[38;5;28;43mself\u001b[39;49m\u001b[38;5;241;43m.\u001b[39;49m\u001b[43msave_model\u001b[49m\u001b[43m(\u001b[49m\u001b[43m)\u001b[49m\n\u001b[0;32m     96\u001b[0m     \u001b[38;5;28;01mreturn\u001b[39;00m \u001b[38;5;28;01mTrue\u001b[39;00m\n\u001b[0;32m     97\u001b[0m \u001b[38;5;28;01mreturn\u001b[39;00m \u001b[38;5;28;01mFalse\u001b[39;00m\n",
      "Cell \u001b[1;32mIn[52], line 51\u001b[0m, in \u001b[0;36mDQNAgent.save_model\u001b[1;34m(self)\u001b[0m\n\u001b[0;32m     50\u001b[0m \u001b[38;5;28;01mdef\u001b[39;00m \u001b[38;5;21msave_model\u001b[39m(\u001b[38;5;28mself\u001b[39m):\n\u001b[1;32m---> 51\u001b[0m         \u001b[43mtorch\u001b[49m\u001b[38;5;241;43m.\u001b[39;49m\u001b[43msave\u001b[49m\u001b[43m(\u001b[49m\u001b[43m{\u001b[49m\n\u001b[0;32m     52\u001b[0m \u001b[43m            \u001b[49m\u001b[38;5;124;43m'\u001b[39;49m\u001b[38;5;124;43mmodel_state_dict\u001b[39;49m\u001b[38;5;124;43m'\u001b[39;49m\u001b[43m:\u001b[49m\u001b[43m \u001b[49m\u001b[38;5;28;43mself\u001b[39;49m\u001b[38;5;241;43m.\u001b[39;49m\u001b[43mmodel\u001b[49m\u001b[38;5;241;43m.\u001b[39;49m\u001b[43mstate_dict\u001b[49m\u001b[43m(\u001b[49m\u001b[43m)\u001b[49m\u001b[43m,\u001b[49m\n\u001b[0;32m     53\u001b[0m \u001b[43m            \u001b[49m\u001b[38;5;124;43m'\u001b[39;49m\u001b[38;5;124;43moptimizer_state_dict\u001b[39;49m\u001b[38;5;124;43m'\u001b[39;49m\u001b[43m:\u001b[49m\u001b[43m \u001b[49m\u001b[38;5;28;43mself\u001b[39;49m\u001b[38;5;241;43m.\u001b[39;49m\u001b[43moptimizer\u001b[49m\u001b[38;5;241;43m.\u001b[39;49m\u001b[43mstate_dict\u001b[49m\u001b[43m(\u001b[49m\u001b[43m)\u001b[49m\u001b[43m,\u001b[49m\n\u001b[0;32m     54\u001b[0m \u001b[43m            \u001b[49m\u001b[38;5;124;43m'\u001b[39;49m\u001b[38;5;124;43mepsilon\u001b[39;49m\u001b[38;5;124;43m'\u001b[39;49m\u001b[43m:\u001b[49m\u001b[43m \u001b[49m\u001b[38;5;28;43mself\u001b[39;49m\u001b[38;5;241;43m.\u001b[39;49m\u001b[43mepsilon\u001b[49m\u001b[43m,\u001b[49m\n\u001b[0;32m     55\u001b[0m \u001b[43m            \u001b[49m\u001b[38;5;124;43m'\u001b[39;49m\u001b[38;5;124;43mmemory\u001b[39;49m\u001b[38;5;124;43m'\u001b[39;49m\u001b[43m:\u001b[49m\u001b[43m \u001b[49m\u001b[38;5;28;43mlist\u001b[39;49m\u001b[43m(\u001b[49m\u001b[38;5;28;43mself\u001b[39;49m\u001b[38;5;241;43m.\u001b[39;49m\u001b[43mmemory\u001b[49m\u001b[43m)\u001b[49m\u001b[43m  \u001b[49m\u001b[38;5;66;43;03m# Salva la memoria come lista\u001b[39;49;00m\n\u001b[0;32m     56\u001b[0m \u001b[43m        \u001b[49m\u001b[43m}\u001b[49m\u001b[43m,\u001b[49m\u001b[43m \u001b[49m\u001b[38;5;124;43m'\u001b[39;49m\u001b[38;5;124;43mdqn_model.pth\u001b[39;49m\u001b[38;5;124;43m'\u001b[39;49m\u001b[43m)\u001b[49m\n\u001b[0;32m     57\u001b[0m         \u001b[38;5;28mprint\u001b[39m(\u001b[38;5;124m\"\u001b[39m\u001b[38;5;124mModel saved to dqn_model.pth\u001b[39m\u001b[38;5;124m\"\u001b[39m)\n",
      "File \u001b[1;32mc:\\Users\\Utente\\GitHub\\hsim\\.venv\\Lib\\site-packages\\torch\\serialization.py:628\u001b[0m, in \u001b[0;36msave\u001b[1;34m(obj, f, pickle_module, pickle_protocol, _use_new_zipfile_serialization, _disable_byteorder_record)\u001b[0m\n\u001b[0;32m    626\u001b[0m \u001b[38;5;28;01mif\u001b[39;00m _use_new_zipfile_serialization:\n\u001b[0;32m    627\u001b[0m     \u001b[38;5;28;01mwith\u001b[39;00m _open_zipfile_writer(f) \u001b[38;5;28;01mas\u001b[39;00m opened_zipfile:\n\u001b[1;32m--> 628\u001b[0m         \u001b[43m_save\u001b[49m\u001b[43m(\u001b[49m\u001b[43mobj\u001b[49m\u001b[43m,\u001b[49m\u001b[43m \u001b[49m\u001b[43mopened_zipfile\u001b[49m\u001b[43m,\u001b[49m\u001b[43m \u001b[49m\u001b[43mpickle_module\u001b[49m\u001b[43m,\u001b[49m\u001b[43m \u001b[49m\u001b[43mpickle_protocol\u001b[49m\u001b[43m,\u001b[49m\u001b[43m \u001b[49m\u001b[43m_disable_byteorder_record\u001b[49m\u001b[43m)\u001b[49m\n\u001b[0;32m    629\u001b[0m         \u001b[38;5;28;01mreturn\u001b[39;00m\n\u001b[0;32m    630\u001b[0m \u001b[38;5;28;01melse\u001b[39;00m:\n",
      "File \u001b[1;32mc:\\Users\\Utente\\GitHub\\hsim\\.venv\\Lib\\site-packages\\torch\\serialization.py:840\u001b[0m, in \u001b[0;36m_save\u001b[1;34m(obj, zip_file, pickle_module, pickle_protocol, _disable_byteorder_record)\u001b[0m\n\u001b[0;32m    838\u001b[0m pickler \u001b[38;5;241m=\u001b[39m pickle_module\u001b[38;5;241m.\u001b[39mPickler(data_buf, protocol\u001b[38;5;241m=\u001b[39mpickle_protocol)\n\u001b[0;32m    839\u001b[0m pickler\u001b[38;5;241m.\u001b[39mpersistent_id \u001b[38;5;241m=\u001b[39m persistent_id\n\u001b[1;32m--> 840\u001b[0m pickler\u001b[38;5;241m.\u001b[39mdump(obj)\n\u001b[0;32m    841\u001b[0m data_value \u001b[38;5;241m=\u001b[39m data_buf\u001b[38;5;241m.\u001b[39mgetvalue()\n\u001b[0;32m    842\u001b[0m zip_file\u001b[38;5;241m.\u001b[39mwrite_record(\u001b[38;5;124m'\u001b[39m\u001b[38;5;124mdata.pkl\u001b[39m\u001b[38;5;124m'\u001b[39m, data_value, \u001b[38;5;28mlen\u001b[39m(data_value))\n",
      "\u001b[1;31mMemoryError\u001b[0m: "
     ]
    }
   ],
   "source": [
    "import warnings\n",
    "warnings.filterwarnings(\"ignore\", category=pd.errors.SettingWithCopyWarning)\n",
    "Entity.reset_id_counter()\n",
    "\n",
    "makespan=list(pd.read_excel('makespan.xlsx')['Makespan'])\n",
    "for i in range(107):\n",
    "    model_path = 'dqn_model.pth'\n",
    "    if i == 0:\n",
    "        if os.path.exists(model_path):\n",
    "            print(f\"Modello esistente trovato al ciclo {i}.\")\n",
    "                # os.remove(model_path)\n",
    "        else:\n",
    "            print(f\"Nessun modello esistente trovato al ciclo {i}. Inizio con un nuovo modello.\")     #     \n",
    "    s,b = batchCreate(0,numJobs=10,return_both=True)\n",
    "    lab=Lab(b,600)\n",
    "    lab.gate.Store.items=copy.copy(s)\n",
    "    if i > 0:\n",
    "        assert lab.gate.dqn_agent.model is not None, \"Model not loaded correctly\"\n",
    "    lab.run(600)\n",
    "\n",
    "    df = pd.DataFrame(lab.env.state_log, columns=[\"Resource\",\"ResourceName\",\"State\",\"StateName\",\"Entity\",\"?\",\"timeIn\",\"timeOut\"])\n",
    "    df= df.loc[df.ResourceName.isin([\"front\",\"drill\",\"robot\",\"camera\",\"back\",\"press\",\"manual\"])]\n",
    "    mks=df.timeOut.max()-df.timeIn.min()\n",
    "    makespan.append(mks)\n",
    "    \n",
    "    # Verifica che il modello sia stato salvato correttamente\n",
    "    try:\n",
    "        checkpoint = torch.load('dqn_model.pth')\n",
    "        assert 'model_state_dict' in checkpoint, \"Model state dict not found in checkpoint\"\n",
    "        print(\"Model saved correctly\")\n",
    "    except FileNotFoundError:\n",
    "        print(\"Model not saved correctly\")\n",
    "    \n",
    "mksdf = pd.DataFrame(makespan, columns=['Makespan'])\n",
    "mksdf.to_excel('makespan.xlsx')\n",
    "print(makespan)\n",
    "# Crea il grafico a linee\n",
    "plt.figure(figsize=(10, 6))\n",
    "plt.plot(makespan, marker='o', linestyle='-', color='b', label='Makespan')\n",
    "\n",
    "# Aggiungi etichette e titolo\n",
    "plt.xlabel('Iterazione')\n",
    "plt.ylabel('Makespan (secondi)')\n",
    "plt.title('Variazione del Makespan nel Tempo')\n",
    "plt.legend()\n",
    "\n",
    "# Mostra il grafico\n",
    "plt.grid(True)\n",
    "plt.show()\n",
    "\n"
   ]
  },
  {
   "cell_type": "code",
   "execution_count": 56,
   "metadata": {},
   "outputs": [
    {
     "name": "stdout",
     "output_type": "stream",
     "text": [
      "[598.3614842080416, 599.5780716074985, 599.8673905480115, 599.7893860823915, 597.0203796753689, 599.8263827220045, 598.1887755804646, 598.4733120944775, 599.9515779089784, 598.7474284411811, 597.3530923085501, 596.8984584174113, 599.4907483781526, 599.7584991440517, 597.2523770921604, 599.9799243222069, 598.8793105951773, 599.215686053068, 598.52, 597.1682799599525, 597.2398707110215, 598.5389605251075, 597.2939284210912, 598.6772774718758, 599.2998996569157, 595.8594288356234, 597.1151538326626, 599.7527289032763, 597.0403037229045, 599.8394081517786, 596.6567247627387, 599.3798870710893, 599.7566688825377, 595.454021016038, 598.5520901576682, 598.4516676865054, 599.328269292779, 596.9186088737412, 597.3829648153354, 599.1639796988377, 598.5516162620394, 599.3117376342282, 597.965394329175, 599.9486249077507, 599.5637167236728, 599.8216961081133, 595.3739535607249, 599.9492260536888, 598.9127957193032, 597.1011969997998, 599.807109176396, 597.9351718946402, 598.8734924918786, 599.5133969656887, 599.345367040011, 597.7021980440124, 598.3892253096221, 598.5967907570295, 599.5317114368462, 599.5777974317859, 599.9069879872841, 596.679284063823, 598.6900000000003, 599.4488461189579, 599.7535160049922, 598.7904021226401, 598.6449397447736, 599.2731988013145, 596.065444845856, 598.8630294175022, 599.2539245670573, 599.5021397601934, 596.8011940256475, 599.6279843247215, 597.8434811421062, 599.4141248081169, 597.787182498969, 598.2804327250291, 599.9155409797404, 598.5709502372255, 599.8774424606574, 599.0550765580206, 598.981787965208, 599.8799679030174, 599.827742467367, 599.7557514330107, 599.4941782751399, 598.5457549074505, 597.4375029600441, 598.3754205859724, 598.0687860608197, 596.6243019088024, 599.0942164344755, 597.4783929351199, 598.4218132381269, 599.4404615980395, 598.777916240109, 599.4014604107024, 594.6298007076563, 595.3267198699593, 599.9811507576787, 598.1542132752081, 599.3071715858541, 599.9571256630112, 598.9108002623116, 599.7833579287576, 599.8323347309687, 599.528618484658, 598.4844370031077, 599.681467586859, 599.8356746456205, 594.9774112964084, 599.2250651017298, 598.0176099806673, 597.5109455984114, 598.5652745131175, 597.722742102823, 599.9252886243092, 598.7371318202212, 599.6578099631462, 598.2853001877373, 599.6099999999999, 597.6050680950245, 599.4018297498708, 596.2337339404074, 598.4800000000001, 599.0391049376509, 599.7806801542152, 599.1067368475678, 598.932354692217, 598.7964030592459, 599.7821842936779, 598.7550662578258, 598.157588989969, 599.9927830221038, 599.09346689811, 596.7348660406952, 597.8321593683074, 598.1033968228408, 599.4142010773498, 596.796231064208, 598.6348812249913, 594.4852090967864, 599.8865403743555, 599.586605136222, 599.8070200108958, 598.7403677750667, 598.5020661553363, 599.113883229509, 599.6360438176608, 596.8679854767573, 596.1709757085886, 598.0163010824109, 599.6327253912864, 596.7457890642097, 596.8940212391703, 598.5989893279497, 599.52, 599.9029933890627, 599.7660668465369, 594.1838341909387, 599.7199451306772, 595.580813817614, 596.9249675162823, 598.885580376461, 597.331657020275, 598.7475040003948, 593.5481328388632, 597.8621467433184, 598.0919478203725, 598.0238728645514, 599.4596566931651, 599.1715644179554, 598.8607253670617, 599.5229832444719, 599.4651989417779, 598.3743157482921, 597.8037000509514, 599.7597990224314, 599.8335121859091, 599.8107251036179, 599.9893206469079, 598.9581103565527, 599.8742025837167, 599.2966007860374, 599.8303675914618, 598.9971056635237, 598.0666449666367, 597.5775920618142, 599.7488348974837, 599.8830526791099, 599.8769475231177, 599.3925888878208, 597.9053156489815, 599.4344826658031, 599.4739398184588, 597.9998413028094, 599.3072221028184, 599.4267095689132, 594.8855562312169, 598.1442777010669, 599.3403878196974, 596.4000000000002, 599.4872425436074, 598.4121498955768, 599.1280152707554, 599.0431271459353, 599.8183519303609, 599.9552838300036, 597.4313939692993, 599.508907604064, 599.8995127486579, 599.1152169134895, 598.5581393731945, 598.0404771313262, 599.267021574053, 597.1979560828488, 598.2169445592663, 597.297166697082, 599.9783061917799, 598.4941359855472, 594.8867506419678, 599.3422683925488, 598.8807167366689, 599.6103299259055, 599.5906480654339, 599.1659822112471, 599.0813386148145, 597.8445698819107, 598.2498992674136, 594.2631367772569, 599.0461070249742, 596.1950373068582, 599.6898146178114, 599.0268863548624, 599.3370864016354, 599.0932154048144, 595.2297418819987, 596.8864939853306, 597.7603072281895, 599.7647252769698, 596.2462059410126, 599.6436598938009, 599.1615331390606, 599.205688472734, 596.5806793251245, 595.9572100682193, 597.9045487755652, 597.9895138472369, 599.6538386118557, 599.1662533207742, 599.6840349263271, 595.9134483552151]\n"
     ]
    },
    {
     "data": {
      "image/png": "[encoded data removed]",
      "text/plain": [
       "<Figure size 1000x600 with 1 Axes>"
      ]
     },
     "metadata": {},
     "output_type": "display_data"
    }
   ],
   "source": [
    "mksdf = pd.DataFrame(makespan, columns=['Makespan'])\n",
    "mksdf.to_excel('makespan.xlsx')\n",
    "print(makespan)\n",
    "# Crea il grafico a linee\n",
    "plt.figure(figsize=(10, 6))\n",
    "plt.plot(makespan, marker='o', linestyle='-', color='b', label='Makespan')\n",
    "\n",
    "# Aggiungi etichette e titolo\n",
    "plt.xlabel('Iterazione')\n",
    "plt.ylabel('Makespan (secondi)')\n",
    "plt.title('Variazione del Makespan nel Tempo')\n",
    "plt.legend()\n",
    "\n",
    "# Mostra il grafico\n",
    "plt.grid(True)\n",
    "plt.show()"
   ]
  },
  {
   "cell_type": "code",
   "execution_count": 61,
   "metadata": {},
   "outputs": [
    {
     "data": {
      "text/plain": [
       "<Axes: title={'center': 'Makespan Rolling Mean'}>"
      ]
     },
     "execution_count": 61,
     "metadata": {},
     "output_type": "execute_result"
    },
    {
     "data": {
      "image/png": "[encoded data removed]",
      "text/plain": [
       "<Figure size 1000x600 with 1 Axes>"
      ]
     },
     "metadata": {},
     "output_type": "display_data"
    }
   ],
   "source": [
    "mksdf.rolling(window=30).mean().plot(figsize=(10, 6), title='Makespan Rolling Mean')"
   ]
  }
 ],
 "metadata": {
  "kernelspec": {
   "display_name": ".venv",
   "language": "python",
   "name": "python3"
  },
  "language_info": {
   "codemirror_mode": {
    "name": "ipython",
    "version": 3
   },
   "file_extension": ".py",
   "mimetype": "text/x-python",
   "name": "python",
   "nbconvert_exporter": "python",
   "pygments_lexer": "ipython3",
   "version": "3.11.9"
  }
 },
 "nbformat": 4,
 "nbformat_minor": 2
}
