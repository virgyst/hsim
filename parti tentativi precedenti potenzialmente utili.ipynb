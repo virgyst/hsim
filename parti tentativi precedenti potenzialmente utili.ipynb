{
 "cells": [
  {
   "cell_type": "code",
   "execution_count": null,
   "metadata": {},
   "outputs": [],
   "source": [
    "\n",
    "    #     # print(\"final_reward\",final_reward)\n",
    "    #     # for transition in last_episode [:-1]:\n",
    "    #     #     final_reward += transition[2]\n",
    "    #     max_reward=0\n",
    "    #     min_reward=(-self.total_production_time-500)\n",
    "        \n",
    "    #     # Aggiorna i reward delle transizioni nell'episodio\n",
    "    #     try:\n",
    "    #         for t in range(len(last_episode)):\n",
    "    #             state, action, reward, next_state, done = last_episode[t]\n",
    "    #             discount_factor = self.gamma ** (len(last_episode) - t - 1)\n",
    "    #             normalized_rewards = 2 * (final_reward - min_reward) / (max_reward - min_reward) - 1\n",
    "    #             if t == len(last_episode) - 1:\n",
    "    #                 print(f\"questo è quanto è lungo episodio {t} -1\")\n",
    "    #                 # normalized_rewards = 2 * (final_reward - min_reward) / (max_reward - min_reward) - 1\n",
    "    #                 last_episode[t] = (state, action, normalized_rewards, next_state, True)\n",
    "    #                 # print(f\"final reward {final_reward}\")\n",
    "    #                 # print(f\"ciao max reward {max_reward}\")\n",
    "    #                 # print(f\" min reeward {min_reward}\")\n",
    "    #                 print(f\"reward finale normalizzato {normalized_rewards}\")\n",
    "    #             else:\n",
    "    #                 # Somma il reward finale scontato al reward intermedio\n",
    "    #                 #normalized_rewards = 2 * (final_reward - min_reward) / (max_reward - min_reward) - 1\n",
    "    #                 discounted_final_reward = discount_factor * normalized_rewards\n",
    "    #                 updated_reward = discounted_final_reward\n",
    "    #                 #normalized_rewards = 2 * (updated_reward - min_reward) / (max_reward - min_reward) - 1\n",
    "    #                 last_episode[t] = (state, action, updated_reward, next_state, done)\n",
    "\n",
    "\n",
    "\n",
    "            # except IndexError as e:\n",
    "            #     print(f\"IndexError encountered: {e}\")\n",
    "            #     return\n",
    "        "
   ]
  }
 ],
 "metadata": {
  "language_info": {
   "name": "python"
  }
 },
 "nbformat": 4,
 "nbformat_minor": 2
}
