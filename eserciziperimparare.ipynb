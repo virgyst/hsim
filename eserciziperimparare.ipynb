{
 "cells": [
  {
   "cell_type": "code",
   "execution_count": 1,
   "metadata": {},
   "outputs": [],
   "source": [
    "class Studente:\n",
    "    def __init__(self, nome, cognome, corso_di_studi):\n",
    "        self.nome = nome\n",
    "        self.cognome = cognome\n",
    "        self.corso_di_studi = corso_di_studi"
   ]
  },
  {
   "cell_type": "code",
   "execution_count": 3,
   "metadata": {},
   "outputs": [
    {
     "name": "stdout",
     "output_type": "stream",
     "text": [
      "<__main__.Studente object at 0x000001BF6B1CC290>\n"
     ]
    }
   ],
   "source": [
    "studente_uno=Studente(\"Mario\", \"Rossi\", \"Informatica\")\n",
    "print(studente_uno)\n"
   ]
  }
 ],
 "metadata": {
  "kernelspec": {
   "display_name": ".venv",
   "language": "python",
   "name": "python3"
  },
  "language_info": {
   "codemirror_mode": {
    "name": "ipython",
    "version": 3
   },
   "file_extension": ".py",
   "mimetype": "text/x-python",
   "name": "python",
   "nbconvert_exporter": "python",
   "pygments_lexer": "ipython3",
   "version": "3.11.9"
  }
 },
 "nbformat": 4,
 "nbformat_minor": 2
}
